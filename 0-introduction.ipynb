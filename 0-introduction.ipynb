{
 "cells": [
  {
   "cell_type": "markdown",
   "metadata": {
    "slideshow": {
     "slide_type": "skip"
    }
   },
   "source": [
    "# Lesson 0: Introduction\n",
    "\n",
    "##### Navigation Links\n",
    "\n",
    "- [Workshop description](https://jenfly.github.io/eoas-python/)\n",
    "- [Computer setup instructions](https://jenfly.github.io/eoas-python/SETUP)\n",
    "- Lessons:\n",
    "  - **0 - Introduction**\n",
    "  - [1 - Python Basics](1-python-basics.ipynb)\n",
    "  - [2 - Reading & Summarizing CSV Data](2-reading-summarizing-csv-data.ipynb)\n",
    "  - [3 - Basic Calculations & Plots](3-basic-calculations-plots.ipynb)\n",
    "  - [4 - Sorting, Filtering & Aggregation](4-sorting-filtering-aggregation.ipynb)\n",
    "  - [5 - Indexing & Subsets](5-indexing-subsets.ipynb)\n",
    "  - [6 - Visualization & Geographic Maps](6-visualization-geographic-maps.ipynb)\n",
    "- [Pandas cheatsheet](pandas-cheatsheet.ipynb)\n",
    "- [Solutions to exercises](solutions/solutions-1.ipynb)\n",
    "- [Additional resources](resources.ipynb)\n",
    "- [Post-workshop survey](http://bit.ly/eoas-python-survey)"
   ]
  },
  {
   "cell_type": "markdown",
   "metadata": {
    "slideshow": {
     "slide_type": "slide"
    }
   },
   "source": [
    "## Welcome to EOAS Python Workshop!\n",
    "\n",
    "1. View slides in your browser: [bit.ly/eoas-python-slides](http://bit.ly/eoas-python-slides)\n",
    "\n",
    "2. Download files: [bit.ly/eoas-python-download](http://bit.ly/eoas-python-download)\n",
    "  - Unzip / extract the *eoas-python-master* folder and note where it is located (e.g. Downloads, Desktop, etc.). If desired, move it to another location on your hard drive.\n",
    "  \n",
    "3. Open JupyterLab &mdash; 3 options, depending on your setup:\n",
    "  1. Open Anaconda Navigator and click \"Launch\" underneath the \"lab\" icon, or\n",
    "  2. Open Terminal (Mac/Linux) or Anaconda Prompt (Windows) and run `jupyter lab` at the command line, or\n",
    "  3. Go to [ubc.syzygy.ca](https://ubc.syzygy.ca/), click on \"Sign-In\" in the top right corner, and sign in with your CWL credentials."
   ]
  },
  {
   "cell_type": "markdown",
   "metadata": {
    "slideshow": {
     "slide_type": "slide"
    }
   },
   "source": [
    "# Agenda\n",
    "\n",
    "### Today\n",
    "\n",
    "- Lesson 0: Introduction (45 min)\n",
    "  - Overview of scientific computing in Python\n",
    "  - JupyterLab and Jupyter notebooks\n",
    "- Lesson 1: Python Basics (1 hr 45 min)\n",
    "- Lesson 2: Reading & Summarizing CSV Data (30 min)"
   ]
  },
  {
   "cell_type": "markdown",
   "metadata": {
    "slideshow": {
     "slide_type": "fragment"
    }
   },
   "source": [
    "### Tomorrow\n",
    "\n",
    "- Lesson 3: Basic Calculations & Plots (45 min)\n",
    "- Lesson 4: Sorting, Filtering & Aggregation (45 min)\n",
    "- Lesson 5: Indexing & Subsets (45 min)\n",
    "- Lesson 6: Visualization & Geographic Maps (45 min)"
   ]
  },
  {
   "cell_type": "markdown",
   "metadata": {
    "slideshow": {
     "slide_type": "slide"
    }
   },
   "source": [
    "# Why Python for science?\n",
    "\n",
    "- Free + open source\n",
    "  - Transparency + reproducibility\n",
    "  - Equal access\n",
    "  - Sharing + collaboration\n",
    "\n",
    "> *Fernando Perez - Project Jupyter: From Interactive Python to Open Science* [(video)](https://youtu.be/xuNj5paMuow) [(slides)](https://conferences.oreilly.com/jupyter/jup-ny-2017/public/schedule/detail/62419)"
   ]
  },
  {
   "cell_type": "markdown",
   "metadata": {
    "slideshow": {
     "slide_type": "fragment"
    }
   },
   "source": [
    "- Powerhouse for scientific computing + data analysis\n",
    "  - High-level, user friendly interface\n",
    "  - Efficient computation with Fortran, C/C++ etc. behind the scenes"
   ]
  },
  {
   "cell_type": "markdown",
   "metadata": {
    "slideshow": {
     "slide_type": "fragment"
    }
   },
   "source": [
    "- General purpose programming language\n",
    "\n",
    "![python_uses](img/python_uses.png)\n",
    "\n",
    "From: [Python Developers Survey 2017](https://www.jetbrains.com/research/python-developers-survey-2017)"
   ]
  },
  {
   "cell_type": "markdown",
   "metadata": {
    "slideshow": {
     "slide_type": "fragment"
    }
   },
   "source": [
    "- Python as \"glue\"\n",
    "\n",
    "> *Jake VanderPlas - The Unexpected Effectiveness of Python in Science* [(video)](https://www.youtube.com/watch?v=ZyjCqQEUa8o) [(slides)](https://speakerdeck.com/jakevdp/the-unexpected-effectiveness-of-python-in-science)"
   ]
  },
  {
   "cell_type": "markdown",
   "metadata": {
    "slideshow": {
     "slide_type": "fragment"
    }
   },
   "source": [
    "Example: download and merge tens/hundreds of [Environment Canada weather data files](http://climate.weather.gc.ca/climate_data/daily_data_e.html?hlyRange=2013-06-11%7C2018-10-02&dlyRange=2013-06-13%7C2018-10-02&mlyRange=%7C&StationID=51442&Prov=BC&urlExtension=_e.html&searchType=stnName&optLimit=yearRange&StartYear=1840&EndYear=2018&selRowPerPage=100&Line=39&searchMethod=contains&Month=10&Day=2&txtStationName=vancouver&timeframe=2&Year=2018)"
   ]
  },
  {
   "cell_type": "markdown",
   "metadata": {
    "slideshow": {
     "slide_type": "skip"
    }
   },
   "source": [
    "> If you'd like to learn more about downloading and merging data with Python, you can work through the following bonus exercises, which progress through the data wrangling techniques needed for the Environment Canada weather data.\n",
    ">\n",
    ">- 1.1(d)\n",
    ">- 1.3(d) \n",
    ">- 2(e), (f) \n",
    ">- 3(h)\n",
    ">- 4(g)"
   ]
  },
  {
   "cell_type": "markdown",
   "metadata": {
    "slideshow": {
     "slide_type": "slide"
    }
   },
   "source": [
    "# Jupyter\n",
    "\n",
    "- **JupyterLab**: Development environment for scientific computing + data analysis\n",
    "- Within JupyterLab, we'll be using Jupyter **notebooks**:\n",
    "  - Code, plots, formatted text, equations, etc. in a single document\n",
    "  - Uses an IPython kernel to run Python code (IPython = \"Interactive Python\")\n",
    "  - Also supports R, Julia, Perl, and over 100 other languages (and counting!)"
   ]
  },
  {
   "cell_type": "markdown",
   "metadata": {
    "slideshow": {
     "slide_type": "fragment"
    }
   },
   "source": [
    "## Example Notebook\n",
    "\n",
    "[Demo](example-notebook.ipynb)"
   ]
  },
  {
   "cell_type": "markdown",
   "metadata": {
    "slideshow": {
     "slide_type": "fragment"
    }
   },
   "source": [
    "- Notebooks are great for exploration and for documenting your workflow\n",
    "- Many options for sharing notebooks in human readable format:\n",
    "  - Share online with [nbviewer.jupyter.org](http://nbviewer.jupyter.org/)\n",
    "  - If you use Github, any notebooks you upload are automatically rendered on the site\n",
    "  - Convert to HTML, PDF, etc. with [nbconvert](https://nbconvert.readthedocs.io/en/latest/)"
   ]
  },
  {
   "cell_type": "markdown",
   "metadata": {
    "slideshow": {
     "slide_type": "slide"
    }
   },
   "source": [
    "# Other Workflows & Environments\n",
    "\n",
    "For repetitive tasks, you can re-use code by creating a **library** or automate a workflow with a Python **script**.\n",
    "- Code is saved in `.py` text files\n",
    "- There are many, many options for development environments:\n",
    "  - Command line + text editor (e.g. Atom, Sublime, Emacs, etc.)\n",
    "  - Integrated development environment (e.g. PyCharm, Spyder, Visual Studio Code, etc.)"
   ]
  },
  {
   "cell_type": "markdown",
   "metadata": {
    "slideshow": {
     "slide_type": "fragment"
    }
   },
   "source": [
    "  \n",
    "In this workshop, we will focus only on Jupyter notebooks.\n",
    "- For a great example of a typical workflow of interactive exploration in Jupyter $\\rightarrow$ automation with libraries/scripts, check out Jake VanderPlas' blog post [Reproducible Data Analysis in Jupyter](https://jakevdp.github.io/blog/2017/03/03/reproducible-data-analysis-in-jupyter/)."
   ]
  },
  {
   "cell_type": "markdown",
   "metadata": {
    "slideshow": {
     "slide_type": "slide"
    }
   },
   "source": [
    "# Getting Started with JupyterLab\n",
    "\n",
    "Let's take a tour of the main features of JupyterLab and create our first Jupyter notebook!\n",
    "\n",
    "If you're running JupyterLab locally on your computer:\n",
    "- Navigate to your `eoas-python-master` folder\n",
    "\n",
    "If you're working online at [ubc.syzygy.ca](https://ubc.syzygy.ca/):\n",
    "- To switch from the older Jupyter notebook app to JupyterLab, edit the url to replace `/tree` with `/lab`\n",
    "- For example, if your CWL username is `bsmith00`, change the url from https://ubc.syzygy.ca/jupyter/user/bsmith00/tree to https://ubc.syzygy.ca/jupyter/user/bsmith00/lab\n",
    "    \n",
    "\n",
    "[This quick-start tutorial](http://bit.ly/jupyter-quickstart) may be a helpful reference as you navigate around JupyterLab."
   ]
  },
  {
   "cell_type": "markdown",
   "metadata": {
    "slideshow": {
     "slide_type": "fragment"
    }
   },
   "source": [
    "### Jupyter Tour\n",
    "\n",
    "- Files Sidebar - show/hide\n",
    "- Demo CSV viewer, text editor\n",
    "- Create a new notebook\n",
    "  - Note the .ipynb extension (comes from \"IPython notebook\", the previous name before it was changed to Jupyter to reflect multi-language support)\n",
    "  - Rename the notebook to \"workshop.ipynb\"\n",
    "- Notebooks auto-save periodically, or you can manually save\n",
    "- Next time you open JupyterLab, you can open your \"workshop.ipynb\" notebook by double-clicking it in the Files Sidebar"
   ]
  },
  {
   "cell_type": "markdown",
   "metadata": {
    "slideshow": {
     "slide_type": "slide"
    }
   },
   "source": [
    "# Working with Notebooks\n",
    "\n",
    "A notebook consists of a series of \"cells\":\n",
    "- **Code cells**: execute snippets of code and display the output\n",
    "- **Markdown cells**: formatted text, equations, images, and more\n",
    "\n",
    "By default, a new cell is always a code cell."
   ]
  },
  {
   "cell_type": "markdown",
   "metadata": {
    "slideshow": {
     "slide_type": "fragment"
    }
   },
   "source": [
    "## Code Cells\n",
    "\n",
    "### Python as a Calculator\n",
    "\n",
    "- We can use mathematical operators such as `+`, `-`, `*`, `/`, `**`\n",
    "- To run a cell, press `Shift-Enter` or press the Run button on the Notebook Toolbar"
   ]
  },
  {
   "cell_type": "code",
   "execution_count": 1,
   "metadata": {
    "slideshow": {
     "slide_type": "fragment"
    }
   },
   "outputs": [
    {
     "data": {
      "text/plain": [
       "4"
      ]
     },
     "execution_count": 1,
     "metadata": {},
     "output_type": "execute_result"
    }
   ],
   "source": [
    "2 + 2"
   ]
  },
  {
   "cell_type": "code",
   "execution_count": 2,
   "metadata": {
    "slideshow": {
     "slide_type": "fragment"
    }
   },
   "outputs": [
    {
     "data": {
      "text/plain": [
       "0.75"
      ]
     },
     "execution_count": 2,
     "metadata": {},
     "output_type": "execute_result"
    }
   ],
   "source": [
    "3 / 4"
   ]
  },
  {
   "cell_type": "code",
   "execution_count": 3,
   "metadata": {
    "slideshow": {
     "slide_type": "fragment"
    }
   },
   "outputs": [
    {
     "data": {
      "text/plain": [
       "30"
      ]
     },
     "execution_count": 3,
     "metadata": {},
     "output_type": "execute_result"
    }
   ],
   "source": [
    "5 * 6"
   ]
  },
  {
   "cell_type": "code",
   "execution_count": 4,
   "metadata": {
    "slideshow": {
     "slide_type": "fragment"
    }
   },
   "outputs": [
    {
     "data": {
      "text/plain": [
       "49"
      ]
     },
     "execution_count": 4,
     "metadata": {},
     "output_type": "execute_result"
    }
   ],
   "source": [
    "7 ** 2"
   ]
  },
  {
   "cell_type": "markdown",
   "metadata": {
    "slideshow": {
     "slide_type": "fragment"
    }
   },
   "source": [
    "Combining mathematical operators:"
   ]
  },
  {
   "cell_type": "code",
   "execution_count": 5,
   "metadata": {
    "slideshow": {
     "slide_type": "-"
    }
   },
   "outputs": [
    {
     "data": {
      "text/plain": [
       "15.0"
      ]
     },
     "execution_count": 5,
     "metadata": {},
     "output_type": "execute_result"
    }
   ],
   "source": [
    "5 + 30 / 3"
   ]
  },
  {
   "cell_type": "code",
   "execution_count": 6,
   "metadata": {
    "slideshow": {
     "slide_type": "fragment"
    }
   },
   "outputs": [
    {
     "data": {
      "text/plain": [
       "11.666666666666666"
      ]
     },
     "execution_count": 6,
     "metadata": {},
     "output_type": "execute_result"
    }
   ],
   "source": [
    "(5 + 30) / 3"
   ]
  },
  {
   "cell_type": "markdown",
   "metadata": {
    "slideshow": {
     "slide_type": "slide"
    }
   },
   "source": [
    "## Markdown Cells\n",
    "\n",
    "In Markdown cells, you can write plain text or add formatting and other elements with [Markdown](https://github.com/adam-p/markdown-here/wiki/Markdown-Cheatsheet). These include headers, **bold text**, *italic text*, hyperlinks, equations $A=\\pi r^2$, inline code `print('Hello world!')`, bulleted lists, and more."
   ]
  },
  {
   "cell_type": "markdown",
   "metadata": {
    "slideshow": {
     "slide_type": "fragment"
    }
   },
   "source": [
    "- To create a Markdown cell, select an empty cell and change the cell type from \"Code\" to \"Markdown\" in the dropdown menu of the Notebook Toolbar\n",
    "- To run a Markdown cell, press `Shift-Enter` or the Run button from the Notebook Toolbar\n",
    "- To edit a Markdown cell, you need to double-click inside it"
   ]
  },
  {
   "cell_type": "markdown",
   "metadata": {
    "slideshow": {
     "slide_type": "slide"
    }
   },
   "source": [
    "# Other Notebook Basics\n",
    "\n",
    "- Organizating cells &mdash; insert, delete, cut/copy/paste, move up/down, split, merge\n",
    "- Closing vs. shutting down a notebook &mdash; kernel process in background\n",
    "- Re-opening a notebook after shutdown\n",
    "  - All the code output is maintained from the previous kernel session\n",
    "- Clear output of all cells or selected cell(s)\n",
    "- Running all cells or selected cell(s)\n",
    "- Restarting and interrupting the kernel"
   ]
  },
  {
   "cell_type": "markdown",
   "metadata": {
    "slideshow": {
     "slide_type": "slide"
    }
   },
   "source": [
    "# Python Scientific Ecosystem\n",
    "\n",
    "A **library** is a collection of pre-written code. It can consist of:\n",
    "- A single file with Python code (a *module*), or\n",
    "- A collection of multiple files bundled together (a *package*)"
   ]
  },
  {
   "cell_type": "markdown",
   "metadata": {
    "slideshow": {
     "slide_type": "fragment"
    }
   },
   "source": [
    "Some libraries come built-in with core Python but most are developed and maintained by external \"3rd party\" development teams\n",
    "- Python core + 3rd party libraries = **ecosystem** \n",
    "- To install and manage 3rd party libraries, you need to use a package manager such as `conda` (which comes with Anaconda/Miniconda)"
   ]
  },
  {
   "cell_type": "markdown",
   "metadata": {
    "slideshow": {
     "slide_type": "fragment"
    }
   },
   "source": [
    "Over-simplified view of the ecosystem we'll be using in this workshop:\n",
    "\n",
    "![ecosystem](img/ecosystem.png)"
   ]
  },
  {
   "cell_type": "markdown",
   "metadata": {
    "slideshow": {
     "slide_type": "fragment"
    }
   },
   "source": [
    "Some of the main libraries in the Python scientific ecosystem:\n",
    "\n",
    "![ecosystem_big](img/ecosystem_big.png)\n",
    "\n",
    "From [The Unexpected Effectiveness of Python in Science](https://speakerdeck.com/jakevdp/the-unexpected-effectiveness-of-python-in-science) (Jake VanderPlas)"
   ]
  },
  {
   "cell_type": "markdown",
   "metadata": {
    "slideshow": {
     "slide_type": "slide"
    }
   },
   "source": [
    "In this workshop, we'll be focusing on Pandas, with a brief introduction to Matplotlib and Cartopy.\n",
    "\n",
    "Other useful libraries for scientific computing include:\n",
    "\n",
    "- [Numpy + Scipy](https://www.scipy.org/getting-started.html) - Numeric and scientific tools including: \n",
    "  - Linear algebra\n",
    "  - Statistics and random numbers\n",
    "  - Numerical integration\n",
    "  - Differential equations\n",
    "  - Interpolation, optimization and curve fitting\n",
    "  - Special functions\n",
    "  - Fast Fourier transforms\n",
    "  - Signal processing\n",
    "- [Matplotlib](https://matplotlib.org/) for visualization\n",
    "- [Seaborn](https://seaborn.pydata.org/) for statistical data visualization\n",
    "- [Statsmodels](https://www.statsmodels.org/stable/index.html) for statistical analysis and modelling\n",
    "- [Sympy](https://docs.sympy.org/latest/tutorial/intro.html) for symbolic computation\n",
    "\n",
    "See the [additional resources page](resources.ipynb) for links to tutorials and examples for these libraries."
   ]
  },
  {
   "cell_type": "markdown",
   "metadata": {
    "slideshow": {
     "slide_type": "skip"
    }
   },
   "source": [
    "---\n",
    "\n",
    "Go to: [next lesson](1-python-basics.ipynb)"
   ]
  }
 ],
 "metadata": {
  "celltoolbar": "Slideshow",
  "kernelspec": {
   "display_name": "Python [default]",
   "language": "python",
   "name": "python3"
  },
  "language_info": {
   "codemirror_mode": {
    "name": "ipython",
    "version": 3
   },
   "file_extension": ".py",
   "mimetype": "text/x-python",
   "name": "python",
   "nbconvert_exporter": "python",
   "pygments_lexer": "ipython3",
   "version": "3.6.4"
  },
  "livereveal": {
   "scroll": true,
   "theme": "solarized",
   "transition": "none"
  }
 },
 "nbformat": 4,
 "nbformat_minor": 2
}
