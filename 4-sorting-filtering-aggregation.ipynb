{
 "cells": [
  {
   "cell_type": "markdown",
   "metadata": {
    "slideshow": {
     "slide_type": "slide"
    }
   },
   "source": [
    "# Lesson 4: Sorting, Filtering, and Aggregation"
   ]
  },
  {
   "cell_type": "markdown",
   "metadata": {
    "slideshow": {
     "slide_type": "skip"
    }
   },
   "source": [
    "## Initial Setup\n",
    "\n",
    "Import libraries and initialize variables to pick up where we left off in the previous lesson."
   ]
  },
  {
   "cell_type": "code",
   "execution_count": 1,
   "metadata": {
    "slideshow": {
     "slide_type": "skip"
    }
   },
   "outputs": [],
   "source": [
    "import pandas\n",
    "%matplotlib inline"
   ]
  },
  {
   "cell_type": "code",
   "execution_count": 2,
   "metadata": {
    "slideshow": {
     "slide_type": "skip"
    }
   },
   "outputs": [],
   "source": [
    "weather = pandas.read_csv('data/weather_YVR.csv')\n",
    "weather['Date'] = pandas.to_datetime(weather['Date'])\n",
    "weather['Rain (inches)'] = weather['Rain (mm)'] / 25.4\n",
    "weather['T_range (C)'] = weather['T_high (C)'] - weather['T_low (C)']"
   ]
  },
  {
   "cell_type": "code",
   "execution_count": 3,
   "metadata": {
    "slideshow": {
     "slide_type": "skip"
    }
   },
   "outputs": [],
   "source": [
    "world = pandas.read_csv('data/gapminder_world_data_2018.csv')\n",
    "world['area'] = world['population'] / world['pop_density']"
   ]
  },
  {
   "cell_type": "markdown",
   "metadata": {
    "slideshow": {
     "slide_type": "slide"
    }
   },
   "source": [
    "# Sorting\n",
    "\n",
    "- It's often convenient to have data in a sorted form\n",
    "- In Excel, we can sort our data based on the values in a column\n",
    "  - We can do the same with `pandas` DataFrames\n",
    "- We can also use sorting to answer questions about the extreme (highest / lowest) values in our data"
   ]
  },
  {
   "cell_type": "code",
   "execution_count": 4,
   "metadata": {
    "slideshow": {
     "slide_type": "fragment"
    }
   },
   "outputs": [
    {
     "data": {
      "text/html": [
       "<div>\n",
       "<style scoped>\n",
       "    .dataframe tbody tr th:only-of-type {\n",
       "        vertical-align: middle;\n",
       "    }\n",
       "\n",
       "    .dataframe tbody tr th {\n",
       "        vertical-align: top;\n",
       "    }\n",
       "\n",
       "    .dataframe thead th {\n",
       "        text-align: right;\n",
       "    }\n",
       "</style>\n",
       "<table border=\"1\" class=\"dataframe\">\n",
       "  <thead>\n",
       "    <tr style=\"text-align: right;\">\n",
       "      <th></th>\n",
       "      <th>Year</th>\n",
       "      <th>Month</th>\n",
       "      <th>Day</th>\n",
       "      <th>T_mean (C)</th>\n",
       "      <th>T_high (C)</th>\n",
       "      <th>T_low (C)</th>\n",
       "      <th>Rain (mm)</th>\n",
       "      <th>Snow (cm)</th>\n",
       "      <th>Total Precip (mm)</th>\n",
       "      <th>Rain (inches)</th>\n",
       "      <th>T_range (C)</th>\n",
       "    </tr>\n",
       "  </thead>\n",
       "  <tbody>\n",
       "    <tr>\n",
       "      <th>count</th>\n",
       "      <td>29190.000000</td>\n",
       "      <td>29190.000000</td>\n",
       "      <td>29190.000000</td>\n",
       "      <td>29167.000000</td>\n",
       "      <td>29169.000000</td>\n",
       "      <td>29180.000000</td>\n",
       "      <td>29126.000000</td>\n",
       "      <td>29138.000000</td>\n",
       "      <td>29166.000000</td>\n",
       "      <td>29126.000000</td>\n",
       "      <td>29167.000000</td>\n",
       "    </tr>\n",
       "    <tr>\n",
       "      <th>mean</th>\n",
       "      <td>1977.479753</td>\n",
       "      <td>6.522336</td>\n",
       "      <td>15.729222</td>\n",
       "      <td>10.133692</td>\n",
       "      <td>13.780767</td>\n",
       "      <td>6.440062</td>\n",
       "      <td>2.985731</td>\n",
       "      <td>0.121779</td>\n",
       "      <td>3.107351</td>\n",
       "      <td>0.117548</td>\n",
       "      <td>7.339826</td>\n",
       "    </tr>\n",
       "    <tr>\n",
       "      <th>std</th>\n",
       "      <td>23.093891</td>\n",
       "      <td>3.448584</td>\n",
       "      <td>8.801167</td>\n",
       "      <td>5.803549</td>\n",
       "      <td>6.408815</td>\n",
       "      <td>5.514129</td>\n",
       "      <td>6.231114</td>\n",
       "      <td>1.146298</td>\n",
       "      <td>6.325946</td>\n",
       "      <td>0.245319</td>\n",
       "      <td>2.901213</td>\n",
       "    </tr>\n",
       "    <tr>\n",
       "      <th>min</th>\n",
       "      <td>1938.000000</td>\n",
       "      <td>1.000000</td>\n",
       "      <td>1.000000</td>\n",
       "      <td>-14.500000</td>\n",
       "      <td>-11.100000</td>\n",
       "      <td>-17.800000</td>\n",
       "      <td>0.000000</td>\n",
       "      <td>0.000000</td>\n",
       "      <td>0.000000</td>\n",
       "      <td>0.000000</td>\n",
       "      <td>0.800000</td>\n",
       "    </tr>\n",
       "    <tr>\n",
       "      <th>25%</th>\n",
       "      <td>1957.000000</td>\n",
       "      <td>4.000000</td>\n",
       "      <td>8.000000</td>\n",
       "      <td>5.900000</td>\n",
       "      <td>8.900000</td>\n",
       "      <td>2.600000</td>\n",
       "      <td>0.000000</td>\n",
       "      <td>0.000000</td>\n",
       "      <td>0.000000</td>\n",
       "      <td>0.000000</td>\n",
       "      <td>5.100000</td>\n",
       "    </tr>\n",
       "    <tr>\n",
       "      <th>50%</th>\n",
       "      <td>1977.000000</td>\n",
       "      <td>7.000000</td>\n",
       "      <td>16.000000</td>\n",
       "      <td>10.000000</td>\n",
       "      <td>13.300000</td>\n",
       "      <td>6.700000</td>\n",
       "      <td>0.000000</td>\n",
       "      <td>0.000000</td>\n",
       "      <td>0.000000</td>\n",
       "      <td>0.000000</td>\n",
       "      <td>7.200000</td>\n",
       "    </tr>\n",
       "    <tr>\n",
       "      <th>75%</th>\n",
       "      <td>1997.750000</td>\n",
       "      <td>10.000000</td>\n",
       "      <td>23.000000</td>\n",
       "      <td>15.000000</td>\n",
       "      <td>18.900000</td>\n",
       "      <td>11.100000</td>\n",
       "      <td>3.200000</td>\n",
       "      <td>0.000000</td>\n",
       "      <td>3.400000</td>\n",
       "      <td>0.125984</td>\n",
       "      <td>9.400000</td>\n",
       "    </tr>\n",
       "    <tr>\n",
       "      <th>max</th>\n",
       "      <td>2017.000000</td>\n",
       "      <td>12.000000</td>\n",
       "      <td>31.000000</td>\n",
       "      <td>28.400000</td>\n",
       "      <td>34.400000</td>\n",
       "      <td>22.400000</td>\n",
       "      <td>91.600000</td>\n",
       "      <td>41.000000</td>\n",
       "      <td>91.600000</td>\n",
       "      <td>3.606299</td>\n",
       "      <td>20.000000</td>\n",
       "    </tr>\n",
       "  </tbody>\n",
       "</table>\n",
       "</div>"
      ],
      "text/plain": [
       "               Year         Month           Day    T_mean (C)    T_high (C)  \\\n",
       "count  29190.000000  29190.000000  29190.000000  29167.000000  29169.000000   \n",
       "mean    1977.479753      6.522336     15.729222     10.133692     13.780767   \n",
       "std       23.093891      3.448584      8.801167      5.803549      6.408815   \n",
       "min     1938.000000      1.000000      1.000000    -14.500000    -11.100000   \n",
       "25%     1957.000000      4.000000      8.000000      5.900000      8.900000   \n",
       "50%     1977.000000      7.000000     16.000000     10.000000     13.300000   \n",
       "75%     1997.750000     10.000000     23.000000     15.000000     18.900000   \n",
       "max     2017.000000     12.000000     31.000000     28.400000     34.400000   \n",
       "\n",
       "          T_low (C)     Rain (mm)     Snow (cm)  Total Precip (mm)  \\\n",
       "count  29180.000000  29126.000000  29138.000000       29166.000000   \n",
       "mean       6.440062      2.985731      0.121779           3.107351   \n",
       "std        5.514129      6.231114      1.146298           6.325946   \n",
       "min      -17.800000      0.000000      0.000000           0.000000   \n",
       "25%        2.600000      0.000000      0.000000           0.000000   \n",
       "50%        6.700000      0.000000      0.000000           0.000000   \n",
       "75%       11.100000      3.200000      0.000000           3.400000   \n",
       "max       22.400000     91.600000     41.000000          91.600000   \n",
       "\n",
       "       Rain (inches)   T_range (C)  \n",
       "count   29126.000000  29167.000000  \n",
       "mean        0.117548      7.339826  \n",
       "std         0.245319      2.901213  \n",
       "min         0.000000      0.800000  \n",
       "25%         0.000000      5.100000  \n",
       "50%         0.000000      7.200000  \n",
       "75%         0.125984      9.400000  \n",
       "max         3.606299     20.000000  "
      ]
     },
     "execution_count": 4,
     "metadata": {},
     "output_type": "execute_result"
    }
   ],
   "source": [
    "weather.describe()"
   ]
  },
  {
   "cell_type": "code",
   "execution_count": 5,
   "metadata": {},
   "outputs": [
    {
     "data": {
      "text/html": [
       "<div>\n",
       "<style scoped>\n",
       "    .dataframe tbody tr th:only-of-type {\n",
       "        vertical-align: middle;\n",
       "    }\n",
       "\n",
       "    .dataframe tbody tr th {\n",
       "        vertical-align: top;\n",
       "    }\n",
       "\n",
       "    .dataframe thead th {\n",
       "        text-align: right;\n",
       "    }\n",
       "</style>\n",
       "<table border=\"1\" class=\"dataframe\">\n",
       "  <thead>\n",
       "    <tr style=\"text-align: right;\">\n",
       "      <th></th>\n",
       "      <th>Date</th>\n",
       "      <th>Year</th>\n",
       "      <th>Month</th>\n",
       "      <th>Day</th>\n",
       "      <th>T_mean (C)</th>\n",
       "      <th>T_high (C)</th>\n",
       "      <th>T_low (C)</th>\n",
       "      <th>Rain (mm)</th>\n",
       "      <th>Snow (cm)</th>\n",
       "      <th>Total Precip (mm)</th>\n",
       "      <th>Rain (inches)</th>\n",
       "      <th>T_range (C)</th>\n",
       "    </tr>\n",
       "  </thead>\n",
       "  <tbody>\n",
       "    <tr>\n",
       "      <th>11320</th>\n",
       "      <td>1968-12-29</td>\n",
       "      <td>1968</td>\n",
       "      <td>12</td>\n",
       "      <td>29</td>\n",
       "      <td>-14.5</td>\n",
       "      <td>-11.1</td>\n",
       "      <td>-17.8</td>\n",
       "      <td>0.0</td>\n",
       "      <td>0.0</td>\n",
       "      <td>0.0</td>\n",
       "      <td>0.0</td>\n",
       "      <td>6.7</td>\n",
       "    </tr>\n",
       "    <tr>\n",
       "      <th>4396</th>\n",
       "      <td>1950-01-14</td>\n",
       "      <td>1950</td>\n",
       "      <td>1</td>\n",
       "      <td>14</td>\n",
       "      <td>-14.2</td>\n",
       "      <td>-10.6</td>\n",
       "      <td>-17.8</td>\n",
       "      <td>0.0</td>\n",
       "      <td>0.5</td>\n",
       "      <td>0.5</td>\n",
       "      <td>0.0</td>\n",
       "      <td>7.2</td>\n",
       "    </tr>\n",
       "    <tr>\n",
       "      <th>4407</th>\n",
       "      <td>1950-01-25</td>\n",
       "      <td>1950</td>\n",
       "      <td>1</td>\n",
       "      <td>25</td>\n",
       "      <td>-11.4</td>\n",
       "      <td>-5.6</td>\n",
       "      <td>-17.2</td>\n",
       "      <td>0.0</td>\n",
       "      <td>18.0</td>\n",
       "      <td>18.0</td>\n",
       "      <td>0.0</td>\n",
       "      <td>11.6</td>\n",
       "    </tr>\n",
       "    <tr>\n",
       "      <th>4400</th>\n",
       "      <td>1950-01-18</td>\n",
       "      <td>1950</td>\n",
       "      <td>1</td>\n",
       "      <td>18</td>\n",
       "      <td>-12.0</td>\n",
       "      <td>-7.2</td>\n",
       "      <td>-16.7</td>\n",
       "      <td>0.0</td>\n",
       "      <td>0.0</td>\n",
       "      <td>0.0</td>\n",
       "      <td>0.0</td>\n",
       "      <td>9.5</td>\n",
       "    </tr>\n",
       "    <tr>\n",
       "      <th>9846</th>\n",
       "      <td>1964-12-16</td>\n",
       "      <td>1964</td>\n",
       "      <td>12</td>\n",
       "      <td>16</td>\n",
       "      <td>-13.4</td>\n",
       "      <td>-10.0</td>\n",
       "      <td>-16.7</td>\n",
       "      <td>0.0</td>\n",
       "      <td>0.0</td>\n",
       "      <td>0.0</td>\n",
       "      <td>0.0</td>\n",
       "      <td>6.7</td>\n",
       "    </tr>\n",
       "  </tbody>\n",
       "</table>\n",
       "</div>"
      ],
      "text/plain": [
       "            Date  Year  Month  Day  T_mean (C)  T_high (C)  T_low (C)  \\\n",
       "11320 1968-12-29  1968     12   29       -14.5       -11.1      -17.8   \n",
       "4396  1950-01-14  1950      1   14       -14.2       -10.6      -17.8   \n",
       "4407  1950-01-25  1950      1   25       -11.4        -5.6      -17.2   \n",
       "4400  1950-01-18  1950      1   18       -12.0        -7.2      -16.7   \n",
       "9846  1964-12-16  1964     12   16       -13.4       -10.0      -16.7   \n",
       "\n",
       "       Rain (mm)  Snow (cm)  Total Precip (mm)  Rain (inches)  T_range (C)  \n",
       "11320        0.0        0.0                0.0            0.0          6.7  \n",
       "4396         0.0        0.5                0.5            0.0          7.2  \n",
       "4407         0.0       18.0               18.0            0.0         11.6  \n",
       "4400         0.0        0.0                0.0            0.0          9.5  \n",
       "9846         0.0        0.0                0.0            0.0          6.7  "
      ]
     },
     "execution_count": 5,
     "metadata": {},
     "output_type": "execute_result"
    }
   ],
   "source": [
    "weather.sort_values('T_low (C)').head()"
   ]
  },
  {
   "cell_type": "markdown",
   "metadata": {
    "slideshow": {
     "slide_type": "fragment"
    }
   },
   "source": [
    "For example, the coldest temperature in `weather` is -17.8 C.\n",
    "  - When did this coldest temperature occur?\n",
    "  - Was there any snow on this date?"
   ]
  },
  {
   "cell_type": "markdown",
   "metadata": {
    "slideshow": {
     "slide_type": "fragment"
    }
   },
   "source": [
    "We can answer these questions by using the `sort_values` method to sort the DataFrame based on the values in the `'T_low (C)'` column:"
   ]
  },
  {
   "cell_type": "code",
   "execution_count": 6,
   "metadata": {
    "slideshow": {
     "slide_type": "fragment"
    }
   },
   "outputs": [
    {
     "data": {
      "text/html": [
       "<div>\n",
       "<style scoped>\n",
       "    .dataframe tbody tr th:only-of-type {\n",
       "        vertical-align: middle;\n",
       "    }\n",
       "\n",
       "    .dataframe tbody tr th {\n",
       "        vertical-align: top;\n",
       "    }\n",
       "\n",
       "    .dataframe thead th {\n",
       "        text-align: right;\n",
       "    }\n",
       "</style>\n",
       "<table border=\"1\" class=\"dataframe\">\n",
       "  <thead>\n",
       "    <tr style=\"text-align: right;\">\n",
       "      <th></th>\n",
       "      <th>Date</th>\n",
       "      <th>Year</th>\n",
       "      <th>Month</th>\n",
       "      <th>Day</th>\n",
       "      <th>T_mean (C)</th>\n",
       "      <th>T_high (C)</th>\n",
       "      <th>T_low (C)</th>\n",
       "      <th>Rain (mm)</th>\n",
       "      <th>Snow (cm)</th>\n",
       "      <th>Total Precip (mm)</th>\n",
       "      <th>Rain (inches)</th>\n",
       "      <th>T_range (C)</th>\n",
       "    </tr>\n",
       "  </thead>\n",
       "  <tbody>\n",
       "    <tr>\n",
       "      <th>11320</th>\n",
       "      <td>1968-12-29</td>\n",
       "      <td>1968</td>\n",
       "      <td>12</td>\n",
       "      <td>29</td>\n",
       "      <td>-14.5</td>\n",
       "      <td>-11.1</td>\n",
       "      <td>-17.8</td>\n",
       "      <td>0.0</td>\n",
       "      <td>0.0</td>\n",
       "      <td>0.0</td>\n",
       "      <td>0.0</td>\n",
       "      <td>6.7</td>\n",
       "    </tr>\n",
       "    <tr>\n",
       "      <th>4396</th>\n",
       "      <td>1950-01-14</td>\n",
       "      <td>1950</td>\n",
       "      <td>1</td>\n",
       "      <td>14</td>\n",
       "      <td>-14.2</td>\n",
       "      <td>-10.6</td>\n",
       "      <td>-17.8</td>\n",
       "      <td>0.0</td>\n",
       "      <td>0.5</td>\n",
       "      <td>0.5</td>\n",
       "      <td>0.0</td>\n",
       "      <td>7.2</td>\n",
       "    </tr>\n",
       "    <tr>\n",
       "      <th>4407</th>\n",
       "      <td>1950-01-25</td>\n",
       "      <td>1950</td>\n",
       "      <td>1</td>\n",
       "      <td>25</td>\n",
       "      <td>-11.4</td>\n",
       "      <td>-5.6</td>\n",
       "      <td>-17.2</td>\n",
       "      <td>0.0</td>\n",
       "      <td>18.0</td>\n",
       "      <td>18.0</td>\n",
       "      <td>0.0</td>\n",
       "      <td>11.6</td>\n",
       "    </tr>\n",
       "    <tr>\n",
       "      <th>4400</th>\n",
       "      <td>1950-01-18</td>\n",
       "      <td>1950</td>\n",
       "      <td>1</td>\n",
       "      <td>18</td>\n",
       "      <td>-12.0</td>\n",
       "      <td>-7.2</td>\n",
       "      <td>-16.7</td>\n",
       "      <td>0.0</td>\n",
       "      <td>0.0</td>\n",
       "      <td>0.0</td>\n",
       "      <td>0.0</td>\n",
       "      <td>9.5</td>\n",
       "    </tr>\n",
       "    <tr>\n",
       "      <th>9846</th>\n",
       "      <td>1964-12-16</td>\n",
       "      <td>1964</td>\n",
       "      <td>12</td>\n",
       "      <td>16</td>\n",
       "      <td>-13.4</td>\n",
       "      <td>-10.0</td>\n",
       "      <td>-16.7</td>\n",
       "      <td>0.0</td>\n",
       "      <td>0.0</td>\n",
       "      <td>0.0</td>\n",
       "      <td>0.0</td>\n",
       "      <td>6.7</td>\n",
       "    </tr>\n",
       "  </tbody>\n",
       "</table>\n",
       "</div>"
      ],
      "text/plain": [
       "            Date  Year  Month  Day  T_mean (C)  T_high (C)  T_low (C)  \\\n",
       "11320 1968-12-29  1968     12   29       -14.5       -11.1      -17.8   \n",
       "4396  1950-01-14  1950      1   14       -14.2       -10.6      -17.8   \n",
       "4407  1950-01-25  1950      1   25       -11.4        -5.6      -17.2   \n",
       "4400  1950-01-18  1950      1   18       -12.0        -7.2      -16.7   \n",
       "9846  1964-12-16  1964     12   16       -13.4       -10.0      -16.7   \n",
       "\n",
       "       Rain (mm)  Snow (cm)  Total Precip (mm)  Rain (inches)  T_range (C)  \n",
       "11320        0.0        0.0                0.0            0.0          6.7  \n",
       "4396         0.0        0.5                0.5            0.0          7.2  \n",
       "4407         0.0       18.0               18.0            0.0         11.6  \n",
       "4400         0.0        0.0                0.0            0.0          9.5  \n",
       "9846         0.0        0.0                0.0            0.0          6.7  "
      ]
     },
     "execution_count": 6,
     "metadata": {},
     "output_type": "execute_result"
    }
   ],
   "source": [
    "weather_sorted = weather.sort_values('T_low (C)')\n",
    "weather_sorted.head()"
   ]
  },
  {
   "cell_type": "markdown",
   "metadata": {
    "slideshow": {
     "slide_type": "fragment"
    }
   },
   "source": [
    "The coldest temperature was on Dec 29, 1968, and it was not accompanied by snow or other preciptation.\n",
    "\n",
    "> Note: the above code does not modify our original DataFrame `weather`."
   ]
  },
  {
   "cell_type": "markdown",
   "metadata": {
    "slideshow": {
     "slide_type": "slide"
    }
   },
   "source": [
    "- `sort_values` sorts in ascending order (lowest to highest) by default\n",
    "- We can switch this using the `ascending` keyword argument.\n",
    "- For example, what date had the most snow and how cold was it?"
   ]
  },
  {
   "cell_type": "code",
   "execution_count": 7,
   "metadata": {
    "slideshow": {
     "slide_type": "fragment"
    }
   },
   "outputs": [
    {
     "data": {
      "text/html": [
       "<div>\n",
       "<style scoped>\n",
       "    .dataframe tbody tr th:only-of-type {\n",
       "        vertical-align: middle;\n",
       "    }\n",
       "\n",
       "    .dataframe tbody tr th {\n",
       "        vertical-align: top;\n",
       "    }\n",
       "\n",
       "    .dataframe thead th {\n",
       "        text-align: right;\n",
       "    }\n",
       "</style>\n",
       "<table border=\"1\" class=\"dataframe\">\n",
       "  <thead>\n",
       "    <tr style=\"text-align: right;\">\n",
       "      <th></th>\n",
       "      <th>Date</th>\n",
       "      <th>Year</th>\n",
       "      <th>Month</th>\n",
       "      <th>Day</th>\n",
       "      <th>T_mean (C)</th>\n",
       "      <th>T_high (C)</th>\n",
       "      <th>T_low (C)</th>\n",
       "      <th>Rain (mm)</th>\n",
       "      <th>Snow (cm)</th>\n",
       "      <th>Total Precip (mm)</th>\n",
       "      <th>Rain (inches)</th>\n",
       "      <th>T_range (C)</th>\n",
       "    </tr>\n",
       "  </thead>\n",
       "  <tbody>\n",
       "    <tr>\n",
       "      <th>21524</th>\n",
       "      <td>1996-12-29</td>\n",
       "      <td>1996</td>\n",
       "      <td>12</td>\n",
       "      <td>29</td>\n",
       "      <td>-5.2</td>\n",
       "      <td>-1.4</td>\n",
       "      <td>-9.0</td>\n",
       "      <td>2.0</td>\n",
       "      <td>41.0</td>\n",
       "      <td>40.0</td>\n",
       "      <td>0.078740</td>\n",
       "      <td>7.6</td>\n",
       "    </tr>\n",
       "    <tr>\n",
       "      <th>11322</th>\n",
       "      <td>1968-12-31</td>\n",
       "      <td>1968</td>\n",
       "      <td>12</td>\n",
       "      <td>31</td>\n",
       "      <td>-6.4</td>\n",
       "      <td>-2.2</td>\n",
       "      <td>-10.6</td>\n",
       "      <td>0.8</td>\n",
       "      <td>31.2</td>\n",
       "      <td>20.1</td>\n",
       "      <td>0.031496</td>\n",
       "      <td>8.4</td>\n",
       "    </tr>\n",
       "    <tr>\n",
       "      <th>19356</th>\n",
       "      <td>1990-12-30</td>\n",
       "      <td>1990</td>\n",
       "      <td>12</td>\n",
       "      <td>30</td>\n",
       "      <td>-3.9</td>\n",
       "      <td>0.1</td>\n",
       "      <td>-7.8</td>\n",
       "      <td>0.0</td>\n",
       "      <td>30.0</td>\n",
       "      <td>14.0</td>\n",
       "      <td>0.000000</td>\n",
       "      <td>7.9</td>\n",
       "    </tr>\n",
       "    <tr>\n",
       "      <th>12065</th>\n",
       "      <td>1971-01-13</td>\n",
       "      <td>1971</td>\n",
       "      <td>1</td>\n",
       "      <td>13</td>\n",
       "      <td>-7.2</td>\n",
       "      <td>-6.1</td>\n",
       "      <td>-8.3</td>\n",
       "      <td>0.0</td>\n",
       "      <td>29.7</td>\n",
       "      <td>14.2</td>\n",
       "      <td>0.000000</td>\n",
       "      <td>2.2</td>\n",
       "    </tr>\n",
       "    <tr>\n",
       "      <th>19038</th>\n",
       "      <td>1990-02-15</td>\n",
       "      <td>1990</td>\n",
       "      <td>2</td>\n",
       "      <td>15</td>\n",
       "      <td>-1.2</td>\n",
       "      <td>0.5</td>\n",
       "      <td>-2.9</td>\n",
       "      <td>0.0</td>\n",
       "      <td>28.6</td>\n",
       "      <td>15.2</td>\n",
       "      <td>0.000000</td>\n",
       "      <td>3.4</td>\n",
       "    </tr>\n",
       "  </tbody>\n",
       "</table>\n",
       "</div>"
      ],
      "text/plain": [
       "            Date  Year  Month  Day  T_mean (C)  T_high (C)  T_low (C)  \\\n",
       "21524 1996-12-29  1996     12   29        -5.2        -1.4       -9.0   \n",
       "11322 1968-12-31  1968     12   31        -6.4        -2.2      -10.6   \n",
       "19356 1990-12-30  1990     12   30        -3.9         0.1       -7.8   \n",
       "12065 1971-01-13  1971      1   13        -7.2        -6.1       -8.3   \n",
       "19038 1990-02-15  1990      2   15        -1.2         0.5       -2.9   \n",
       "\n",
       "       Rain (mm)  Snow (cm)  Total Precip (mm)  Rain (inches)  T_range (C)  \n",
       "21524        2.0       41.0               40.0       0.078740          7.6  \n",
       "11322        0.8       31.2               20.1       0.031496          8.4  \n",
       "19356        0.0       30.0               14.0       0.000000          7.9  \n",
       "12065        0.0       29.7               14.2       0.000000          2.2  \n",
       "19038        0.0       28.6               15.2       0.000000          3.4  "
      ]
     },
     "execution_count": 7,
     "metadata": {},
     "output_type": "execute_result"
    }
   ],
   "source": [
    "weather.sort_values('Snow (cm)', ascending=False).head()"
   ]
  },
  {
   "cell_type": "markdown",
   "metadata": {
    "slideshow": {
     "slide_type": "fragment"
    }
   },
   "source": [
    "The largest daily snowfall was 41 cm on Dec 29, 1996, with a daily low temperature of -9 C."
   ]
  },
  {
   "cell_type": "markdown",
   "metadata": {
    "slideshow": {
     "slide_type": "slide"
    }
   },
   "source": [
    "# Filtering\n",
    "\n",
    "We can extract rows from a DataFrame or Series based on a criteria\n",
    "- Similar to applying a filter in Excel"
   ]
  },
  {
   "cell_type": "markdown",
   "metadata": {
    "slideshow": {
     "slide_type": "fragment"
    }
   },
   "source": [
    "With filtering, we can answer questions like:\n",
    "- How many days had temperatures below -15 C?\n",
    "- In which years did these occur?\n",
    "- Which year had the most days with temperatures below -15 C?"
   ]
  },
  {
   "cell_type": "markdown",
   "metadata": {
    "slideshow": {
     "slide_type": "slide"
    }
   },
   "source": [
    "First we use the comparison operator `<` on the `'T_low'` column:"
   ]
  },
  {
   "cell_type": "code",
   "execution_count": 8,
   "metadata": {
    "slideshow": {
     "slide_type": "fragment"
    }
   },
   "outputs": [
    {
     "data": {
      "text/plain": [
       "0        False\n",
       "1        False\n",
       "2        False\n",
       "3        False\n",
       "4        False\n",
       "5        False\n",
       "6        False\n",
       "7        False\n",
       "8        False\n",
       "9        False\n",
       "10       False\n",
       "11       False\n",
       "12       False\n",
       "13       False\n",
       "14       False\n",
       "15       False\n",
       "16       False\n",
       "17       False\n",
       "18       False\n",
       "19       False\n",
       "20       False\n",
       "21       False\n",
       "22       False\n",
       "23       False\n",
       "24       False\n",
       "25       False\n",
       "26       False\n",
       "27       False\n",
       "28       False\n",
       "29       False\n",
       "         ...  \n",
       "29160    False\n",
       "29161    False\n",
       "29162    False\n",
       "29163    False\n",
       "29164    False\n",
       "29165    False\n",
       "29166    False\n",
       "29167    False\n",
       "29168    False\n",
       "29169    False\n",
       "29170    False\n",
       "29171    False\n",
       "29172    False\n",
       "29173    False\n",
       "29174    False\n",
       "29175    False\n",
       "29176    False\n",
       "29177    False\n",
       "29178    False\n",
       "29179    False\n",
       "29180    False\n",
       "29181    False\n",
       "29182    False\n",
       "29183    False\n",
       "29184    False\n",
       "29185    False\n",
       "29186    False\n",
       "29187    False\n",
       "29188    False\n",
       "29189    False\n",
       "Name: T_low (C), Length: 29190, dtype: bool"
      ]
     },
     "execution_count": 8,
     "metadata": {},
     "output_type": "execute_result"
    }
   ],
   "source": [
    "cold = weather['T_low (C)'] < -15\n",
    "cold"
   ]
  },
  {
   "cell_type": "markdown",
   "metadata": {
    "slideshow": {
     "slide_type": "fragment"
    }
   },
   "source": [
    "- `cold` is a Boolean Series of length equal to the number of rows of `weather`\n",
    "- The index of `cold` is equal to the index of `weather`"
   ]
  },
  {
   "cell_type": "markdown",
   "metadata": {
    "slideshow": {
     "slide_type": "fragment"
    }
   },
   "source": [
    "We can find the number of days with temperatures below -15 C by using the `sum` method:\n",
    "- When you sum a Boolean series, `True` is treated as 1 and `False` as 0."
   ]
  },
  {
   "cell_type": "code",
   "execution_count": 9,
   "metadata": {
    "slideshow": {
     "slide_type": "fragment"
    }
   },
   "outputs": [
    {
     "data": {
      "text/plain": [
       "17"
      ]
     },
     "execution_count": 9,
     "metadata": {},
     "output_type": "execute_result"
    }
   ],
   "source": [
    "cold.sum()"
   ]
  },
  {
   "cell_type": "markdown",
   "metadata": {
    "slideshow": {
     "slide_type": "fragment"
    }
   },
   "source": [
    "So to answer our first question: during the period 1938-2017, there were a total of 17 days with temperatures below -15 C measured at Vancouver airport."
   ]
  },
  {
   "cell_type": "markdown",
   "metadata": {
    "slideshow": {
     "slide_type": "slide"
    }
   },
   "source": [
    "We can use the Boolean Series `cold` as a **filter** to extract the rows of `weather` which have temperatures below -15 C\n",
    "- Previously we used square brackets and a column name or list of column names to extract *column(s)* from a DataFrame (e.g. `series_X = df['X']`)\n",
    "- Now we use square brackets and a Boolean Series to extract *rows* from a DataFrame"
   ]
  },
  {
   "cell_type": "code",
   "execution_count": 10,
   "metadata": {
    "scrolled": false,
    "slideshow": {
     "slide_type": "fragment"
    }
   },
   "outputs": [
    {
     "data": {
      "text/html": [
       "<div>\n",
       "<style scoped>\n",
       "    .dataframe tbody tr th:only-of-type {\n",
       "        vertical-align: middle;\n",
       "    }\n",
       "\n",
       "    .dataframe tbody tr th {\n",
       "        vertical-align: top;\n",
       "    }\n",
       "\n",
       "    .dataframe thead th {\n",
       "        text-align: right;\n",
       "    }\n",
       "</style>\n",
       "<table border=\"1\" class=\"dataframe\">\n",
       "  <thead>\n",
       "    <tr style=\"text-align: right;\">\n",
       "      <th></th>\n",
       "      <th>Date</th>\n",
       "      <th>Year</th>\n",
       "      <th>Month</th>\n",
       "      <th>Day</th>\n",
       "      <th>T_mean (C)</th>\n",
       "      <th>T_high (C)</th>\n",
       "      <th>T_low (C)</th>\n",
       "      <th>Rain (mm)</th>\n",
       "      <th>Snow (cm)</th>\n",
       "      <th>Total Precip (mm)</th>\n",
       "      <th>Rain (inches)</th>\n",
       "      <th>T_range (C)</th>\n",
       "    </tr>\n",
       "  </thead>\n",
       "  <tbody>\n",
       "    <tr>\n",
       "      <th>1847</th>\n",
       "      <td>1943-01-22</td>\n",
       "      <td>1943</td>\n",
       "      <td>1</td>\n",
       "      <td>22</td>\n",
       "      <td>-12.2</td>\n",
       "      <td>-8.3</td>\n",
       "      <td>-16.1</td>\n",
       "      <td>0.0</td>\n",
       "      <td>0.0</td>\n",
       "      <td>0.0</td>\n",
       "      <td>0.0</td>\n",
       "      <td>7.8</td>\n",
       "    </tr>\n",
       "    <tr>\n",
       "      <th>1848</th>\n",
       "      <td>1943-01-23</td>\n",
       "      <td>1943</td>\n",
       "      <td>1</td>\n",
       "      <td>23</td>\n",
       "      <td>-10.0</td>\n",
       "      <td>-4.4</td>\n",
       "      <td>-15.6</td>\n",
       "      <td>0.0</td>\n",
       "      <td>0.0</td>\n",
       "      <td>0.0</td>\n",
       "      <td>0.0</td>\n",
       "      <td>11.2</td>\n",
       "    </tr>\n",
       "    <tr>\n",
       "      <th>4395</th>\n",
       "      <td>1950-01-13</td>\n",
       "      <td>1950</td>\n",
       "      <td>1</td>\n",
       "      <td>13</td>\n",
       "      <td>-13.6</td>\n",
       "      <td>-11.1</td>\n",
       "      <td>-16.1</td>\n",
       "      <td>0.0</td>\n",
       "      <td>0.0</td>\n",
       "      <td>0.0</td>\n",
       "      <td>0.0</td>\n",
       "      <td>5.0</td>\n",
       "    </tr>\n",
       "    <tr>\n",
       "      <th>4396</th>\n",
       "      <td>1950-01-14</td>\n",
       "      <td>1950</td>\n",
       "      <td>1</td>\n",
       "      <td>14</td>\n",
       "      <td>-14.2</td>\n",
       "      <td>-10.6</td>\n",
       "      <td>-17.8</td>\n",
       "      <td>0.0</td>\n",
       "      <td>0.5</td>\n",
       "      <td>0.5</td>\n",
       "      <td>0.0</td>\n",
       "      <td>7.2</td>\n",
       "    </tr>\n",
       "    <tr>\n",
       "      <th>4400</th>\n",
       "      <td>1950-01-18</td>\n",
       "      <td>1950</td>\n",
       "      <td>1</td>\n",
       "      <td>18</td>\n",
       "      <td>-12.0</td>\n",
       "      <td>-7.2</td>\n",
       "      <td>-16.7</td>\n",
       "      <td>0.0</td>\n",
       "      <td>0.0</td>\n",
       "      <td>0.0</td>\n",
       "      <td>0.0</td>\n",
       "      <td>9.5</td>\n",
       "    </tr>\n",
       "    <tr>\n",
       "      <th>4407</th>\n",
       "      <td>1950-01-25</td>\n",
       "      <td>1950</td>\n",
       "      <td>1</td>\n",
       "      <td>25</td>\n",
       "      <td>-11.4</td>\n",
       "      <td>-5.6</td>\n",
       "      <td>-17.2</td>\n",
       "      <td>0.0</td>\n",
       "      <td>18.0</td>\n",
       "      <td>18.0</td>\n",
       "      <td>0.0</td>\n",
       "      <td>11.6</td>\n",
       "    </tr>\n",
       "    <tr>\n",
       "      <th>4410</th>\n",
       "      <td>1950-01-28</td>\n",
       "      <td>1950</td>\n",
       "      <td>1</td>\n",
       "      <td>28</td>\n",
       "      <td>-9.2</td>\n",
       "      <td>-2.8</td>\n",
       "      <td>-15.6</td>\n",
       "      <td>0.0</td>\n",
       "      <td>0.0</td>\n",
       "      <td>0.0</td>\n",
       "      <td>0.0</td>\n",
       "      <td>12.8</td>\n",
       "    </tr>\n",
       "    <tr>\n",
       "      <th>4412</th>\n",
       "      <td>1950-01-30</td>\n",
       "      <td>1950</td>\n",
       "      <td>1</td>\n",
       "      <td>30</td>\n",
       "      <td>-10.6</td>\n",
       "      <td>-5.6</td>\n",
       "      <td>-15.6</td>\n",
       "      <td>0.0</td>\n",
       "      <td>0.0</td>\n",
       "      <td>0.0</td>\n",
       "      <td>0.0</td>\n",
       "      <td>10.0</td>\n",
       "    </tr>\n",
       "    <tr>\n",
       "      <th>4414</th>\n",
       "      <td>1950-02-01</td>\n",
       "      <td>1950</td>\n",
       "      <td>2</td>\n",
       "      <td>1</td>\n",
       "      <td>-10.6</td>\n",
       "      <td>-5.0</td>\n",
       "      <td>-16.1</td>\n",
       "      <td>0.0</td>\n",
       "      <td>0.0</td>\n",
       "      <td>0.0</td>\n",
       "      <td>0.0</td>\n",
       "      <td>11.1</td>\n",
       "    </tr>\n",
       "    <tr>\n",
       "      <th>9846</th>\n",
       "      <td>1964-12-16</td>\n",
       "      <td>1964</td>\n",
       "      <td>12</td>\n",
       "      <td>16</td>\n",
       "      <td>-13.4</td>\n",
       "      <td>-10.0</td>\n",
       "      <td>-16.7</td>\n",
       "      <td>0.0</td>\n",
       "      <td>0.0</td>\n",
       "      <td>0.0</td>\n",
       "      <td>0.0</td>\n",
       "      <td>6.7</td>\n",
       "    </tr>\n",
       "    <tr>\n",
       "      <th>11319</th>\n",
       "      <td>1968-12-28</td>\n",
       "      <td>1968</td>\n",
       "      <td>12</td>\n",
       "      <td>28</td>\n",
       "      <td>-13.4</td>\n",
       "      <td>-10.6</td>\n",
       "      <td>-16.1</td>\n",
       "      <td>0.0</td>\n",
       "      <td>0.0</td>\n",
       "      <td>0.0</td>\n",
       "      <td>0.0</td>\n",
       "      <td>5.5</td>\n",
       "    </tr>\n",
       "    <tr>\n",
       "      <th>11320</th>\n",
       "      <td>1968-12-29</td>\n",
       "      <td>1968</td>\n",
       "      <td>12</td>\n",
       "      <td>29</td>\n",
       "      <td>-14.5</td>\n",
       "      <td>-11.1</td>\n",
       "      <td>-17.8</td>\n",
       "      <td>0.0</td>\n",
       "      <td>0.0</td>\n",
       "      <td>0.0</td>\n",
       "      <td>0.0</td>\n",
       "      <td>6.7</td>\n",
       "    </tr>\n",
       "    <tr>\n",
       "      <th>11321</th>\n",
       "      <td>1968-12-30</td>\n",
       "      <td>1968</td>\n",
       "      <td>12</td>\n",
       "      <td>30</td>\n",
       "      <td>-12.5</td>\n",
       "      <td>-8.9</td>\n",
       "      <td>-16.1</td>\n",
       "      <td>0.0</td>\n",
       "      <td>0.0</td>\n",
       "      <td>0.0</td>\n",
       "      <td>0.0</td>\n",
       "      <td>7.2</td>\n",
       "    </tr>\n",
       "    <tr>\n",
       "      <th>11345</th>\n",
       "      <td>1969-01-23</td>\n",
       "      <td>1969</td>\n",
       "      <td>1</td>\n",
       "      <td>23</td>\n",
       "      <td>-10.9</td>\n",
       "      <td>-5.6</td>\n",
       "      <td>-16.1</td>\n",
       "      <td>0.0</td>\n",
       "      <td>0.0</td>\n",
       "      <td>0.0</td>\n",
       "      <td>0.0</td>\n",
       "      <td>10.5</td>\n",
       "    </tr>\n",
       "    <tr>\n",
       "      <th>11350</th>\n",
       "      <td>1969-01-28</td>\n",
       "      <td>1969</td>\n",
       "      <td>1</td>\n",
       "      <td>28</td>\n",
       "      <td>-12.0</td>\n",
       "      <td>-7.8</td>\n",
       "      <td>-16.1</td>\n",
       "      <td>0.0</td>\n",
       "      <td>0.0</td>\n",
       "      <td>0.0</td>\n",
       "      <td>0.0</td>\n",
       "      <td>8.3</td>\n",
       "    </tr>\n",
       "    <tr>\n",
       "      <th>11351</th>\n",
       "      <td>1969-01-29</td>\n",
       "      <td>1969</td>\n",
       "      <td>1</td>\n",
       "      <td>29</td>\n",
       "      <td>-10.6</td>\n",
       "      <td>-5.0</td>\n",
       "      <td>-16.1</td>\n",
       "      <td>0.0</td>\n",
       "      <td>0.0</td>\n",
       "      <td>0.0</td>\n",
       "      <td>0.0</td>\n",
       "      <td>11.1</td>\n",
       "    </tr>\n",
       "    <tr>\n",
       "      <th>25898</th>\n",
       "      <td>2008-12-20</td>\n",
       "      <td>2008</td>\n",
       "      <td>12</td>\n",
       "      <td>20</td>\n",
       "      <td>-10.3</td>\n",
       "      <td>-5.3</td>\n",
       "      <td>-15.2</td>\n",
       "      <td>0.0</td>\n",
       "      <td>0.0</td>\n",
       "      <td>0.0</td>\n",
       "      <td>0.0</td>\n",
       "      <td>9.9</td>\n",
       "    </tr>\n",
       "  </tbody>\n",
       "</table>\n",
       "</div>"
      ],
      "text/plain": [
       "            Date  Year  Month  Day  T_mean (C)  T_high (C)  T_low (C)  \\\n",
       "1847  1943-01-22  1943      1   22       -12.2        -8.3      -16.1   \n",
       "1848  1943-01-23  1943      1   23       -10.0        -4.4      -15.6   \n",
       "4395  1950-01-13  1950      1   13       -13.6       -11.1      -16.1   \n",
       "4396  1950-01-14  1950      1   14       -14.2       -10.6      -17.8   \n",
       "4400  1950-01-18  1950      1   18       -12.0        -7.2      -16.7   \n",
       "4407  1950-01-25  1950      1   25       -11.4        -5.6      -17.2   \n",
       "4410  1950-01-28  1950      1   28        -9.2        -2.8      -15.6   \n",
       "4412  1950-01-30  1950      1   30       -10.6        -5.6      -15.6   \n",
       "4414  1950-02-01  1950      2    1       -10.6        -5.0      -16.1   \n",
       "9846  1964-12-16  1964     12   16       -13.4       -10.0      -16.7   \n",
       "11319 1968-12-28  1968     12   28       -13.4       -10.6      -16.1   \n",
       "11320 1968-12-29  1968     12   29       -14.5       -11.1      -17.8   \n",
       "11321 1968-12-30  1968     12   30       -12.5        -8.9      -16.1   \n",
       "11345 1969-01-23  1969      1   23       -10.9        -5.6      -16.1   \n",
       "11350 1969-01-28  1969      1   28       -12.0        -7.8      -16.1   \n",
       "11351 1969-01-29  1969      1   29       -10.6        -5.0      -16.1   \n",
       "25898 2008-12-20  2008     12   20       -10.3        -5.3      -15.2   \n",
       "\n",
       "       Rain (mm)  Snow (cm)  Total Precip (mm)  Rain (inches)  T_range (C)  \n",
       "1847         0.0        0.0                0.0            0.0          7.8  \n",
       "1848         0.0        0.0                0.0            0.0         11.2  \n",
       "4395         0.0        0.0                0.0            0.0          5.0  \n",
       "4396         0.0        0.5                0.5            0.0          7.2  \n",
       "4400         0.0        0.0                0.0            0.0          9.5  \n",
       "4407         0.0       18.0               18.0            0.0         11.6  \n",
       "4410         0.0        0.0                0.0            0.0         12.8  \n",
       "4412         0.0        0.0                0.0            0.0         10.0  \n",
       "4414         0.0        0.0                0.0            0.0         11.1  \n",
       "9846         0.0        0.0                0.0            0.0          6.7  \n",
       "11319        0.0        0.0                0.0            0.0          5.5  \n",
       "11320        0.0        0.0                0.0            0.0          6.7  \n",
       "11321        0.0        0.0                0.0            0.0          7.2  \n",
       "11345        0.0        0.0                0.0            0.0         10.5  \n",
       "11350        0.0        0.0                0.0            0.0          8.3  \n",
       "11351        0.0        0.0                0.0            0.0         11.1  \n",
       "25898        0.0        0.0                0.0            0.0          9.9  "
      ]
     },
     "execution_count": 10,
     "metadata": {},
     "output_type": "execute_result"
    }
   ],
   "source": [
    "weather_cold = weather[cold]\n",
    "weather_cold"
   ]
  },
  {
   "cell_type": "code",
   "execution_count": 11,
   "metadata": {
    "slideshow": {
     "slide_type": "fragment"
    }
   },
   "outputs": [
    {
     "data": {
      "text/plain": [
       "(17, 12)"
      ]
     },
     "execution_count": 11,
     "metadata": {},
     "output_type": "execute_result"
    }
   ],
   "source": [
    "weather_cold.shape"
   ]
  },
  {
   "cell_type": "markdown",
   "metadata": {
    "slideshow": {
     "slide_type": "fragment"
    }
   },
   "source": [
    "`weather_cold` is a DataFrame containing only the 17 rows of `weather` that have temperatures below -15 C."
   ]
  },
  {
   "cell_type": "markdown",
   "metadata": {
    "slideshow": {
     "slide_type": "slide"
    }
   },
   "source": [
    "To see a list of the unique years and the counts for each of them, we can use the `value_counts` method:"
   ]
  },
  {
   "cell_type": "code",
   "execution_count": 12,
   "metadata": {
    "slideshow": {
     "slide_type": "fragment"
    }
   },
   "outputs": [
    {
     "data": {
      "text/plain": [
       "1950    7\n",
       "1969    3\n",
       "1968    3\n",
       "1943    2\n",
       "2008    1\n",
       "1964    1\n",
       "Name: Year, dtype: int64"
      ]
     },
     "execution_count": 12,
     "metadata": {},
     "output_type": "execute_result"
    }
   ],
   "source": [
    "weather_cold['Year'].value_counts()"
   ]
  },
  {
   "cell_type": "markdown",
   "metadata": {
    "slideshow": {
     "slide_type": "fragment"
    }
   },
   "source": [
    "So to answer our second and third questions:\n",
    "- Temperatures below -15 C were measured in 6 years (1950, 1969, 1968, 1943, 2008, 1964)\n",
    "- The year with the most days with temperature < -15 C was 1950."
   ]
  },
  {
   "cell_type": "markdown",
   "metadata": {
    "slideshow": {
     "slide_type": "slide"
    }
   },
   "source": [
    "- We can use any of the comparison operators (`>`, `>=`, `<`, `<=`, `==`, `!=`) on a DataFrame column to create Boolean Series for filtering our data\n",
    "- We can also apply comparison operators and other functions to an entire DataFrame to create a DataFrame of Boolean values corresponding to some criteria\n",
    "  - This can be useful for counting how often something occurs in each row or column of data, such as missing values"
   ]
  },
  {
   "cell_type": "markdown",
   "metadata": {
    "slideshow": {
     "slide_type": "slide"
    }
   },
   "source": [
    "# Bonus: Missing Data\n",
    "\n",
    "With any data that we're working with, it's good to know:\n",
    "  - How many values are missing?\n",
    "  - Where are the empty cells located in our DataFrame (or Series)?"
   ]
  },
  {
   "cell_type": "markdown",
   "metadata": {
    "slideshow": {
     "slide_type": "fragment"
    }
   },
   "source": [
    "The `isnull` method returns `True` when data is missing (`NaN`) and `False` otherwise\n",
    "- We can use this method to locate and count missing values"
   ]
  },
  {
   "cell_type": "code",
   "execution_count": 13,
   "metadata": {
    "slideshow": {
     "slide_type": "fragment"
    }
   },
   "outputs": [
    {
     "data": {
      "text/html": [
       "<div>\n",
       "<style scoped>\n",
       "    .dataframe tbody tr th:only-of-type {\n",
       "        vertical-align: middle;\n",
       "    }\n",
       "\n",
       "    .dataframe tbody tr th {\n",
       "        vertical-align: top;\n",
       "    }\n",
       "\n",
       "    .dataframe thead th {\n",
       "        text-align: right;\n",
       "    }\n",
       "</style>\n",
       "<table border=\"1\" class=\"dataframe\">\n",
       "  <thead>\n",
       "    <tr style=\"text-align: right;\">\n",
       "      <th></th>\n",
       "      <th>Date</th>\n",
       "      <th>Year</th>\n",
       "      <th>Month</th>\n",
       "      <th>Day</th>\n",
       "      <th>T_mean (C)</th>\n",
       "      <th>T_high (C)</th>\n",
       "      <th>T_low (C)</th>\n",
       "      <th>Rain (mm)</th>\n",
       "      <th>Snow (cm)</th>\n",
       "      <th>Total Precip (mm)</th>\n",
       "      <th>Rain (inches)</th>\n",
       "      <th>T_range (C)</th>\n",
       "    </tr>\n",
       "  </thead>\n",
       "  <tbody>\n",
       "    <tr>\n",
       "      <th>0</th>\n",
       "      <td>False</td>\n",
       "      <td>False</td>\n",
       "      <td>False</td>\n",
       "      <td>False</td>\n",
       "      <td>False</td>\n",
       "      <td>False</td>\n",
       "      <td>False</td>\n",
       "      <td>True</td>\n",
       "      <td>True</td>\n",
       "      <td>False</td>\n",
       "      <td>True</td>\n",
       "      <td>False</td>\n",
       "    </tr>\n",
       "    <tr>\n",
       "      <th>1</th>\n",
       "      <td>False</td>\n",
       "      <td>False</td>\n",
       "      <td>False</td>\n",
       "      <td>False</td>\n",
       "      <td>False</td>\n",
       "      <td>False</td>\n",
       "      <td>False</td>\n",
       "      <td>True</td>\n",
       "      <td>True</td>\n",
       "      <td>False</td>\n",
       "      <td>True</td>\n",
       "      <td>False</td>\n",
       "    </tr>\n",
       "    <tr>\n",
       "      <th>2</th>\n",
       "      <td>False</td>\n",
       "      <td>False</td>\n",
       "      <td>False</td>\n",
       "      <td>False</td>\n",
       "      <td>False</td>\n",
       "      <td>False</td>\n",
       "      <td>False</td>\n",
       "      <td>False</td>\n",
       "      <td>False</td>\n",
       "      <td>False</td>\n",
       "      <td>False</td>\n",
       "      <td>False</td>\n",
       "    </tr>\n",
       "    <tr>\n",
       "      <th>3</th>\n",
       "      <td>False</td>\n",
       "      <td>False</td>\n",
       "      <td>False</td>\n",
       "      <td>False</td>\n",
       "      <td>False</td>\n",
       "      <td>False</td>\n",
       "      <td>False</td>\n",
       "      <td>False</td>\n",
       "      <td>False</td>\n",
       "      <td>False</td>\n",
       "      <td>False</td>\n",
       "      <td>False</td>\n",
       "    </tr>\n",
       "    <tr>\n",
       "      <th>4</th>\n",
       "      <td>False</td>\n",
       "      <td>False</td>\n",
       "      <td>False</td>\n",
       "      <td>False</td>\n",
       "      <td>False</td>\n",
       "      <td>False</td>\n",
       "      <td>False</td>\n",
       "      <td>False</td>\n",
       "      <td>False</td>\n",
       "      <td>False</td>\n",
       "      <td>False</td>\n",
       "      <td>False</td>\n",
       "    </tr>\n",
       "  </tbody>\n",
       "</table>\n",
       "</div>"
      ],
      "text/plain": [
       "    Date   Year  Month    Day  T_mean (C)  T_high (C)  T_low (C)  Rain (mm)  \\\n",
       "0  False  False  False  False       False       False      False       True   \n",
       "1  False  False  False  False       False       False      False       True   \n",
       "2  False  False  False  False       False       False      False      False   \n",
       "3  False  False  False  False       False       False      False      False   \n",
       "4  False  False  False  False       False       False      False      False   \n",
       "\n",
       "   Snow (cm)  Total Precip (mm)  Rain (inches)  T_range (C)  \n",
       "0       True              False           True        False  \n",
       "1       True              False           True        False  \n",
       "2      False              False          False        False  \n",
       "3      False              False          False        False  \n",
       "4      False              False          False        False  "
      ]
     },
     "execution_count": 13,
     "metadata": {},
     "output_type": "execute_result"
    }
   ],
   "source": [
    "weather_missing = weather.isnull()\n",
    "weather_missing.head()"
   ]
  },
  {
   "cell_type": "markdown",
   "metadata": {
    "slideshow": {
     "slide_type": "fragment"
    }
   },
   "source": [
    "- `weather_missing` is a Boolean DataFrame\n",
    "- The `sum` method will sum the Boolean values along each column and give us the missing counts:"
   ]
  },
  {
   "cell_type": "code",
   "execution_count": 14,
   "metadata": {
    "slideshow": {
     "slide_type": "fragment"
    }
   },
   "outputs": [
    {
     "data": {
      "text/plain": [
       "Date                  0\n",
       "Year                  0\n",
       "Month                 0\n",
       "Day                   0\n",
       "T_mean (C)           23\n",
       "T_high (C)           21\n",
       "T_low (C)            10\n",
       "Rain (mm)            64\n",
       "Snow (cm)            52\n",
       "Total Precip (mm)    24\n",
       "Rain (inches)        64\n",
       "T_range (C)          23\n",
       "dtype: int64"
      ]
     },
     "execution_count": 14,
     "metadata": {},
     "output_type": "execute_result"
    }
   ],
   "source": [
    "weather_missing.sum()"
   ]
  },
  {
   "cell_type": "markdown",
   "metadata": {
    "slideshow": {
     "slide_type": "fragment"
    }
   },
   "source": [
    "- With `pandas` tools, it is very easy to assess the completeness of your data and drill down to find exactly where any missing values are occurring.\n",
    "- Other useful methods for handling missing data include `dropna`, `fillna`, and `interpolate`."
   ]
  },
  {
   "cell_type": "markdown",
   "metadata": {
    "slideshow": {
     "slide_type": "slide"
    }
   },
   "source": [
    "# Aggregation\n",
    "\n",
    "Returning to our `world` data:"
   ]
  },
  {
   "cell_type": "code",
   "execution_count": 15,
   "metadata": {
    "slideshow": {
     "slide_type": "-"
    }
   },
   "outputs": [
    {
     "data": {
      "text/html": [
       "<div>\n",
       "<style scoped>\n",
       "    .dataframe tbody tr th:only-of-type {\n",
       "        vertical-align: middle;\n",
       "    }\n",
       "\n",
       "    .dataframe tbody tr th {\n",
       "        vertical-align: top;\n",
       "    }\n",
       "\n",
       "    .dataframe thead th {\n",
       "        text-align: right;\n",
       "    }\n",
       "</style>\n",
       "<table border=\"1\" class=\"dataframe\">\n",
       "  <thead>\n",
       "    <tr style=\"text-align: right;\">\n",
       "      <th></th>\n",
       "      <th>country</th>\n",
       "      <th>population</th>\n",
       "      <th>region</th>\n",
       "      <th>sub_region</th>\n",
       "      <th>income_group</th>\n",
       "      <th>life_expectancy</th>\n",
       "      <th>gdp_per_capita</th>\n",
       "      <th>children_per_woman</th>\n",
       "      <th>child_mortality</th>\n",
       "      <th>pop_density</th>\n",
       "      <th>area</th>\n",
       "    </tr>\n",
       "  </thead>\n",
       "  <tbody>\n",
       "    <tr>\n",
       "      <th>0</th>\n",
       "      <td>Afghanistan</td>\n",
       "      <td>36400000</td>\n",
       "      <td>Asia</td>\n",
       "      <td>Southern Asia</td>\n",
       "      <td>Low</td>\n",
       "      <td>58.7</td>\n",
       "      <td>1870</td>\n",
       "      <td>4.33</td>\n",
       "      <td>65.90</td>\n",
       "      <td>55.7</td>\n",
       "      <td>6.535009e+05</td>\n",
       "    </tr>\n",
       "    <tr>\n",
       "      <th>1</th>\n",
       "      <td>Albania</td>\n",
       "      <td>2930000</td>\n",
       "      <td>Europe</td>\n",
       "      <td>Southern Europe</td>\n",
       "      <td>Upper middle</td>\n",
       "      <td>78.0</td>\n",
       "      <td>12400</td>\n",
       "      <td>1.71</td>\n",
       "      <td>12.90</td>\n",
       "      <td>107.0</td>\n",
       "      <td>2.738318e+04</td>\n",
       "    </tr>\n",
       "    <tr>\n",
       "      <th>2</th>\n",
       "      <td>Algeria</td>\n",
       "      <td>42000000</td>\n",
       "      <td>Africa</td>\n",
       "      <td>Northern Africa</td>\n",
       "      <td>Upper middle</td>\n",
       "      <td>77.9</td>\n",
       "      <td>13700</td>\n",
       "      <td>2.64</td>\n",
       "      <td>23.10</td>\n",
       "      <td>17.6</td>\n",
       "      <td>2.386364e+06</td>\n",
       "    </tr>\n",
       "    <tr>\n",
       "      <th>3</th>\n",
       "      <td>Angola</td>\n",
       "      <td>30800000</td>\n",
       "      <td>Africa</td>\n",
       "      <td>Sub-Saharan Africa</td>\n",
       "      <td>Lower middle</td>\n",
       "      <td>65.2</td>\n",
       "      <td>5850</td>\n",
       "      <td>5.55</td>\n",
       "      <td>81.60</td>\n",
       "      <td>24.7</td>\n",
       "      <td>1.246964e+06</td>\n",
       "    </tr>\n",
       "    <tr>\n",
       "      <th>4</th>\n",
       "      <td>Antigua and Barbuda</td>\n",
       "      <td>103000</td>\n",
       "      <td>Americas</td>\n",
       "      <td>Latin America and the Caribbean</td>\n",
       "      <td>High</td>\n",
       "      <td>77.6</td>\n",
       "      <td>21000</td>\n",
       "      <td>2.03</td>\n",
       "      <td>7.89</td>\n",
       "      <td>234.0</td>\n",
       "      <td>4.401709e+02</td>\n",
       "    </tr>\n",
       "  </tbody>\n",
       "</table>\n",
       "</div>"
      ],
      "text/plain": [
       "               country  population    region                       sub_region  \\\n",
       "0          Afghanistan    36400000      Asia                    Southern Asia   \n",
       "1              Albania     2930000    Europe                  Southern Europe   \n",
       "2              Algeria    42000000    Africa                  Northern Africa   \n",
       "3               Angola    30800000    Africa               Sub-Saharan Africa   \n",
       "4  Antigua and Barbuda      103000  Americas  Latin America and the Caribbean   \n",
       "\n",
       "   income_group  life_expectancy  gdp_per_capita  children_per_woman  \\\n",
       "0           Low             58.7            1870                4.33   \n",
       "1  Upper middle             78.0           12400                1.71   \n",
       "2  Upper middle             77.9           13700                2.64   \n",
       "3  Lower middle             65.2            5850                5.55   \n",
       "4          High             77.6           21000                2.03   \n",
       "\n",
       "   child_mortality  pop_density          area  \n",
       "0            65.90         55.7  6.535009e+05  \n",
       "1            12.90        107.0  2.738318e+04  \n",
       "2            23.10         17.6  2.386364e+06  \n",
       "3            81.60         24.7  1.246964e+06  \n",
       "4             7.89        234.0  4.401709e+02  "
      ]
     },
     "execution_count": 15,
     "metadata": {},
     "output_type": "execute_result"
    }
   ],
   "source": [
    "world.head()"
   ]
  },
  {
   "cell_type": "markdown",
   "metadata": {
    "slideshow": {
     "slide_type": "fragment"
    }
   },
   "source": [
    "Suppose we want to find the population totals *in each region* of our `world` data.\n",
    "- Using the techniques we just learned, we could extract the rows for Asia, take the sum of the population column, and then repeat this process for each of the other regions.\n",
    "- This would be very slow and tedious!"
   ]
  },
  {
   "cell_type": "markdown",
   "metadata": {
    "slideshow": {
     "slide_type": "fragment"
    }
   },
   "source": [
    "Luckily, with `pandas` there is a better way: using aggregation to compute statistics for groups within our data.\n",
    "- Similar to pivot tables in Excel or `GROUPBY` queries in SQL."
   ]
  },
  {
   "cell_type": "markdown",
   "metadata": {
    "slideshow": {
     "slide_type": "fragment"
    }
   },
   "source": [
    "Aggregation is a \"split-apply-combine\" technique:\n",
    "\n",
    "![Image credit Jake VanderPlas](img/split-apply-combine.png)\n",
    "\n",
    "*Image credit Jake VanderPlas*"
   ]
  },
  {
   "cell_type": "markdown",
   "metadata": {
    "slideshow": {
     "slide_type": "fragment"
    }
   },
   "source": [
    "For simple aggregations, we can use the `groupby` method chained with a summary statistic (e.g., `sum`, `mean`, `median`, `max`, etc.)\n",
    "- We will group by region and take the sum:"
   ]
  },
  {
   "cell_type": "code",
   "execution_count": 16,
   "metadata": {
    "slideshow": {
     "slide_type": "fragment"
    }
   },
   "outputs": [
    {
     "data": {
      "text/html": [
       "<div>\n",
       "<style scoped>\n",
       "    .dataframe tbody tr th:only-of-type {\n",
       "        vertical-align: middle;\n",
       "    }\n",
       "\n",
       "    .dataframe tbody tr th {\n",
       "        vertical-align: top;\n",
       "    }\n",
       "\n",
       "    .dataframe thead th {\n",
       "        text-align: right;\n",
       "    }\n",
       "</style>\n",
       "<table border=\"1\" class=\"dataframe\">\n",
       "  <thead>\n",
       "    <tr style=\"text-align: right;\">\n",
       "      <th></th>\n",
       "      <th>population</th>\n",
       "      <th>life_expectancy</th>\n",
       "      <th>gdp_per_capita</th>\n",
       "      <th>children_per_woman</th>\n",
       "      <th>child_mortality</th>\n",
       "      <th>pop_density</th>\n",
       "      <th>area</th>\n",
       "    </tr>\n",
       "    <tr>\n",
       "      <th>region</th>\n",
       "      <th></th>\n",
       "      <th></th>\n",
       "      <th></th>\n",
       "      <th></th>\n",
       "      <th></th>\n",
       "      <th></th>\n",
       "      <th></th>\n",
       "    </tr>\n",
       "  </thead>\n",
       "  <tbody>\n",
       "    <tr>\n",
       "      <th>Africa</th>\n",
       "      <td>1286388200</td>\n",
       "      <td>3377.7</td>\n",
       "      <td>286250</td>\n",
       "      <td>219.04</td>\n",
       "      <td>3298.60</td>\n",
       "      <td>5275.26</td>\n",
       "      <td>2.938634e+07</td>\n",
       "    </tr>\n",
       "    <tr>\n",
       "      <th>Americas</th>\n",
       "      <td>1010688000</td>\n",
       "      <td>2353.7</td>\n",
       "      <td>503220</td>\n",
       "      <td>66.48</td>\n",
       "      <td>525.03</td>\n",
       "      <td>3709.97</td>\n",
       "      <td>3.832191e+07</td>\n",
       "    </tr>\n",
       "    <tr>\n",
       "      <th>Asia</th>\n",
       "      <td>4514211000</td>\n",
       "      <td>3495.3</td>\n",
       "      <td>967920</td>\n",
       "      <td>112.93</td>\n",
       "      <td>1044.10</td>\n",
       "      <td>20558.53</td>\n",
       "      <td>3.100979e+07</td>\n",
       "    </tr>\n",
       "    <tr>\n",
       "      <th>Europe</th>\n",
       "      <td>742109000</td>\n",
       "      <td>3080.8</td>\n",
       "      <td>1314760</td>\n",
       "      <td>62.66</td>\n",
       "      <td>183.85</td>\n",
       "      <td>5753.26</td>\n",
       "      <td>2.213814e+07</td>\n",
       "    </tr>\n",
       "    <tr>\n",
       "      <th>Oceania</th>\n",
       "      <td>40212000</td>\n",
       "      <td>624.8</td>\n",
       "      <td>112770</td>\n",
       "      <td>27.78</td>\n",
       "      <td>217.25</td>\n",
       "      <td>502.02</td>\n",
       "      <td>8.481225e+06</td>\n",
       "    </tr>\n",
       "  </tbody>\n",
       "</table>\n",
       "</div>"
      ],
      "text/plain": [
       "          population  life_expectancy  gdp_per_capita  children_per_woman  \\\n",
       "region                                                                      \n",
       "Africa    1286388200           3377.7          286250              219.04   \n",
       "Americas  1010688000           2353.7          503220               66.48   \n",
       "Asia      4514211000           3495.3          967920              112.93   \n",
       "Europe     742109000           3080.8         1314760               62.66   \n",
       "Oceania     40212000            624.8          112770               27.78   \n",
       "\n",
       "          child_mortality  pop_density          area  \n",
       "region                                                \n",
       "Africa            3298.60      5275.26  2.938634e+07  \n",
       "Americas           525.03      3709.97  3.832191e+07  \n",
       "Asia              1044.10     20558.53  3.100979e+07  \n",
       "Europe             183.85      5753.26  2.213814e+07  \n",
       "Oceania            217.25       502.02  8.481225e+06  "
      ]
     },
     "execution_count": 16,
     "metadata": {},
     "output_type": "execute_result"
    }
   ],
   "source": [
    "world.groupby('region').sum()"
   ]
  },
  {
   "cell_type": "markdown",
   "metadata": {
    "slideshow": {
     "slide_type": "fragment"
    }
   },
   "source": [
    "> Note that this DataFrame has the *region* as its index (text labels in bold) instead of integer row numbers.\n",
    "\n",
    "- Many of these columns are not useful - for example, it is not meaningful to add up a sum total of life expectancies.\n",
    "- It's helpful to extract the column we're interested in:"
   ]
  },
  {
   "cell_type": "code",
   "execution_count": 17,
   "metadata": {
    "slideshow": {
     "slide_type": "fragment"
    }
   },
   "outputs": [
    {
     "data": {
      "text/plain": [
       "region\n",
       "Africa      1286388200\n",
       "Americas    1010688000\n",
       "Asia        4514211000\n",
       "Europe       742109000\n",
       "Oceania       40212000\n",
       "Name: population, dtype: int64"
      ]
     },
     "execution_count": 17,
     "metadata": {},
     "output_type": "execute_result"
    }
   ],
   "source": [
    "region_pop_totals = world.groupby('region')['population'].sum()\n",
    "region_pop_totals"
   ]
  },
  {
   "cell_type": "markdown",
   "metadata": {
    "slideshow": {
     "slide_type": "fragment"
    }
   },
   "source": [
    "We can plot the totals as a bar chart:"
   ]
  },
  {
   "cell_type": "code",
   "execution_count": 18,
   "metadata": {},
   "outputs": [
    {
     "data": {
      "image/png": "[encoded data removed]",
      "text/plain": [
       "<Figure size 432x288 with 1 Axes>"
      ]
     },
     "metadata": {},
     "output_type": "display_data"
    }
   ],
   "source": [
    "region_pop_totals.plot(kind='bar');"
   ]
  },
  {
   "cell_type": "markdown",
   "metadata": {
    "slideshow": {
     "slide_type": "fragment"
    }
   },
   "source": [
    "We can find the size of the most populous country in each region by aggregating with `max` instead of `sum`:"
   ]
  },
  {
   "cell_type": "code",
   "execution_count": 19,
   "metadata": {
    "slideshow": {
     "slide_type": "-"
    }
   },
   "outputs": [
    {
     "data": {
      "text/plain": [
       "region\n",
       "Africa       196000000\n",
       "Americas     327000000\n",
       "Asia        1420000000\n",
       "Europe       144000000\n",
       "Oceania       24800000\n",
       "Name: population, dtype: int64"
      ]
     },
     "execution_count": 19,
     "metadata": {},
     "output_type": "execute_result"
    }
   ],
   "source": [
    "world.groupby('region')['population'].max()\n"
   ]
  },
  {
   "cell_type": "markdown",
   "metadata": {
    "slideshow": {
     "slide_type": "slide"
    }
   },
   "source": [
    "# Bonus: Fancier Aggregation\n",
    "\n",
    "We can compute sub-totals by grouping on multiple columns:"
   ]
  },
  {
   "cell_type": "code",
   "execution_count": 20,
   "metadata": {},
   "outputs": [
    {
     "data": {
      "text/plain": [
       "region    income_group\n",
       "Africa    High                 95200\n",
       "          Low              592992000\n",
       "          Lower middle     577861000\n",
       "          Upper middle     115440000\n",
       "Americas  High             436688000\n",
       "          Low               11100000\n",
       "          Lower middle      33310000\n",
       "          Upper middle     529590000\n",
       "Asia      High             250060000\n",
       "          Low              147910000\n",
       "          Lower middle    2338307000\n",
       "          Upper middle    1777934000\n",
       "Europe    High             496070000\n",
       "          Lower middle      48040000\n",
       "          Upper middle     197999000\n",
       "Oceania   High              29550000\n",
       "          Lower middle       9443000\n",
       "          Upper middle       1219000\n",
       "Name: population, dtype: int64"
      ]
     },
     "execution_count": 20,
     "metadata": {},
     "output_type": "execute_result"
    }
   ],
   "source": [
    "world.groupby(['region', 'income_group'])['population'].sum()"
   ]
  },
  {
   "cell_type": "markdown",
   "metadata": {
    "slideshow": {
     "slide_type": "slide"
    }
   },
   "source": [
    "We can use the `agg` method to compute multiple aggregated statistics on our data, for example minimum and maximum country populations in each region:"
   ]
  },
  {
   "cell_type": "code",
   "execution_count": 21,
   "metadata": {
    "slideshow": {
     "slide_type": "fragment"
    }
   },
   "outputs": [
    {
     "data": {
      "text/html": [
       "<div>\n",
       "<style scoped>\n",
       "    .dataframe tbody tr th:only-of-type {\n",
       "        vertical-align: middle;\n",
       "    }\n",
       "\n",
       "    .dataframe tbody tr th {\n",
       "        vertical-align: top;\n",
       "    }\n",
       "\n",
       "    .dataframe thead th {\n",
       "        text-align: right;\n",
       "    }\n",
       "</style>\n",
       "<table border=\"1\" class=\"dataframe\">\n",
       "  <thead>\n",
       "    <tr style=\"text-align: right;\">\n",
       "      <th></th>\n",
       "      <th>min</th>\n",
       "      <th>max</th>\n",
       "    </tr>\n",
       "    <tr>\n",
       "      <th>region</th>\n",
       "      <th></th>\n",
       "      <th></th>\n",
       "    </tr>\n",
       "  </thead>\n",
       "  <tbody>\n",
       "    <tr>\n",
       "      <th>Africa</th>\n",
       "      <td>95200</td>\n",
       "      <td>196000000</td>\n",
       "    </tr>\n",
       "    <tr>\n",
       "      <th>Americas</th>\n",
       "      <td>103000</td>\n",
       "      <td>327000000</td>\n",
       "    </tr>\n",
       "    <tr>\n",
       "      <th>Asia</th>\n",
       "      <td>444000</td>\n",
       "      <td>1420000000</td>\n",
       "    </tr>\n",
       "    <tr>\n",
       "      <th>Europe</th>\n",
       "      <td>338000</td>\n",
       "      <td>144000000</td>\n",
       "    </tr>\n",
       "    <tr>\n",
       "      <th>Oceania</th>\n",
       "      <td>109000</td>\n",
       "      <td>24800000</td>\n",
       "    </tr>\n",
       "  </tbody>\n",
       "</table>\n",
       "</div>"
      ],
      "text/plain": [
       "             min         max\n",
       "region                      \n",
       "Africa     95200   196000000\n",
       "Americas  103000   327000000\n",
       "Asia      444000  1420000000\n",
       "Europe    338000   144000000\n",
       "Oceania   109000    24800000"
      ]
     },
     "execution_count": 21,
     "metadata": {},
     "output_type": "execute_result"
    }
   ],
   "source": [
    "world.groupby('region')['population'].agg(['min', 'max'])"
   ]
  },
  {
   "cell_type": "markdown",
   "metadata": {
    "slideshow": {
     "slide_type": "fragment"
    }
   },
   "source": [
    "We can also use `agg` to compute different statistics for different columns:"
   ]
  },
  {
   "cell_type": "code",
   "execution_count": 22,
   "metadata": {
    "slideshow": {
     "slide_type": "fragment"
    }
   },
   "outputs": [
    {
     "data": {
      "text/html": [
       "<div>\n",
       "<style scoped>\n",
       "    .dataframe tbody tr th:only-of-type {\n",
       "        vertical-align: middle;\n",
       "    }\n",
       "\n",
       "    .dataframe tbody tr th {\n",
       "        vertical-align: top;\n",
       "    }\n",
       "\n",
       "    .dataframe thead tr th {\n",
       "        text-align: left;\n",
       "    }\n",
       "\n",
       "    .dataframe thead tr:last-of-type th {\n",
       "        text-align: right;\n",
       "    }\n",
       "</style>\n",
       "<table border=\"1\" class=\"dataframe\">\n",
       "  <thead>\n",
       "    <tr>\n",
       "      <th></th>\n",
       "      <th>population</th>\n",
       "      <th colspan=\"2\" halign=\"left\">life_expectancy</th>\n",
       "    </tr>\n",
       "    <tr>\n",
       "      <th></th>\n",
       "      <th>sum</th>\n",
       "      <th>min</th>\n",
       "      <th>max</th>\n",
       "    </tr>\n",
       "    <tr>\n",
       "      <th>region</th>\n",
       "      <th></th>\n",
       "      <th></th>\n",
       "      <th></th>\n",
       "    </tr>\n",
       "  </thead>\n",
       "  <tbody>\n",
       "    <tr>\n",
       "      <th>Africa</th>\n",
       "      <td>1286388200</td>\n",
       "      <td>51.1</td>\n",
       "      <td>78.0</td>\n",
       "    </tr>\n",
       "    <tr>\n",
       "      <th>Americas</th>\n",
       "      <td>1010688000</td>\n",
       "      <td>64.5</td>\n",
       "      <td>82.2</td>\n",
       "    </tr>\n",
       "    <tr>\n",
       "      <th>Asia</th>\n",
       "      <td>4514211000</td>\n",
       "      <td>58.7</td>\n",
       "      <td>84.2</td>\n",
       "    </tr>\n",
       "    <tr>\n",
       "      <th>Europe</th>\n",
       "      <td>742109000</td>\n",
       "      <td>71.1</td>\n",
       "      <td>83.5</td>\n",
       "    </tr>\n",
       "    <tr>\n",
       "      <th>Oceania</th>\n",
       "      <td>40212000</td>\n",
       "      <td>61.1</td>\n",
       "      <td>82.9</td>\n",
       "    </tr>\n",
       "  </tbody>\n",
       "</table>\n",
       "</div>"
      ],
      "text/plain": [
       "          population life_expectancy      \n",
       "                 sum             min   max\n",
       "region                                    \n",
       "Africa    1286388200            51.1  78.0\n",
       "Americas  1010688000            64.5  82.2\n",
       "Asia      4514211000            58.7  84.2\n",
       "Europe     742109000            71.1  83.5\n",
       "Oceania     40212000            61.1  82.9"
      ]
     },
     "execution_count": 22,
     "metadata": {},
     "output_type": "execute_result"
    }
   ],
   "source": [
    "agg_dict = {'population' : 'sum', \n",
    "            'life_expectancy' : ['min', 'max']}\n",
    "world.groupby('region').agg(agg_dict)"
   ]
  },
  {
   "cell_type": "markdown",
   "metadata": {
    "slideshow": {
     "slide_type": "fragment"
    }
   },
   "source": [
    "For even more complex aggregations, there is also a `pivot_table` method."
   ]
  },
  {
   "cell_type": "markdown",
   "metadata": {
    "slideshow": {
     "slide_type": "slide"
    }
   },
   "source": [
    "# Exercise 4\n",
    "\n",
    "Working with our DataFrame `world` containing the data from `data/gapminder_world_data_2018.csv`:\n",
    "\n",
    "**a)** Sort `world` on the `'pop_density'` column from lowest to highest and display the first 10 rows.\n",
    "- Does Canada appear anywhere in the results? Which country has the lowest population density?\n",
    "- Now sort from highest to lowest and display the first 10 rows. Which country has the highest population density?"
   ]
  },
  {
   "cell_type": "markdown",
   "metadata": {
    "slideshow": {
     "slide_type": "-"
    }
   },
   "source": [
    "**b)** Let's find out how many countries have life expectancy greater than 80 years and the total number of people living in those countries.\n",
    "- Create a Boolean Series `long_life` which is `True` for rows where `world['life_expectancy']` is greater than 80, and `False` otherwise.\n",
    "- Take the sum of `long_life` to find out how many countries have life expectancy > 80.\n",
    "- Use `long_life` as a filter to extract the rows of `world` with life expectancy > 80, and store the output as a new DataFrame `world_long_life`.\n",
    "- Use the `sum` method on the `population` column of `world_long_life` to find the total population in these countries. "
   ]
  },
  {
   "cell_type": "markdown",
   "metadata": {},
   "source": [
    "**c)** Group by `'income_group'` and take the sum of `'population'` to find the total population in each income group."
   ]
  },
  {
   "cell_type": "markdown",
   "metadata": {},
   "source": [
    "### Bonus exercises\n",
    "\n",
    "**d)** Repeat (a) for the `'population'` column to find the countries with the lowest and highest populations."
   ]
  },
  {
   "cell_type": "markdown",
   "metadata": {},
   "source": [
    "**e)** Building on your results from (b), what *fraction* of the world's total population lives in countries with life expectancy above 80 years?"
   ]
  },
  {
   "cell_type": "markdown",
   "metadata": {},
   "source": [
    "**f)** How many countries have life expectancy > 80 *and* are in the \"Upper middle\" income group? Which countries are they? Hints:\n",
    "- In Lesson 1, we saw the `and`, `or`, and `not` logical operators. When working with arrays of data such `pandas` Series and DataFrames, we have to use different operators: `&` (and), `|` (or), `~` (not). So for example, to find which countries in Europe have population above 20 million, we could create the Boolean Series:\n",
    "\n",
    "```python\n",
    "europe_high_pop = (world['region'] == 'Europe') & (world['population'] > 2e7)\n",
    "```\n",
    "\n",
    "- Note the parentheses around the expressions on either side of `&` - these are very important! The `&` operator has precedence over the `==` and `>` comparison operators, so parentheses are necessary to ensure the correct order of operations."
   ]
  },
  {
   "cell_type": "markdown",
   "metadata": {},
   "source": [
    "**g) Data wrangling - downloading and concatenating Environment Canada weather data**\n",
    "\n",
    "Now we'll put all the pieces together to download and concatenate YVR weather data from Environment Canada!\n",
    "- First, I recommend making a copy of the `data/raw` sub-folder so that you can preserve the original files in case you need them.\n",
    "- If you haven't already, complete previous bonus exercise 2(f) to import the local file `ecweather.py` as a library.\n",
    "\n",
    "Copy the code below into your notebook and run it:\n",
    "\n",
    "```python\n",
    "# Environment Canada station ID code for Vancouver Airport\n",
    "station_id = 889\n",
    "\n",
    "# Save CSV file for 1938\n",
    "year = 1938\n",
    "savefile = 'data/raw/downloaded_weather_YVR_' + str(year) + '.csv'\n",
    "ecweather.download_daily_raw(env_canada_id=station_id, year=year, savefile=savefile)\n",
    "```\n",
    "\n",
    "If it ran successfully, you'll have a new file `downloaded_weather_YVR_1938.csv` in the `data/raw` sub-folder. Check out the file in JupyterLab CSV viewer.\n",
    "\n",
    "Next, using the code above and previous bonus exercise 3(h) as a guide, create a loop which loops over the years 1938-2012 and downloads the CSV file for each year. Run your code and check the files in the `data/raw` sub-folder to make sure the files were saved properly.\n",
    "\n",
    "> Note: Environment Canada changed its station ID code for Vancouver Airport in mid-2013, which completes things. To keep this exercise simple, we'll only work with data from 1938-2012.\n",
    "\n",
    "Finally, create a for loop, based on your work in previous bonus exercise 3(h), to read each CSV file into a DataFrame and concatenate them all together into a single DataFrame. Check that the shape, dates, etc. in the merged data make sense, and save the merged data to a CSV file `data/merged_weather_YVR_1938-2012.csv`.\n",
    "\n",
    "**Data wrangling mission completed! Great work!!!**\n",
    "\n",
    "> If you want to see all the nitty gritty details that went into creating the full 1938-2017 file we used in earlier exercises, check out the notebooks in the `wrangling-env-canada` folder. "
   ]
  },
  {
   "cell_type": "markdown",
   "metadata": {},
   "source": [
    "[previous lesson](3-basic-calculations-plots.ipynb) | [next lesson](5-indexing-subsets.ipynb)\n",
    "\n",
    "[home](0-introduction.ipynb)"
   ]
  }
 ],
 "metadata": {
  "celltoolbar": "Slideshow",
  "kernelspec": {
   "display_name": "Python [default]",
   "language": "python",
   "name": "python3"
  },
  "language_info": {
   "codemirror_mode": {
    "name": "ipython",
    "version": 3
   },
   "file_extension": ".py",
   "mimetype": "text/x-python",
   "name": "python",
   "nbconvert_exporter": "python",
   "pygments_lexer": "ipython3",
   "version": "3.6.4"
  },
  "livereveal": {
   "scroll": true,
   "theme": "solarized",
   "transition": "none"
  }
 },
 "nbformat": 4,
 "nbformat_minor": 2
}
