{
 "cells": [
  {
   "cell_type": "markdown",
   "metadata": {
    "slideshow": {
     "slide_type": "slide"
    }
   },
   "source": [
    "# Lesson 5: Indexing & Subsets"
   ]
  },
  {
   "cell_type": "markdown",
   "metadata": {
    "slideshow": {
     "slide_type": "skip"
    }
   },
   "source": [
    "## Initial Setup\n",
    "\n",
    "Import libraries and initialize variables to pick up where we left off in the previous lesson."
   ]
  },
  {
   "cell_type": "code",
   "execution_count": 1,
   "metadata": {
    "slideshow": {
     "slide_type": "skip"
    }
   },
   "outputs": [],
   "source": [
    "import pandas\n",
    "%matplotlib inline"
   ]
  },
  {
   "cell_type": "code",
   "execution_count": 2,
   "metadata": {
    "slideshow": {
     "slide_type": "skip"
    }
   },
   "outputs": [],
   "source": [
    "weather = pandas.read_csv('data/weather_YVR.csv')\n",
    "weather['Date'] = pandas.to_datetime(weather['Date'])\n",
    "weather['Rain (inches)'] = weather['Rain (mm)'] / 25.4\n",
    "weather['T_range (C)'] = weather['T_high (C)'] - weather['T_low (C)']"
   ]
  },
  {
   "cell_type": "code",
   "execution_count": 3,
   "metadata": {
    "slideshow": {
     "slide_type": "skip"
    }
   },
   "outputs": [],
   "source": [
    "world = pandas.read_csv('data/gapminder_world_data_2018.csv')\n",
    "world['area'] = world['population'] / world['pop_density']"
   ]
  },
  {
   "cell_type": "markdown",
   "metadata": {
    "slideshow": {
     "slide_type": "slide"
    }
   },
   "source": [
    "# Subsets\n",
    "\n",
    "We often need to work with subsets of our data, such as specific rows/columns, or values matching some criteria, in order to:\n",
    "- Analyze and/or plot subsets individually\n",
    "- Investigate messy and/or suspect data\n",
    "- Explore potential outliers\n",
    "- Modify specific values within our data, such as correcting spelling mistakes or filling missing data\n",
    "\n",
    "> Note: In this workshop, we're focusing mostly on extracting and analyzing subsets *without modifying them* (except for a few simple cases we've seen earlier, such as converting the entire `'Date'` column of weather data from text to datetime type).\n",
    "- Modifying subsets of `pandas` DataFrames can get tricky due to various issues such chained indexing, views vs. copies of data, and some nitty gritty details that can cause different behaviour (error / warning / assignment failed or succeeded) depending on the exact syntax used &mdash; this topic requires a more in-depth discussion than we have time for here.\n",
    "- To learn more about modifying data subsets: \n",
    "  - [Selecting Subsets of Data in Pandas: Parts 1-3](https://medium.com/dunder-data/selecting-subsets-of-data-in-pandas-6fcd0170be9c)\n",
    "  - [Selecting Subsets of Data in Pandas: Part 4](https://medium.com/dunder-data/selecting-subsets-of-data-in-pandas-part-4-c4216f84d388)\n",
    "  - [Understanding SettingWithCopy Warning in Pandas](https://www.dataquest.io/blog/settingwithcopywarning/)"
   ]
  },
  {
   "cell_type": "markdown",
   "metadata": {
    "slideshow": {
     "slide_type": "slide"
    }
   },
   "source": [
    "# Selection Methods\n",
    "\n",
    "When working with Python objects such as lists or dictionaries, we can use square brackets `[]` as an **indexing operator** to select item(s) within the object, for example:\n",
    "```python\n",
    "first_five = my_list[:5]\n",
    "vancouver_population = populations_dict['Vancouver']\n",
    "```"
   ]
  },
  {
   "cell_type": "markdown",
   "metadata": {
    "slideshow": {
     "slide_type": "fragment"
    }
   },
   "source": [
    "With `pandas` DataFrames and Series, we still use the indexing operator to select subsets, but it can be applied in many different ways\n",
    "- `pandas` provides very flexible and powerful options for selecting subsets...\n",
    "- ... but keeping track of them all can get confusing!"
   ]
  },
  {
   "cell_type": "markdown",
   "metadata": {
    "slideshow": {
     "slide_type": "slide"
    }
   },
   "source": [
    "There are three main ways of selecting subsets of a DataFrame (or Series):\n",
    "<ol>\n",
    "    <li>Using only square brackets `[]`</li>\n",
    "    <li>Positional indexing with `.iloc[]`</li>\n",
    "    <li>Label-based indexing with `.loc[]`</li>\n",
    "</ol>"
   ]
  },
  {
   "cell_type": "markdown",
   "metadata": {
    "slideshow": {
     "slide_type": "fragment"
    }
   },
   "source": [
    "We've already used the first approach in the previous lessons. Let's review and then discuss the other two options.\n",
    "\n",
    "> We'll focus on DataFrames here, but the concepts and syntax are similar for Series"
   ]
  },
  {
   "cell_type": "markdown",
   "metadata": {
    "slideshow": {
     "slide_type": "slide"
    }
   },
   "source": [
    "# Square Brackets Only\n",
    "\n",
    "- With this option, we can select a subset of a DataFrame's rows **or** a subset of a DataFrame's columns, but we can't select both rows and columns at once.\n",
    "- `pandas` will figure out from the context whether you're selecting rows or columns.\n"
   ]
  },
  {
   "cell_type": "markdown",
   "metadata": {
    "slideshow": {
     "slide_type": "fragment"
    }
   },
   "source": [
    "We've seen examples of of this approach already:\n",
    "- Selecting a column or list of columns of a DataFrame, for example:\n",
    "```python\n",
    "population_data = world[['country', 'population']]\n",
    "```"
   ]
  },
  {
   "cell_type": "markdown",
   "metadata": {
    "slideshow": {
     "slide_type": "fragment"
    }
   },
   "source": [
    "- Selecting rows of a DataFrame based on some criteria, for example:\n",
    "```python\n",
    "long_life = world['life_expectancy'] > 80\n",
    "world_long_life = world[long_life]\n",
    "```"
   ]
  },
  {
   "cell_type": "markdown",
   "metadata": {
    "slideshow": {
     "slide_type": "fragment"
    }
   },
   "source": [
    "- Using just the indexing operator `[]` is a handy shortcut for some very common subsets\n",
    "- However, it is fairly limited &mdash; for example, we can't select both rows AND columns at once\n",
    "- For more complex subsets, we can use `.iloc[]` or `.loc[]`, as we shall see shortly"
   ]
  },
  {
   "cell_type": "markdown",
   "metadata": {
    "slideshow": {
     "slide_type": "slide"
    }
   },
   "source": [
    "# Indexing\n",
    "\n",
    "Before we dive into `iloc` and `loc`, let's take a closer look at how data is organized in our DataFrame `world`."
   ]
  },
  {
   "cell_type": "code",
   "execution_count": 4,
   "metadata": {},
   "outputs": [
    {
     "data": {
      "text/html": [
       "<div>\n",
       "<style scoped>\n",
       "    .dataframe tbody tr th:only-of-type {\n",
       "        vertical-align: middle;\n",
       "    }\n",
       "\n",
       "    .dataframe tbody tr th {\n",
       "        vertical-align: top;\n",
       "    }\n",
       "\n",
       "    .dataframe thead th {\n",
       "        text-align: right;\n",
       "    }\n",
       "</style>\n",
       "<table border=\"1\" class=\"dataframe\">\n",
       "  <thead>\n",
       "    <tr style=\"text-align: right;\">\n",
       "      <th></th>\n",
       "      <th>country</th>\n",
       "      <th>population</th>\n",
       "      <th>region</th>\n",
       "      <th>sub_region</th>\n",
       "      <th>income_group</th>\n",
       "      <th>life_expectancy</th>\n",
       "      <th>gdp_per_capita</th>\n",
       "      <th>children_per_woman</th>\n",
       "      <th>child_mortality</th>\n",
       "      <th>pop_density</th>\n",
       "      <th>area</th>\n",
       "    </tr>\n",
       "  </thead>\n",
       "  <tbody>\n",
       "    <tr>\n",
       "      <th>0</th>\n",
       "      <td>Afghanistan</td>\n",
       "      <td>36400000</td>\n",
       "      <td>Asia</td>\n",
       "      <td>Southern Asia</td>\n",
       "      <td>Low</td>\n",
       "      <td>58.7</td>\n",
       "      <td>1870</td>\n",
       "      <td>4.33</td>\n",
       "      <td>65.90</td>\n",
       "      <td>55.7</td>\n",
       "      <td>6.535009e+05</td>\n",
       "    </tr>\n",
       "    <tr>\n",
       "      <th>1</th>\n",
       "      <td>Albania</td>\n",
       "      <td>2930000</td>\n",
       "      <td>Europe</td>\n",
       "      <td>Southern Europe</td>\n",
       "      <td>Upper middle</td>\n",
       "      <td>78.0</td>\n",
       "      <td>12400</td>\n",
       "      <td>1.71</td>\n",
       "      <td>12.90</td>\n",
       "      <td>107.0</td>\n",
       "      <td>2.738318e+04</td>\n",
       "    </tr>\n",
       "    <tr>\n",
       "      <th>2</th>\n",
       "      <td>Algeria</td>\n",
       "      <td>42000000</td>\n",
       "      <td>Africa</td>\n",
       "      <td>Northern Africa</td>\n",
       "      <td>Upper middle</td>\n",
       "      <td>77.9</td>\n",
       "      <td>13700</td>\n",
       "      <td>2.64</td>\n",
       "      <td>23.10</td>\n",
       "      <td>17.6</td>\n",
       "      <td>2.386364e+06</td>\n",
       "    </tr>\n",
       "    <tr>\n",
       "      <th>3</th>\n",
       "      <td>Angola</td>\n",
       "      <td>30800000</td>\n",
       "      <td>Africa</td>\n",
       "      <td>Sub-Saharan Africa</td>\n",
       "      <td>Lower middle</td>\n",
       "      <td>65.2</td>\n",
       "      <td>5850</td>\n",
       "      <td>5.55</td>\n",
       "      <td>81.60</td>\n",
       "      <td>24.7</td>\n",
       "      <td>1.246964e+06</td>\n",
       "    </tr>\n",
       "    <tr>\n",
       "      <th>4</th>\n",
       "      <td>Antigua and Barbuda</td>\n",
       "      <td>103000</td>\n",
       "      <td>Americas</td>\n",
       "      <td>Latin America and the Caribbean</td>\n",
       "      <td>High</td>\n",
       "      <td>77.6</td>\n",
       "      <td>21000</td>\n",
       "      <td>2.03</td>\n",
       "      <td>7.89</td>\n",
       "      <td>234.0</td>\n",
       "      <td>4.401709e+02</td>\n",
       "    </tr>\n",
       "  </tbody>\n",
       "</table>\n",
       "</div>"
      ],
      "text/plain": [
       "               country  population    region                       sub_region  \\\n",
       "0          Afghanistan    36400000      Asia                    Southern Asia   \n",
       "1              Albania     2930000    Europe                  Southern Europe   \n",
       "2              Algeria    42000000    Africa                  Northern Africa   \n",
       "3               Angola    30800000    Africa               Sub-Saharan Africa   \n",
       "4  Antigua and Barbuda      103000  Americas  Latin America and the Caribbean   \n",
       "\n",
       "   income_group  life_expectancy  gdp_per_capita  children_per_woman  \\\n",
       "0           Low             58.7            1870                4.33   \n",
       "1  Upper middle             78.0           12400                1.71   \n",
       "2  Upper middle             77.9           13700                2.64   \n",
       "3  Lower middle             65.2            5850                5.55   \n",
       "4          High             77.6           21000                2.03   \n",
       "\n",
       "   child_mortality  pop_density          area  \n",
       "0            65.90         55.7  6.535009e+05  \n",
       "1            12.90        107.0  2.738318e+04  \n",
       "2            23.10         17.6  2.386364e+06  \n",
       "3            81.60         24.7  1.246964e+06  \n",
       "4             7.89        234.0  4.401709e+02  "
      ]
     },
     "execution_count": 4,
     "metadata": {},
     "output_type": "execute_result"
    }
   ],
   "source": [
    "world.head()"
   ]
  },
  {
   "cell_type": "markdown",
   "metadata": {},
   "source": [
    "- As we've seen before, the bold integers on the left are the DataFrame's index.\n",
    "- The index provides **labels** for each row of a DataFrame.\n",
    "  - In this case, the labels are just equal to the row numbers.\n",
    "- We can see the index values by accessing the `index` attribute:"
   ]
  },
  {
   "cell_type": "code",
   "execution_count": 5,
   "metadata": {},
   "outputs": [
    {
     "data": {
      "text/plain": [
       "RangeIndex(start=0, stop=178, step=1)"
      ]
     },
     "execution_count": 5,
     "metadata": {},
     "output_type": "execute_result"
    }
   ],
   "source": [
    "world.index"
   ]
  },
  {
   "cell_type": "markdown",
   "metadata": {},
   "source": [
    "The output above tells us that the index is a range of consecutive integers from 0 to 177\n",
    "> Similar to start/stop bounds in list slicing, a `RangeIndex` is inclusive of the start and exclusive of the stop bound."
   ]
  },
  {
   "cell_type": "markdown",
   "metadata": {},
   "source": [
    "To better illustrate the difference between positional and label-based indexing, let's create a new DataFrame with the world data, setting the `'country'` column as the index."
   ]
  },
  {
   "cell_type": "code",
   "execution_count": 6,
   "metadata": {},
   "outputs": [
    {
     "data": {
      "text/html": [
       "<div>\n",
       "<style scoped>\n",
       "    .dataframe tbody tr th:only-of-type {\n",
       "        vertical-align: middle;\n",
       "    }\n",
       "\n",
       "    .dataframe tbody tr th {\n",
       "        vertical-align: top;\n",
       "    }\n",
       "\n",
       "    .dataframe thead th {\n",
       "        text-align: right;\n",
       "    }\n",
       "</style>\n",
       "<table border=\"1\" class=\"dataframe\">\n",
       "  <thead>\n",
       "    <tr style=\"text-align: right;\">\n",
       "      <th></th>\n",
       "      <th>population</th>\n",
       "      <th>region</th>\n",
       "      <th>sub_region</th>\n",
       "      <th>income_group</th>\n",
       "      <th>life_expectancy</th>\n",
       "      <th>gdp_per_capita</th>\n",
       "      <th>children_per_woman</th>\n",
       "      <th>child_mortality</th>\n",
       "      <th>pop_density</th>\n",
       "      <th>area</th>\n",
       "    </tr>\n",
       "    <tr>\n",
       "      <th>country</th>\n",
       "      <th></th>\n",
       "      <th></th>\n",
       "      <th></th>\n",
       "      <th></th>\n",
       "      <th></th>\n",
       "      <th></th>\n",
       "      <th></th>\n",
       "      <th></th>\n",
       "      <th></th>\n",
       "      <th></th>\n",
       "    </tr>\n",
       "  </thead>\n",
       "  <tbody>\n",
       "    <tr>\n",
       "      <th>Afghanistan</th>\n",
       "      <td>36400000</td>\n",
       "      <td>Asia</td>\n",
       "      <td>Southern Asia</td>\n",
       "      <td>Low</td>\n",
       "      <td>58.7</td>\n",
       "      <td>1870</td>\n",
       "      <td>4.33</td>\n",
       "      <td>65.90</td>\n",
       "      <td>55.7</td>\n",
       "      <td>6.535009e+05</td>\n",
       "    </tr>\n",
       "    <tr>\n",
       "      <th>Albania</th>\n",
       "      <td>2930000</td>\n",
       "      <td>Europe</td>\n",
       "      <td>Southern Europe</td>\n",
       "      <td>Upper middle</td>\n",
       "      <td>78.0</td>\n",
       "      <td>12400</td>\n",
       "      <td>1.71</td>\n",
       "      <td>12.90</td>\n",
       "      <td>107.0</td>\n",
       "      <td>2.738318e+04</td>\n",
       "    </tr>\n",
       "    <tr>\n",
       "      <th>Algeria</th>\n",
       "      <td>42000000</td>\n",
       "      <td>Africa</td>\n",
       "      <td>Northern Africa</td>\n",
       "      <td>Upper middle</td>\n",
       "      <td>77.9</td>\n",
       "      <td>13700</td>\n",
       "      <td>2.64</td>\n",
       "      <td>23.10</td>\n",
       "      <td>17.6</td>\n",
       "      <td>2.386364e+06</td>\n",
       "    </tr>\n",
       "    <tr>\n",
       "      <th>Angola</th>\n",
       "      <td>30800000</td>\n",
       "      <td>Africa</td>\n",
       "      <td>Sub-Saharan Africa</td>\n",
       "      <td>Lower middle</td>\n",
       "      <td>65.2</td>\n",
       "      <td>5850</td>\n",
       "      <td>5.55</td>\n",
       "      <td>81.60</td>\n",
       "      <td>24.7</td>\n",
       "      <td>1.246964e+06</td>\n",
       "    </tr>\n",
       "    <tr>\n",
       "      <th>Antigua and Barbuda</th>\n",
       "      <td>103000</td>\n",
       "      <td>Americas</td>\n",
       "      <td>Latin America and the Caribbean</td>\n",
       "      <td>High</td>\n",
       "      <td>77.6</td>\n",
       "      <td>21000</td>\n",
       "      <td>2.03</td>\n",
       "      <td>7.89</td>\n",
       "      <td>234.0</td>\n",
       "      <td>4.401709e+02</td>\n",
       "    </tr>\n",
       "  </tbody>\n",
       "</table>\n",
       "</div>"
      ],
      "text/plain": [
       "                     population    region                       sub_region  \\\n",
       "country                                                                      \n",
       "Afghanistan            36400000      Asia                    Southern Asia   \n",
       "Albania                 2930000    Europe                  Southern Europe   \n",
       "Algeria                42000000    Africa                  Northern Africa   \n",
       "Angola                 30800000    Africa               Sub-Saharan Africa   \n",
       "Antigua and Barbuda      103000  Americas  Latin America and the Caribbean   \n",
       "\n",
       "                     income_group  life_expectancy  gdp_per_capita  \\\n",
       "country                                                              \n",
       "Afghanistan                   Low             58.7            1870   \n",
       "Albania              Upper middle             78.0           12400   \n",
       "Algeria              Upper middle             77.9           13700   \n",
       "Angola               Lower middle             65.2            5850   \n",
       "Antigua and Barbuda          High             77.6           21000   \n",
       "\n",
       "                     children_per_woman  child_mortality  pop_density  \\\n",
       "country                                                                 \n",
       "Afghanistan                        4.33            65.90         55.7   \n",
       "Albania                            1.71            12.90        107.0   \n",
       "Algeria                            2.64            23.10         17.6   \n",
       "Angola                             5.55            81.60         24.7   \n",
       "Antigua and Barbuda                2.03             7.89        234.0   \n",
       "\n",
       "                             area  \n",
       "country                            \n",
       "Afghanistan          6.535009e+05  \n",
       "Albania              2.738318e+04  \n",
       "Algeria              2.386364e+06  \n",
       "Angola               1.246964e+06  \n",
       "Antigua and Barbuda  4.401709e+02  "
      ]
     },
     "execution_count": 6,
     "metadata": {},
     "output_type": "execute_result"
    }
   ],
   "source": [
    "world_new = world.set_index('country')\n",
    "world_new.head()"
   ]
  },
  {
   "cell_type": "markdown",
   "metadata": {},
   "source": [
    "- Notice that the country names are now in bold on the left.\n",
    "- Instead of integer row numbers, the DataFrame's rows are now labelled with country names:"
   ]
  },
  {
   "cell_type": "code",
   "execution_count": 7,
   "metadata": {},
   "outputs": [
    {
     "data": {
      "text/plain": [
       "Index(['Afghanistan', 'Albania', 'Algeria', 'Angola', 'Antigua and Barbuda',\n",
       "       'Argentina', 'Armenia', 'Australia', 'Austria', 'Azerbaijan',\n",
       "       ...\n",
       "       'United Kingdom', 'United States', 'Uruguay', 'Uzbekistan', 'Vanuatu',\n",
       "       'Venezuela', 'Vietnam', 'Yemen', 'Zambia', 'Zimbabwe'],\n",
       "      dtype='object', name='country', length=178)"
      ]
     },
     "execution_count": 7,
     "metadata": {},
     "output_type": "execute_result"
    }
   ],
   "source": [
    "world_new.index"
   ]
  },
  {
   "cell_type": "markdown",
   "metadata": {
    "slideshow": {
     "slide_type": "slide"
    }
   },
   "source": [
    "# Anatomy of a DataFrame\n",
    "\n",
    "The diagram below illustrates how data is organized in our DataFrame `world_new` (looking at the first 8 rows)."
   ]
  },
  {
   "cell_type": "markdown",
   "metadata": {
    "slideshow": {
     "slide_type": "fragment"
    }
   },
   "source": [
    "![dataframe1](img/dataframe1.png)"
   ]
  },
  {
   "cell_type": "markdown",
   "metadata": {
    "slideshow": {
     "slide_type": "-"
    }
   },
   "source": [
    "- The column labels are shaded in green\n",
    "- The index is shaded in blue &mdash; it provides labels for each row\n",
    "  - The first row of `world_new` is labelled `'Afghanistan'`\n",
    "  - The second row is labelled `'Albania'`\n",
    "  - And so on for each of the following rows\n",
    "- The actual data is the white area outlined in red"
   ]
  },
  {
   "cell_type": "markdown",
   "metadata": {
    "slideshow": {
     "slide_type": "fragment"
    }
   },
   "source": [
    "The column labels and index are **metadata** &mdash; they give us information about the data.\n",
    "\n",
    "The underlying data (without the metadata) is a `numpy` array which we can access with the `values` attribute:"
   ]
  },
  {
   "cell_type": "code",
   "execution_count": 8,
   "metadata": {
    "slideshow": {
     "slide_type": "fragment"
    }
   },
   "outputs": [
    {
     "data": {
      "text/plain": [
       "array([[36400000, 'Asia', 'Southern Asia', ..., 65.9, 55.7,\n",
       "        653500.8976660682],\n",
       "       [2930000, 'Europe', 'Southern Europe', ..., 12.9, 107.0,\n",
       "        27383.17757009346],\n",
       "       [42000000, 'Africa', 'Northern Africa', ..., 23.1, 17.6,\n",
       "        2386363.6363636362],\n",
       "       ...,\n",
       "       [28900000, 'Asia', 'Western Asia', ..., 51.9, 54.8,\n",
       "        527372.2627737226],\n",
       "       [17600000, 'Africa', 'Sub-Saharan Africa', ..., 59.5, 23.7,\n",
       "        742616.0337552743],\n",
       "       [16900000, 'Africa', 'Sub-Saharan Africa', ..., 55.5, 43.7,\n",
       "        386727.68878718535]], dtype=object)"
      ]
     },
     "execution_count": 8,
     "metadata": {},
     "output_type": "execute_result"
    }
   ],
   "source": [
    "world_new.values"
   ]
  },
  {
   "cell_type": "markdown",
   "metadata": {
    "slideshow": {
     "slide_type": "fragment"
    }
   },
   "source": [
    "As we saw previously, we can access the column and row labels with the `columns` and `index` attributes:"
   ]
  },
  {
   "cell_type": "code",
   "execution_count": 9,
   "metadata": {
    "slideshow": {
     "slide_type": "fragment"
    }
   },
   "outputs": [
    {
     "data": {
      "text/plain": [
       "Index(['population', 'region', 'sub_region', 'income_group', 'life_expectancy',\n",
       "       'gdp_per_capita', 'children_per_woman', 'child_mortality',\n",
       "       'pop_density', 'area'],\n",
       "      dtype='object')"
      ]
     },
     "execution_count": 9,
     "metadata": {},
     "output_type": "execute_result"
    }
   ],
   "source": [
    "world_new.columns"
   ]
  },
  {
   "cell_type": "code",
   "execution_count": 10,
   "metadata": {
    "slideshow": {
     "slide_type": "fragment"
    }
   },
   "outputs": [
    {
     "data": {
      "text/plain": [
       "Index(['Afghanistan', 'Albania', 'Algeria', 'Angola', 'Antigua and Barbuda',\n",
       "       'Argentina', 'Armenia', 'Australia', 'Austria', 'Azerbaijan',\n",
       "       ...\n",
       "       'United Kingdom', 'United States', 'Uruguay', 'Uzbekistan', 'Vanuatu',\n",
       "       'Venezuela', 'Vietnam', 'Yemen', 'Zambia', 'Zimbabwe'],\n",
       "      dtype='object', name='country', length=178)"
      ]
     },
     "execution_count": 10,
     "metadata": {},
     "output_type": "execute_result"
    }
   ],
   "source": [
    "world_new.index"
   ]
  },
  {
   "cell_type": "markdown",
   "metadata": {
    "slideshow": {
     "slide_type": "slide"
    }
   },
   "source": [
    "# Row and Column Positions\n",
    "\n",
    "DataFrames are 2-dimensional:\n",
    "- The rows are the first dimension\n",
    "- The columns are the second dimension"
   ]
  },
  {
   "cell_type": "markdown",
   "metadata": {
    "slideshow": {
     "slide_type": "fragment"
    }
   },
   "source": [
    "We've seen this with the `shape` attribute, which is a tuple with the number of rows first, followed by the number of columns."
   ]
  },
  {
   "cell_type": "code",
   "execution_count": 11,
   "metadata": {
    "slideshow": {
     "slide_type": "-"
    }
   },
   "outputs": [
    {
     "data": {
      "text/plain": [
       "(178, 10)"
      ]
     },
     "execution_count": 11,
     "metadata": {},
     "output_type": "execute_result"
    }
   ],
   "source": [
    "world_new.shape"
   ]
  },
  {
   "cell_type": "markdown",
   "metadata": {
    "slideshow": {
     "slide_type": "slide"
    }
   },
   "source": [
    "Just as the positions of items in a Python list are counted with integers starting at 0, so are the rows and columns of a DataFrame:"
   ]
  },
  {
   "cell_type": "markdown",
   "metadata": {
    "slideshow": {
     "slide_type": "-"
    }
   },
   "source": [
    "![dataframe2](img/dataframe2.png)"
   ]
  },
  {
   "cell_type": "markdown",
   "metadata": {
    "slideshow": {
     "slide_type": "fragment"
    }
   },
   "source": [
    "> Note: The DataFrame's column labels (green shaded area) are not counted as a row, and the index (blue shaded area) is not counted as a column."
   ]
  },
  {
   "cell_type": "markdown",
   "metadata": {
    "slideshow": {
     "slide_type": "slide"
    }
   },
   "source": [
    "# Positions and Labels\n",
    "\n",
    "Each individual cell in a DataFrame, such as the yellow one highlighted below, is associated with:\n",
    "- A row position and column position, and\n",
    "- A row label and column label"
   ]
  },
  {
   "cell_type": "markdown",
   "metadata": {
    "slideshow": {
     "slide_type": "-"
    }
   },
   "source": [
    "![dataframe3](img/dataframe3.png)"
   ]
  },
  {
   "cell_type": "markdown",
   "metadata": {
    "slideshow": {
     "slide_type": "fragment"
    }
   },
   "source": [
    "To select data in a DataFrame with `iloc` or `loc`, we specify the **row(s) first, followed by the column(s)**"
   ]
  },
  {
   "cell_type": "markdown",
   "metadata": {
    "slideshow": {
     "slide_type": "fragment"
    }
   },
   "source": [
    "- With **positional indexing**, we use the `iloc` attribute (you can think of it as \"integer location\") followed by square brackets containing the row position(s) followed by column position(s)\n",
    "- For example, we can use the row number and column number to select the yellow cell from the above diagram:"
   ]
  },
  {
   "cell_type": "code",
   "execution_count": 12,
   "metadata": {
    "slideshow": {
     "slide_type": "fragment"
    }
   },
   "outputs": [
    {
     "data": {
      "text/plain": [
       "77.9"
      ]
     },
     "execution_count": 12,
     "metadata": {},
     "output_type": "execute_result"
    }
   ],
   "source": [
    "# Position: row 2, column 4\n",
    "world_new.iloc[2, 4]"
   ]
  },
  {
   "cell_type": "markdown",
   "metadata": {
    "slideshow": {
     "slide_type": "fragment"
    }
   },
   "source": [
    "- With **label-based indexing**, we use the `loc` attribute followed by square brackets containing the row label(s) followed by the column label(s)\n",
    "- For example, we use the row label and column label to select the yellow cell:"
   ]
  },
  {
   "cell_type": "code",
   "execution_count": 13,
   "metadata": {
    "slideshow": {
     "slide_type": "fragment"
    }
   },
   "outputs": [
    {
     "data": {
      "text/plain": [
       "77.9"
      ]
     },
     "execution_count": 13,
     "metadata": {},
     "output_type": "execute_result"
    }
   ],
   "source": [
    "# Labels - row: 'Algeria', column: 'life_expectancy'\n",
    "world_new.loc['Algeria', 'life_expectancy']"
   ]
  },
  {
   "cell_type": "markdown",
   "metadata": {
    "slideshow": {
     "slide_type": "fragment"
    }
   },
   "source": [
    "- Label-based indexing can be really handy because it allows us to use our DataFrame as a **lookup table**, as in the example above\n",
    "- If we don't know or care about the row and column number of the data of interest, we can use labels to look up the value\n",
    "  - To find out the GDP per capita in Canada, we can just specify the labels `'Canada'` and `'gdp_per_capita'`."
   ]
  },
  {
   "cell_type": "markdown",
   "metadata": {
    "slideshow": {
     "slide_type": "slide"
    }
   },
   "source": [
    "# Exercise 5.1\n",
    "\n",
    "a) Use `iloc` to select the cell in row 5, column 8 of `world_new`."
   ]
  },
  {
   "cell_type": "markdown",
   "metadata": {
    "slideshow": {
     "slide_type": "slide"
    }
   },
   "source": [
    "b) Same as a) but using `loc`."
   ]
  },
  {
   "cell_type": "markdown",
   "metadata": {
    "slideshow": {
     "slide_type": "slide"
    }
   },
   "source": [
    "c) Use `loc` to select the cell in `world_new` containing the population of Australia."
   ]
  },
  {
   "cell_type": "markdown",
   "metadata": {
    "slideshow": {
     "slide_type": "slide"
    }
   },
   "source": [
    "d) Same as c) but using `iloc`"
   ]
  },
  {
   "cell_type": "markdown",
   "metadata": {
    "slideshow": {
     "slide_type": "slide"
    }
   },
   "source": [
    "# Positional Indexing\n",
    "\n",
    "With Python lists, we can use positional indexing to select:\n",
    "- A single item at a specified position, or\n",
    "- A slice `start:stop:step`"
   ]
  },
  {
   "cell_type": "code",
   "execution_count": 14,
   "metadata": {
    "slideshow": {
     "slide_type": "fragment"
    }
   },
   "outputs": [
    {
     "name": "stdout",
     "output_type": "stream",
     "text": [
      "cat\n",
      "['elephant', 'duck', 'hamster']\n",
      "['cat', 'elephant', 'hamster', 'parrot']\n"
     ]
    }
   ],
   "source": [
    "animals = ['cat', 'dog', 'elephant', 'duck', 'hamster', 'sheep', 'parrot']\n",
    "\n",
    "# Print item 0\n",
    "print(animals[0])\n",
    "\n",
    "# Print items in the slice 2:5 (i.e. items 2, 3, 4)\n",
    "print(animals[2:5])\n",
    "\n",
    "# Print every second item starting from position 0\n",
    "print(animals[::2])"
   ]
  },
  {
   "cell_type": "markdown",
   "metadata": {
    "slideshow": {
     "slide_type": "fragment"
    }
   },
   "source": [
    "We can do the same for rows and columns of a DataFrame with `iloc`.\n",
    "\n",
    "- Single row and single column, as we saw earlier:"
   ]
  },
  {
   "cell_type": "code",
   "execution_count": 15,
   "metadata": {
    "slideshow": {
     "slide_type": "fragment"
    }
   },
   "outputs": [
    {
     "data": {
      "text/plain": [
       "107.0"
      ]
     },
     "execution_count": 15,
     "metadata": {},
     "output_type": "execute_result"
    }
   ],
   "source": [
    "world_new.iloc[1, 8]"
   ]
  },
  {
   "cell_type": "markdown",
   "metadata": {
    "slideshow": {
     "slide_type": "fragment"
    }
   },
   "source": [
    "- Slice of rows and a slice of columns:"
   ]
  },
  {
   "cell_type": "code",
   "execution_count": 16,
   "metadata": {
    "slideshow": {
     "slide_type": "fragment"
    }
   },
   "outputs": [
    {
     "data": {
      "text/html": [
       "<div>\n",
       "<style scoped>\n",
       "    .dataframe tbody tr th:only-of-type {\n",
       "        vertical-align: middle;\n",
       "    }\n",
       "\n",
       "    .dataframe tbody tr th {\n",
       "        vertical-align: top;\n",
       "    }\n",
       "\n",
       "    .dataframe thead th {\n",
       "        text-align: right;\n",
       "    }\n",
       "</style>\n",
       "<table border=\"1\" class=\"dataframe\">\n",
       "  <thead>\n",
       "    <tr style=\"text-align: right;\">\n",
       "      <th></th>\n",
       "      <th>life_expectancy</th>\n",
       "      <th>gdp_per_capita</th>\n",
       "      <th>children_per_woman</th>\n",
       "      <th>child_mortality</th>\n",
       "      <th>pop_density</th>\n",
       "      <th>area</th>\n",
       "    </tr>\n",
       "    <tr>\n",
       "      <th>country</th>\n",
       "      <th></th>\n",
       "      <th></th>\n",
       "      <th></th>\n",
       "      <th></th>\n",
       "      <th></th>\n",
       "      <th></th>\n",
       "    </tr>\n",
       "  </thead>\n",
       "  <tbody>\n",
       "    <tr>\n",
       "      <th>Jordan</th>\n",
       "      <td>76.7</td>\n",
       "      <td>8450</td>\n",
       "      <td>3.24</td>\n",
       "      <td>16.70</td>\n",
       "      <td>112.00</td>\n",
       "      <td>8.839286e+04</td>\n",
       "    </tr>\n",
       "    <tr>\n",
       "      <th>Kazakhstan</th>\n",
       "      <td>72.0</td>\n",
       "      <td>24200</td>\n",
       "      <td>2.57</td>\n",
       "      <td>11.50</td>\n",
       "      <td>6.82</td>\n",
       "      <td>2.697947e+06</td>\n",
       "    </tr>\n",
       "    <tr>\n",
       "      <th>Kenya</th>\n",
       "      <td>67.3</td>\n",
       "      <td>3110</td>\n",
       "      <td>3.74</td>\n",
       "      <td>47.10</td>\n",
       "      <td>89.50</td>\n",
       "      <td>5.698324e+05</td>\n",
       "    </tr>\n",
       "    <tr>\n",
       "      <th>Kiribati</th>\n",
       "      <td>62.2</td>\n",
       "      <td>1890</td>\n",
       "      <td>3.57</td>\n",
       "      <td>52.50</td>\n",
       "      <td>146.00</td>\n",
       "      <td>8.082192e+02</td>\n",
       "    </tr>\n",
       "    <tr>\n",
       "      <th>Kuwait</th>\n",
       "      <td>80.0</td>\n",
       "      <td>68400</td>\n",
       "      <td>1.95</td>\n",
       "      <td>7.99</td>\n",
       "      <td>236.00</td>\n",
       "      <td>1.779661e+04</td>\n",
       "    </tr>\n",
       "  </tbody>\n",
       "</table>\n",
       "</div>"
      ],
      "text/plain": [
       "            life_expectancy  gdp_per_capita  children_per_woman  \\\n",
       "country                                                           \n",
       "Jordan                 76.7            8450                3.24   \n",
       "Kazakhstan             72.0           24200                2.57   \n",
       "Kenya                  67.3            3110                3.74   \n",
       "Kiribati               62.2            1890                3.57   \n",
       "Kuwait                 80.0           68400                1.95   \n",
       "\n",
       "            child_mortality  pop_density          area  \n",
       "country                                                 \n",
       "Jordan                16.70       112.00  8.839286e+04  \n",
       "Kazakhstan            11.50         6.82  2.697947e+06  \n",
       "Kenya                 47.10        89.50  5.698324e+05  \n",
       "Kiribati              52.50       146.00  8.082192e+02  \n",
       "Kuwait                 7.99       236.00  1.779661e+04  "
      ]
     },
     "execution_count": 16,
     "metadata": {},
     "output_type": "execute_result"
    }
   ],
   "source": [
    "world_new.iloc[80:85, 4:]"
   ]
  },
  {
   "cell_type": "markdown",
   "metadata": {
    "slideshow": {
     "slide_type": "fragment"
    }
   },
   "source": [
    "- As with list slicing, slices with `iloc` are **inclusive** of the start bound but **exclusive** of the stop bound\n",
    "  - Row slice `80:85` is from row 80 up to, but not including row 85\n",
    "- Also as with list slicing, the start or stop bound can be omitted\n",
    "  - Column slice `4:` goes from column 4 to the end\n",
    "  - A slice `:3` would go from position 0 to position 2\n",
    "- The slice `:` (no start or stop bound) will select all rows or columns"
   ]
  },
  {
   "cell_type": "markdown",
   "metadata": {
    "slideshow": {
     "slide_type": "fragment"
    }
   },
   "source": [
    "- Several rows and all columns:"
   ]
  },
  {
   "cell_type": "code",
   "execution_count": 17,
   "metadata": {
    "scrolled": false,
    "slideshow": {
     "slide_type": "fragment"
    }
   },
   "outputs": [
    {
     "data": {
      "text/html": [
       "<div>\n",
       "<style scoped>\n",
       "    .dataframe tbody tr th:only-of-type {\n",
       "        vertical-align: middle;\n",
       "    }\n",
       "\n",
       "    .dataframe tbody tr th {\n",
       "        vertical-align: top;\n",
       "    }\n",
       "\n",
       "    .dataframe thead th {\n",
       "        text-align: right;\n",
       "    }\n",
       "</style>\n",
       "<table border=\"1\" class=\"dataframe\">\n",
       "  <thead>\n",
       "    <tr style=\"text-align: right;\">\n",
       "      <th></th>\n",
       "      <th>population</th>\n",
       "      <th>region</th>\n",
       "      <th>sub_region</th>\n",
       "      <th>income_group</th>\n",
       "      <th>life_expectancy</th>\n",
       "      <th>gdp_per_capita</th>\n",
       "      <th>children_per_woman</th>\n",
       "      <th>child_mortality</th>\n",
       "      <th>pop_density</th>\n",
       "      <th>area</th>\n",
       "    </tr>\n",
       "    <tr>\n",
       "      <th>country</th>\n",
       "      <th></th>\n",
       "      <th></th>\n",
       "      <th></th>\n",
       "      <th></th>\n",
       "      <th></th>\n",
       "      <th></th>\n",
       "      <th></th>\n",
       "      <th></th>\n",
       "      <th></th>\n",
       "      <th></th>\n",
       "    </tr>\n",
       "  </thead>\n",
       "  <tbody>\n",
       "    <tr>\n",
       "      <th>Yemen</th>\n",
       "      <td>28900000</td>\n",
       "      <td>Asia</td>\n",
       "      <td>Western Asia</td>\n",
       "      <td>Low</td>\n",
       "      <td>67.1</td>\n",
       "      <td>2430</td>\n",
       "      <td>3.79</td>\n",
       "      <td>51.9</td>\n",
       "      <td>54.8</td>\n",
       "      <td>527372.262774</td>\n",
       "    </tr>\n",
       "    <tr>\n",
       "      <th>Zambia</th>\n",
       "      <td>17600000</td>\n",
       "      <td>Africa</td>\n",
       "      <td>Sub-Saharan Africa</td>\n",
       "      <td>Lower middle</td>\n",
       "      <td>59.5</td>\n",
       "      <td>3870</td>\n",
       "      <td>4.87</td>\n",
       "      <td>59.5</td>\n",
       "      <td>23.7</td>\n",
       "      <td>742616.033755</td>\n",
       "    </tr>\n",
       "    <tr>\n",
       "      <th>Zimbabwe</th>\n",
       "      <td>16900000</td>\n",
       "      <td>Africa</td>\n",
       "      <td>Sub-Saharan Africa</td>\n",
       "      <td>Low</td>\n",
       "      <td>60.2</td>\n",
       "      <td>1950</td>\n",
       "      <td>3.61</td>\n",
       "      <td>55.5</td>\n",
       "      <td>43.7</td>\n",
       "      <td>386727.688787</td>\n",
       "    </tr>\n",
       "  </tbody>\n",
       "</table>\n",
       "</div>"
      ],
      "text/plain": [
       "          population  region          sub_region  income_group  \\\n",
       "country                                                          \n",
       "Yemen       28900000    Asia        Western Asia           Low   \n",
       "Zambia      17600000  Africa  Sub-Saharan Africa  Lower middle   \n",
       "Zimbabwe    16900000  Africa  Sub-Saharan Africa           Low   \n",
       "\n",
       "          life_expectancy  gdp_per_capita  children_per_woman  \\\n",
       "country                                                         \n",
       "Yemen                67.1            2430                3.79   \n",
       "Zambia               59.5            3870                4.87   \n",
       "Zimbabwe             60.2            1950                3.61   \n",
       "\n",
       "          child_mortality  pop_density           area  \n",
       "country                                                \n",
       "Yemen                51.9         54.8  527372.262774  \n",
       "Zambia               59.5         23.7  742616.033755  \n",
       "Zimbabwe             55.5         43.7  386727.688787  "
      ]
     },
     "execution_count": 17,
     "metadata": {},
     "output_type": "execute_result"
    }
   ],
   "source": [
    "world_new.iloc[175:, :]"
   ]
  },
  {
   "cell_type": "markdown",
   "metadata": {
    "slideshow": {
     "slide_type": "fragment"
    }
   },
   "source": [
    "- Slice of several rows and one column:"
   ]
  },
  {
   "cell_type": "code",
   "execution_count": 18,
   "metadata": {
    "scrolled": false,
    "slideshow": {
     "slide_type": "fragment"
    }
   },
   "outputs": [
    {
     "data": {
      "text/plain": [
       "country\n",
       "Malta           Europe\n",
       "Mauritania      Africa\n",
       "Mauritius       Africa\n",
       "Mexico        Americas\n",
       "Moldova         Europe\n",
       "Mongolia          Asia\n",
       "Montenegro      Europe\n",
       "Morocco         Africa\n",
       "Name: region, dtype: object"
      ]
     },
     "execution_count": 18,
     "metadata": {},
     "output_type": "execute_result"
    }
   ],
   "source": [
    "world_new.iloc[100:108, 1]"
   ]
  },
  {
   "cell_type": "markdown",
   "metadata": {
    "slideshow": {
     "slide_type": "skip"
    }
   },
   "source": [
    "---\n",
    "### Bonus: Shortcut for Row Selection\n",
    "\n",
    "When selecting entire rows, we can omit the `:` comma slice\n",
    "- The following two are equivalent:\n",
    "  - `world_new.iloc[start:stop:step, :]`\n",
    "  - `world_new.iloc[start:stop:step]`"
   ]
  },
  {
   "cell_type": "code",
   "execution_count": 19,
   "metadata": {
    "slideshow": {
     "slide_type": "skip"
    }
   },
   "outputs": [
    {
     "data": {
      "text/html": [
       "<div>\n",
       "<style scoped>\n",
       "    .dataframe tbody tr th:only-of-type {\n",
       "        vertical-align: middle;\n",
       "    }\n",
       "\n",
       "    .dataframe tbody tr th {\n",
       "        vertical-align: top;\n",
       "    }\n",
       "\n",
       "    .dataframe thead th {\n",
       "        text-align: right;\n",
       "    }\n",
       "</style>\n",
       "<table border=\"1\" class=\"dataframe\">\n",
       "  <thead>\n",
       "    <tr style=\"text-align: right;\">\n",
       "      <th></th>\n",
       "      <th>population</th>\n",
       "      <th>region</th>\n",
       "      <th>sub_region</th>\n",
       "      <th>income_group</th>\n",
       "      <th>life_expectancy</th>\n",
       "      <th>gdp_per_capita</th>\n",
       "      <th>children_per_woman</th>\n",
       "      <th>child_mortality</th>\n",
       "      <th>pop_density</th>\n",
       "      <th>area</th>\n",
       "    </tr>\n",
       "    <tr>\n",
       "      <th>country</th>\n",
       "      <th></th>\n",
       "      <th></th>\n",
       "      <th></th>\n",
       "      <th></th>\n",
       "      <th></th>\n",
       "      <th></th>\n",
       "      <th></th>\n",
       "      <th></th>\n",
       "      <th></th>\n",
       "      <th></th>\n",
       "    </tr>\n",
       "  </thead>\n",
       "  <tbody>\n",
       "    <tr>\n",
       "      <th>Antigua and Barbuda</th>\n",
       "      <td>103000</td>\n",
       "      <td>Americas</td>\n",
       "      <td>Latin America and the Caribbean</td>\n",
       "      <td>High</td>\n",
       "      <td>77.6</td>\n",
       "      <td>21000</td>\n",
       "      <td>2.03</td>\n",
       "      <td>7.89</td>\n",
       "      <td>234.00</td>\n",
       "      <td>4.401709e+02</td>\n",
       "    </tr>\n",
       "    <tr>\n",
       "      <th>Argentina</th>\n",
       "      <td>44700000</td>\n",
       "      <td>Americas</td>\n",
       "      <td>Latin America and the Caribbean</td>\n",
       "      <td>High</td>\n",
       "      <td>77.0</td>\n",
       "      <td>18900</td>\n",
       "      <td>2.26</td>\n",
       "      <td>10.60</td>\n",
       "      <td>16.30</td>\n",
       "      <td>2.742331e+06</td>\n",
       "    </tr>\n",
       "    <tr>\n",
       "      <th>Armenia</th>\n",
       "      <td>2930000</td>\n",
       "      <td>Asia</td>\n",
       "      <td>Western Asia</td>\n",
       "      <td>Upper middle</td>\n",
       "      <td>76.0</td>\n",
       "      <td>8660</td>\n",
       "      <td>1.60</td>\n",
       "      <td>12.90</td>\n",
       "      <td>103.00</td>\n",
       "      <td>2.844660e+04</td>\n",
       "    </tr>\n",
       "    <tr>\n",
       "      <th>Australia</th>\n",
       "      <td>24800000</td>\n",
       "      <td>Oceania</td>\n",
       "      <td>Australia and New Zealand</td>\n",
       "      <td>High</td>\n",
       "      <td>82.9</td>\n",
       "      <td>45800</td>\n",
       "      <td>1.83</td>\n",
       "      <td>3.40</td>\n",
       "      <td>3.22</td>\n",
       "      <td>7.701863e+06</td>\n",
       "    </tr>\n",
       "  </tbody>\n",
       "</table>\n",
       "</div>"
      ],
      "text/plain": [
       "                     population    region                       sub_region  \\\n",
       "country                                                                      \n",
       "Antigua and Barbuda      103000  Americas  Latin America and the Caribbean   \n",
       "Argentina              44700000  Americas  Latin America and the Caribbean   \n",
       "Armenia                 2930000      Asia                     Western Asia   \n",
       "Australia              24800000   Oceania        Australia and New Zealand   \n",
       "\n",
       "                     income_group  life_expectancy  gdp_per_capita  \\\n",
       "country                                                              \n",
       "Antigua and Barbuda          High             77.6           21000   \n",
       "Argentina                    High             77.0           18900   \n",
       "Armenia              Upper middle             76.0            8660   \n",
       "Australia                    High             82.9           45800   \n",
       "\n",
       "                     children_per_woman  child_mortality  pop_density  \\\n",
       "country                                                                 \n",
       "Antigua and Barbuda                2.03             7.89       234.00   \n",
       "Argentina                          2.26            10.60        16.30   \n",
       "Armenia                            1.60            12.90       103.00   \n",
       "Australia                          1.83             3.40         3.22   \n",
       "\n",
       "                             area  \n",
       "country                            \n",
       "Antigua and Barbuda  4.401709e+02  \n",
       "Argentina            2.742331e+06  \n",
       "Armenia              2.844660e+04  \n",
       "Australia            7.701863e+06  "
      ]
     },
     "execution_count": 19,
     "metadata": {},
     "output_type": "execute_result"
    }
   ],
   "source": [
    "world_new.iloc[4:8]"
   ]
  },
  {
   "cell_type": "markdown",
   "metadata": {
    "slideshow": {
     "slide_type": "skip"
    }
   },
   "source": [
    "However, we can't omit the `:` row slice when selecting columns with `iloc`. This is because selection with `iloc` always specifies rows first, followed (optionally) by columns.\n",
    "\n",
    "---"
   ]
  },
  {
   "cell_type": "markdown",
   "metadata": {
    "slideshow": {
     "slide_type": "slide"
    }
   },
   "source": [
    "Something we can do with `iloc` that we can't do with Python lists is select multiple items in any arbitrary order.\n",
    "- We do this by using a list inside the indexing operator\n",
    "- For example, select rows 4 and 2 (in that order), and slice 3:7 of columns:"
   ]
  },
  {
   "cell_type": "code",
   "execution_count": 20,
   "metadata": {
    "slideshow": {
     "slide_type": "fragment"
    }
   },
   "outputs": [
    {
     "data": {
      "text/html": [
       "<div>\n",
       "<style scoped>\n",
       "    .dataframe tbody tr th:only-of-type {\n",
       "        vertical-align: middle;\n",
       "    }\n",
       "\n",
       "    .dataframe tbody tr th {\n",
       "        vertical-align: top;\n",
       "    }\n",
       "\n",
       "    .dataframe thead th {\n",
       "        text-align: right;\n",
       "    }\n",
       "</style>\n",
       "<table border=\"1\" class=\"dataframe\">\n",
       "  <thead>\n",
       "    <tr style=\"text-align: right;\">\n",
       "      <th></th>\n",
       "      <th>income_group</th>\n",
       "      <th>life_expectancy</th>\n",
       "      <th>gdp_per_capita</th>\n",
       "      <th>children_per_woman</th>\n",
       "    </tr>\n",
       "    <tr>\n",
       "      <th>country</th>\n",
       "      <th></th>\n",
       "      <th></th>\n",
       "      <th></th>\n",
       "      <th></th>\n",
       "    </tr>\n",
       "  </thead>\n",
       "  <tbody>\n",
       "    <tr>\n",
       "      <th>Antigua and Barbuda</th>\n",
       "      <td>High</td>\n",
       "      <td>77.6</td>\n",
       "      <td>21000</td>\n",
       "      <td>2.03</td>\n",
       "    </tr>\n",
       "    <tr>\n",
       "      <th>Algeria</th>\n",
       "      <td>Upper middle</td>\n",
       "      <td>77.9</td>\n",
       "      <td>13700</td>\n",
       "      <td>2.64</td>\n",
       "    </tr>\n",
       "  </tbody>\n",
       "</table>\n",
       "</div>"
      ],
      "text/plain": [
       "                     income_group  life_expectancy  gdp_per_capita  \\\n",
       "country                                                              \n",
       "Antigua and Barbuda          High             77.6           21000   \n",
       "Algeria              Upper middle             77.9           13700   \n",
       "\n",
       "                     children_per_woman  \n",
       "country                                  \n",
       "Antigua and Barbuda                2.03  \n",
       "Algeria                            2.64  "
      ]
     },
     "execution_count": 20,
     "metadata": {},
     "output_type": "execute_result"
    }
   ],
   "source": [
    "world_new.iloc[[4, 2], 3:7]"
   ]
  },
  {
   "cell_type": "markdown",
   "metadata": {
    "slideshow": {
     "slide_type": "fragment"
    }
   },
   "source": [
    "- Select rows 4 and 2, and columns 6, 4, 5:"
   ]
  },
  {
   "cell_type": "code",
   "execution_count": 21,
   "metadata": {
    "slideshow": {
     "slide_type": "fragment"
    }
   },
   "outputs": [
    {
     "data": {
      "text/html": [
       "<div>\n",
       "<style scoped>\n",
       "    .dataframe tbody tr th:only-of-type {\n",
       "        vertical-align: middle;\n",
       "    }\n",
       "\n",
       "    .dataframe tbody tr th {\n",
       "        vertical-align: top;\n",
       "    }\n",
       "\n",
       "    .dataframe thead th {\n",
       "        text-align: right;\n",
       "    }\n",
       "</style>\n",
       "<table border=\"1\" class=\"dataframe\">\n",
       "  <thead>\n",
       "    <tr style=\"text-align: right;\">\n",
       "      <th></th>\n",
       "      <th>children_per_woman</th>\n",
       "      <th>life_expectancy</th>\n",
       "      <th>gdp_per_capita</th>\n",
       "    </tr>\n",
       "    <tr>\n",
       "      <th>country</th>\n",
       "      <th></th>\n",
       "      <th></th>\n",
       "      <th></th>\n",
       "    </tr>\n",
       "  </thead>\n",
       "  <tbody>\n",
       "    <tr>\n",
       "      <th>Antigua and Barbuda</th>\n",
       "      <td>2.03</td>\n",
       "      <td>77.6</td>\n",
       "      <td>21000</td>\n",
       "    </tr>\n",
       "    <tr>\n",
       "      <th>Algeria</th>\n",
       "      <td>2.64</td>\n",
       "      <td>77.9</td>\n",
       "      <td>13700</td>\n",
       "    </tr>\n",
       "  </tbody>\n",
       "</table>\n",
       "</div>"
      ],
      "text/plain": [
       "                     children_per_woman  life_expectancy  gdp_per_capita\n",
       "country                                                                 \n",
       "Antigua and Barbuda                2.03             77.6           21000\n",
       "Algeria                            2.64             77.9           13700"
      ]
     },
     "execution_count": 21,
     "metadata": {},
     "output_type": "execute_result"
    }
   ],
   "source": [
    "world_new.iloc[[4, 2], [6, 4, 5]]"
   ]
  },
  {
   "cell_type": "markdown",
   "metadata": {
    "slideshow": {
     "slide_type": "slide"
    }
   },
   "source": [
    "# Exercise 5.2\n",
    "\n",
    "a) Use `iloc` to select the rows 150 up to and including 160, and the first 3 columns of `world_new`."
   ]
  },
  {
   "cell_type": "markdown",
   "metadata": {
    "slideshow": {
     "slide_type": "-"
    }
   },
   "source": [
    "b) Use `iloc` to select every tenth row (starting from 0) and columns 2, 0, and 3 of world_new."
   ]
  },
  {
   "cell_type": "markdown",
   "metadata": {
    "slideshow": {
     "slide_type": "slide"
    }
   },
   "source": [
    "# Label-Based Indexing\n",
    "\n",
    "Similar to `iloc`, label-based indexing with `loc` allows us to select:\n",
    "- A single cell\n",
    "- A single row and/or column\n",
    "- Slices of rows and/or columns\n",
    "- Multiple rows and/or columns in arbitrary order"
   ]
  },
  {
   "cell_type": "markdown",
   "metadata": {
    "slideshow": {
     "slide_type": "fragment"
    }
   },
   "source": [
    "We can also select rows or columns with a Boolean Series, and mix and match this with the above selection methods."
   ]
  },
  {
   "cell_type": "markdown",
   "metadata": {
    "slideshow": {
     "slide_type": "fragment"
    }
   },
   "source": [
    "However, `loc` has a few important caveats and differences from `iloc`, as we shall see shortly."
   ]
  },
  {
   "cell_type": "markdown",
   "metadata": {
    "slideshow": {
     "slide_type": "slide"
    }
   },
   "source": [
    "- Single row and column:"
   ]
  },
  {
   "cell_type": "code",
   "execution_count": 22,
   "metadata": {
    "slideshow": {
     "slide_type": "-"
    }
   },
   "outputs": [
    {
     "data": {
      "text/plain": [
       "24800000"
      ]
     },
     "execution_count": 22,
     "metadata": {},
     "output_type": "execute_result"
    }
   ],
   "source": [
    "world_new.loc['Australia', 'population']"
   ]
  },
  {
   "cell_type": "markdown",
   "metadata": {
    "slideshow": {
     "slide_type": "fragment"
    }
   },
   "source": [
    "- Slice of rows and slice of columns:"
   ]
  },
  {
   "cell_type": "code",
   "execution_count": 23,
   "metadata": {
    "slideshow": {
     "slide_type": "-"
    }
   },
   "outputs": [
    {
     "data": {
      "text/html": [
       "<div>\n",
       "<style scoped>\n",
       "    .dataframe tbody tr th:only-of-type {\n",
       "        vertical-align: middle;\n",
       "    }\n",
       "\n",
       "    .dataframe tbody tr th {\n",
       "        vertical-align: top;\n",
       "    }\n",
       "\n",
       "    .dataframe thead th {\n",
       "        text-align: right;\n",
       "    }\n",
       "</style>\n",
       "<table border=\"1\" class=\"dataframe\">\n",
       "  <thead>\n",
       "    <tr style=\"text-align: right;\">\n",
       "      <th></th>\n",
       "      <th>income_group</th>\n",
       "      <th>life_expectancy</th>\n",
       "      <th>gdp_per_capita</th>\n",
       "    </tr>\n",
       "    <tr>\n",
       "      <th>country</th>\n",
       "      <th></th>\n",
       "      <th></th>\n",
       "      <th></th>\n",
       "    </tr>\n",
       "  </thead>\n",
       "  <tbody>\n",
       "    <tr>\n",
       "      <th>Canada</th>\n",
       "      <td>High</td>\n",
       "      <td>82.2</td>\n",
       "      <td>43800</td>\n",
       "    </tr>\n",
       "    <tr>\n",
       "      <th>Central African Republic</th>\n",
       "      <td>Low</td>\n",
       "      <td>51.6</td>\n",
       "      <td>689</td>\n",
       "    </tr>\n",
       "    <tr>\n",
       "      <th>Chad</th>\n",
       "      <td>Low</td>\n",
       "      <td>60.5</td>\n",
       "      <td>1860</td>\n",
       "    </tr>\n",
       "    <tr>\n",
       "      <th>Chile</th>\n",
       "      <td>High</td>\n",
       "      <td>80.7</td>\n",
       "      <td>23400</td>\n",
       "    </tr>\n",
       "    <tr>\n",
       "      <th>China</th>\n",
       "      <td>Upper middle</td>\n",
       "      <td>76.9</td>\n",
       "      <td>16000</td>\n",
       "    </tr>\n",
       "    <tr>\n",
       "      <th>Colombia</th>\n",
       "      <td>Upper middle</td>\n",
       "      <td>78.6</td>\n",
       "      <td>13700</td>\n",
       "    </tr>\n",
       "    <tr>\n",
       "      <th>Comoros</th>\n",
       "      <td>Low</td>\n",
       "      <td>68.0</td>\n",
       "      <td>1440</td>\n",
       "    </tr>\n",
       "    <tr>\n",
       "      <th>Congo, Dem. Rep.</th>\n",
       "      <td>Low</td>\n",
       "      <td>62.4</td>\n",
       "      <td>751</td>\n",
       "    </tr>\n",
       "    <tr>\n",
       "      <th>Congo, Rep.</th>\n",
       "      <td>Lower middle</td>\n",
       "      <td>63.9</td>\n",
       "      <td>5620</td>\n",
       "    </tr>\n",
       "    <tr>\n",
       "      <th>Costa Rica</th>\n",
       "      <td>Upper middle</td>\n",
       "      <td>81.4</td>\n",
       "      <td>16200</td>\n",
       "    </tr>\n",
       "    <tr>\n",
       "      <th>Cote d'Ivoire</th>\n",
       "      <td>Lower middle</td>\n",
       "      <td>61.2</td>\n",
       "      <td>3760</td>\n",
       "    </tr>\n",
       "    <tr>\n",
       "      <th>Croatia</th>\n",
       "      <td>High</td>\n",
       "      <td>77.7</td>\n",
       "      <td>22600</td>\n",
       "    </tr>\n",
       "    <tr>\n",
       "      <th>Cuba</th>\n",
       "      <td>Upper middle</td>\n",
       "      <td>79.3</td>\n",
       "      <td>20000</td>\n",
       "    </tr>\n",
       "    <tr>\n",
       "      <th>Cyprus</th>\n",
       "      <td>High</td>\n",
       "      <td>80.8</td>\n",
       "      <td>32200</td>\n",
       "    </tr>\n",
       "    <tr>\n",
       "      <th>Czech Republic</th>\n",
       "      <td>High</td>\n",
       "      <td>79.4</td>\n",
       "      <td>32300</td>\n",
       "    </tr>\n",
       "    <tr>\n",
       "      <th>Denmark</th>\n",
       "      <td>High</td>\n",
       "      <td>81.1</td>\n",
       "      <td>46600</td>\n",
       "    </tr>\n",
       "  </tbody>\n",
       "</table>\n",
       "</div>"
      ],
      "text/plain": [
       "                          income_group  life_expectancy  gdp_per_capita\n",
       "country                                                                \n",
       "Canada                            High             82.2           43800\n",
       "Central African Republic           Low             51.6             689\n",
       "Chad                               Low             60.5            1860\n",
       "Chile                             High             80.7           23400\n",
       "China                     Upper middle             76.9           16000\n",
       "Colombia                  Upper middle             78.6           13700\n",
       "Comoros                            Low             68.0            1440\n",
       "Congo, Dem. Rep.                   Low             62.4             751\n",
       "Congo, Rep.               Lower middle             63.9            5620\n",
       "Costa Rica                Upper middle             81.4           16200\n",
       "Cote d'Ivoire             Lower middle             61.2            3760\n",
       "Croatia                           High             77.7           22600\n",
       "Cuba                      Upper middle             79.3           20000\n",
       "Cyprus                            High             80.8           32200\n",
       "Czech Republic                    High             79.4           32300\n",
       "Denmark                           High             81.1           46600"
      ]
     },
     "execution_count": 23,
     "metadata": {},
     "output_type": "execute_result"
    }
   ],
   "source": [
    "world_new.loc['Canada':'Denmark', 'income_group':'gdp_per_capita']"
   ]
  },
  {
   "cell_type": "markdown",
   "metadata": {
    "slideshow": {
     "slide_type": "fragment"
    }
   },
   "source": [
    "Can you spot the difference compared to slicing with `iloc`?"
   ]
  },
  {
   "cell_type": "markdown",
   "metadata": {
    "slideshow": {
     "slide_type": "fragment"
    }
   },
   "source": [
    "- Label-based slicing with `loc` is **inclusive** of **both** the start bound **and** the stop bound!\n",
    "- There are [practical reasons](https://pandas.pydata.org/pandas-docs/stable/advanced.html#endpoints-are-inclusive) why this design decision was made, but we won't get into the details for now.\n",
    "- It's important to keep this difference in mind when slicing with labels."
   ]
  },
  {
   "cell_type": "markdown",
   "metadata": {
    "slideshow": {
     "slide_type": "slide"
    }
   },
   "source": [
    "- Slice of rows from Spain to Switzerland, with the population density and population columns, in that order:"
   ]
  },
  {
   "cell_type": "code",
   "execution_count": 24,
   "metadata": {
    "slideshow": {
     "slide_type": "-"
    }
   },
   "outputs": [
    {
     "data": {
      "text/html": [
       "<div>\n",
       "<style scoped>\n",
       "    .dataframe tbody tr th:only-of-type {\n",
       "        vertical-align: middle;\n",
       "    }\n",
       "\n",
       "    .dataframe tbody tr th {\n",
       "        vertical-align: top;\n",
       "    }\n",
       "\n",
       "    .dataframe thead th {\n",
       "        text-align: right;\n",
       "    }\n",
       "</style>\n",
       "<table border=\"1\" class=\"dataframe\">\n",
       "  <thead>\n",
       "    <tr style=\"text-align: right;\">\n",
       "      <th></th>\n",
       "      <th>pop_density</th>\n",
       "      <th>population</th>\n",
       "    </tr>\n",
       "    <tr>\n",
       "      <th>country</th>\n",
       "      <th></th>\n",
       "      <th></th>\n",
       "    </tr>\n",
       "  </thead>\n",
       "  <tbody>\n",
       "    <tr>\n",
       "      <th>Spain</th>\n",
       "      <td>93.00</td>\n",
       "      <td>46400000</td>\n",
       "    </tr>\n",
       "    <tr>\n",
       "      <th>Sri Lanka</th>\n",
       "      <td>334.00</td>\n",
       "      <td>21000000</td>\n",
       "    </tr>\n",
       "    <tr>\n",
       "      <th>Sudan</th>\n",
       "      <td>23.50</td>\n",
       "      <td>41500000</td>\n",
       "    </tr>\n",
       "    <tr>\n",
       "      <th>Suriname</th>\n",
       "      <td>3.64</td>\n",
       "      <td>568000</td>\n",
       "    </tr>\n",
       "    <tr>\n",
       "      <th>Swaziland</th>\n",
       "      <td>80.90</td>\n",
       "      <td>1390000</td>\n",
       "    </tr>\n",
       "    <tr>\n",
       "      <th>Sweden</th>\n",
       "      <td>24.30</td>\n",
       "      <td>9980000</td>\n",
       "    </tr>\n",
       "    <tr>\n",
       "      <th>Switzerland</th>\n",
       "      <td>216.00</td>\n",
       "      <td>8540000</td>\n",
       "    </tr>\n",
       "  </tbody>\n",
       "</table>\n",
       "</div>"
      ],
      "text/plain": [
       "             pop_density  population\n",
       "country                             \n",
       "Spain              93.00    46400000\n",
       "Sri Lanka         334.00    21000000\n",
       "Sudan              23.50    41500000\n",
       "Suriname            3.64      568000\n",
       "Swaziland          80.90     1390000\n",
       "Sweden             24.30     9980000\n",
       "Switzerland       216.00     8540000"
      ]
     },
     "execution_count": 24,
     "metadata": {},
     "output_type": "execute_result"
    }
   ],
   "source": [
    "world_new.loc['Spain':'Switzerland', ['pop_density', 'population']]"
   ]
  },
  {
   "cell_type": "markdown",
   "metadata": {
    "slideshow": {
     "slide_type": "fragment"
    }
   },
   "source": [
    "- Select rows with a Boolean Series and columns with a list:"
   ]
  },
  {
   "cell_type": "code",
   "execution_count": 25,
   "metadata": {
    "slideshow": {
     "slide_type": "-"
    }
   },
   "outputs": [
    {
     "data": {
      "text/html": [
       "<div>\n",
       "<style scoped>\n",
       "    .dataframe tbody tr th:only-of-type {\n",
       "        vertical-align: middle;\n",
       "    }\n",
       "\n",
       "    .dataframe tbody tr th {\n",
       "        vertical-align: top;\n",
       "    }\n",
       "\n",
       "    .dataframe thead th {\n",
       "        text-align: right;\n",
       "    }\n",
       "</style>\n",
       "<table border=\"1\" class=\"dataframe\">\n",
       "  <thead>\n",
       "    <tr style=\"text-align: right;\">\n",
       "      <th></th>\n",
       "      <th>region</th>\n",
       "      <th>pop_density</th>\n",
       "      <th>population</th>\n",
       "    </tr>\n",
       "    <tr>\n",
       "      <th>country</th>\n",
       "      <th></th>\n",
       "      <th></th>\n",
       "      <th></th>\n",
       "    </tr>\n",
       "  </thead>\n",
       "  <tbody>\n",
       "    <tr>\n",
       "      <th>Bahrain</th>\n",
       "      <td>Asia</td>\n",
       "      <td>2060.0</td>\n",
       "      <td>1570000</td>\n",
       "    </tr>\n",
       "    <tr>\n",
       "      <th>Bangladesh</th>\n",
       "      <td>Asia</td>\n",
       "      <td>1280.0</td>\n",
       "      <td>166000000</td>\n",
       "    </tr>\n",
       "    <tr>\n",
       "      <th>Barbados</th>\n",
       "      <td>Americas</td>\n",
       "      <td>666.0</td>\n",
       "      <td>286000</td>\n",
       "    </tr>\n",
       "    <tr>\n",
       "      <th>Lebanon</th>\n",
       "      <td>Asia</td>\n",
       "      <td>596.0</td>\n",
       "      <td>6090000</td>\n",
       "    </tr>\n",
       "    <tr>\n",
       "      <th>Maldives</th>\n",
       "      <td>Asia</td>\n",
       "      <td>1480.0</td>\n",
       "      <td>444000</td>\n",
       "    </tr>\n",
       "    <tr>\n",
       "      <th>Malta</th>\n",
       "      <td>Europe</td>\n",
       "      <td>1350.0</td>\n",
       "      <td>432000</td>\n",
       "    </tr>\n",
       "    <tr>\n",
       "      <th>Mauritius</th>\n",
       "      <td>Africa</td>\n",
       "      <td>625.0</td>\n",
       "      <td>1270000</td>\n",
       "    </tr>\n",
       "    <tr>\n",
       "      <th>Netherlands</th>\n",
       "      <td>Europe</td>\n",
       "      <td>507.0</td>\n",
       "      <td>17100000</td>\n",
       "    </tr>\n",
       "    <tr>\n",
       "      <th>Palestine</th>\n",
       "      <td>Asia</td>\n",
       "      <td>839.0</td>\n",
       "      <td>5050000</td>\n",
       "    </tr>\n",
       "    <tr>\n",
       "      <th>Rwanda</th>\n",
       "      <td>Africa</td>\n",
       "      <td>507.0</td>\n",
       "      <td>12500000</td>\n",
       "    </tr>\n",
       "    <tr>\n",
       "      <th>Singapore</th>\n",
       "      <td>Asia</td>\n",
       "      <td>8270.0</td>\n",
       "      <td>5790000</td>\n",
       "    </tr>\n",
       "    <tr>\n",
       "      <th>South Korea</th>\n",
       "      <td>Asia</td>\n",
       "      <td>526.0</td>\n",
       "      <td>51200000</td>\n",
       "    </tr>\n",
       "  </tbody>\n",
       "</table>\n",
       "</div>"
      ],
      "text/plain": [
       "               region  pop_density  population\n",
       "country                                       \n",
       "Bahrain          Asia       2060.0     1570000\n",
       "Bangladesh       Asia       1280.0   166000000\n",
       "Barbados     Americas        666.0      286000\n",
       "Lebanon          Asia        596.0     6090000\n",
       "Maldives         Asia       1480.0      444000\n",
       "Malta          Europe       1350.0      432000\n",
       "Mauritius      Africa        625.0     1270000\n",
       "Netherlands    Europe        507.0    17100000\n",
       "Palestine        Asia        839.0     5050000\n",
       "Rwanda         Africa        507.0    12500000\n",
       "Singapore        Asia       8270.0     5790000\n",
       "South Korea      Asia        526.0    51200000"
      ]
     },
     "execution_count": 25,
     "metadata": {},
     "output_type": "execute_result"
    }
   ],
   "source": [
    "densely_populated = world_new['pop_density'] > 500\n",
    "world_new.loc[densely_populated, ['region', 'pop_density', 'population']]"
   ]
  },
  {
   "cell_type": "markdown",
   "metadata": {
    "slideshow": {
     "slide_type": "slide"
    }
   },
   "source": [
    "# Exercise 5.3\n",
    "\n",
    "a) Use `loc` to select the GDP per capita and population density in Canada, United States, and Mexico."
   ]
  },
  {
   "cell_type": "markdown",
   "metadata": {},
   "source": [
    "b) Use `loc` to select rows where the GDP per capita is greater than `50000`, and a column slice from `'life_expectancy'` through `'children_per_woman'` (inclusive)."
   ]
  },
  {
   "cell_type": "markdown",
   "metadata": {},
   "source": [
    "[previous lesson](4-sorting-filtering-aggregation.ipynb) | [next lesson](6-visualization-geographic-maps)\n",
    "\n",
    "[home](0-introduction.ipynb)"
   ]
  }
 ],
 "metadata": {
  "celltoolbar": "Slideshow",
  "kernelspec": {
   "display_name": "Python [default]",
   "language": "python",
   "name": "python3"
  },
  "language_info": {
   "codemirror_mode": {
    "name": "ipython",
    "version": 3
   },
   "file_extension": ".py",
   "mimetype": "text/x-python",
   "name": "python",
   "nbconvert_exporter": "python",
   "pygments_lexer": "ipython3",
   "version": "3.6.4"
  },
  "livereveal": {
   "scroll": true,
   "theme": "solarized",
   "transition": "none"
  }
 },
 "nbformat": 4,
 "nbformat_minor": 2
}
