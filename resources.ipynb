{
 "cells": [
  {
   "cell_type": "markdown",
   "metadata": {
    "slideshow": {
     "slide_type": "slide"
    }
   },
   "source": [
    "# Additional Resources\n",
    "\n",
    "### Python Tutorials & Courses\n",
    "\n",
    "- [Whirlwind Tour of Python - JakeVanderPlas](https://jakevdp.github.io/WhirlwindTourOfPython/)\n",
    "- [Software Carpentry](https://software-carpentry.org/lessons/)\n",
    "- [Data Carpentry](https://datacarpentry.org/lessons/)\n",
    "- U of T Coders\n",
    "  - [Sep 2018 Workshop](https://uoftcoders.github.io/2018-09-10-utoronto/)\n",
    "  - [Study group lessons](https://uoftcoders.github.io/studyGroup/lessons/)\n",
    "- [Dataquest courses](https://www.dataquest.io/) and [Dataquest blog](https://www.dataquest.io/blog/) \n",
    "- [Data Camp courses](https://www.datacamp.com/courses/intro-to-python-for-data-science)\n",
    "- [Kaggle courses](https://www.kaggle.com/learn/overview)\n",
    "\n",
    "\n",
    "### Numpy / Scipy / Pandas / etc.\n",
    "\n",
    "- [Numpy + Scipy](https://www.scipy.org/getting-started.html) for general purpose scientific and numeric tools\n",
    "  - [Scipy Lectures - Numpy](http://www.scipy-lectures.org/intro/numpy/index.html)\n",
    "  - [Scipy Lectures - Scipy](http://www.scipy-lectures.org/intro/scipy.html)\n",
    "  - [NYU Physics - Scipy tutorial](http://www.physics.nyu.edu/pine/pymanual/html/chap9/chap9_scipy.html)\n",
    "  - [Scipy tutorial](https://docs.scipy.org/doc/scipy/reference/tutorial/index.html)\n",
    "  - [Scipy examples](http://www.scipy-lectures.org/intro/scipy.html#full-code-examples-for-the-scipy-chapter)\n",
    "- [Seaborn](https://seaborn.pydata.org/) for statistical data visualization\n",
    "- [Statsmodels](https://www.statsmodels.org/stable/index.html) for statistical analysis and modelling\n",
    "- [Sympy](https://docs.sympy.org/latest/tutorial/intro.html) for symbolic computation\n",
    "- [Python Data Science Handbook - Jake VanderPlas](https://jakevdp.github.io/PythonDataScienceHandbook/)\n",
    "- Python for Data Analysis, by Wes McKinney (book). All data and code from the book is available [here](https://github.com/wesm/pydata-book).\n",
    "- [Xarray](http://xarray.pydata.org/en/stable/) for N-dimensional labelled arrays and working with netCDF files\n",
    "\n",
    "### Data Visualization\n",
    "\n",
    "- [Matplotlib gallery](https://matplotlib.org/gallery/index.html)\n",
    "- [Seaborn gallery](https://seaborn.pydata.org/examples/index.html)\n",
    "- [Pandas gallery](https://pandas.pydata.org/pandas-docs/stable/visualization.html)\n",
    "- [Python graph gallery](https://python-graph-gallery.com/all-charts/)\n",
    "- Interactive plots:\n",
    "  - [Plotly](https://plot.ly/python/)\n",
    "  - [Bokeh](https://bokeh.pydata.org/en/latest/docs/gallery.html)\n",
    "- [The Python Visualization Landscape - Jake VanderPlas](https://www.youtube.com/watch?v=FytuB8nFHPQ)\n",
    "- [Data to Viz](https://www.data-to-viz.com/)\n",
    "\n",
    "\n",
    "### Geospatial Libraries\n",
    "\n",
    "- Creating maps:\n",
    "  - [Cartopy](https://scitools.org.uk/cartopy/docs/v0.15/gallery.html)\n",
    "  - [Plotly](https://plot.ly/python/#maps) \n",
    "  - [Folium](http://folium.readthedocs.io/en/latest/)\n",
    "- [Shapely](https://shapely.readthedocs.io/en/stable/manual.html)\n",
    "- [GeoPandas](http://geopandas.org/)\n",
    "- [ArcPy](http://pro.arcgis.com/en/pro-app/arcpy/get-started/what-is-arcpy-.htm)\n",
    "\n",
    "### Other Inspiration and Ideas\n",
    "\n",
    "- PyData 101 - Jake VanderPlas [(talk)](https://www.youtube.com/watch?v=DifMYH3iuFw) [(slides)](https://speakerdeck.com/jakevdp/pydata-101)\n",
    "- [Reproducible Data Analysis in Jupyter – Jake VanderPlas](http://jakevdp.github.io/blog/2017/03/03/reproducible-data-analysis-in-jupyter/)\n",
    "- [Project Jupyter: From Interactive Python to Open Science - Fernando Perez](https://www.youtube.com/watch?v=xuNj5paMuow)\n",
    "- [A gallery of interesting Jupyter notebooks](https://github.com/jupyter/jupyter/wiki/A-gallery-of-interesting-Jupyter-Notebooks)\n",
    "> Note: Many of these notebooks are several years old and should be used more for inspiration rather than exact syntax. Since many open source libraries change rapidly (especially when they are in their first few years of development), some syntax may be different in the latest versions, older features may be deprecated, and relevant new features may be available which didn't exist yet when an older notebook or tutorial was written. \n",
    "> - For example, most of the earth science / geospatial example notebooks in this gallery use an older library called Basemap, which is now being phased out and replaced with the Cartopy library.\n",
    "- [Example notebooks on Kaggle](https://www.kaggle.com/kernels)\n",
    "\n",
    "---\n",
    "Go to: [home](0-introduction.ipynb)"
   ]
  }
 ],
 "metadata": {
  "kernelspec": {
   "display_name": "Python [default]",
   "language": "python",
   "name": "python3"
  },
  "language_info": {
   "codemirror_mode": {
    "name": "ipython",
    "version": 3
   },
   "file_extension": ".py",
   "mimetype": "text/x-python",
   "name": "python",
   "nbconvert_exporter": "python",
   "pygments_lexer": "ipython3",
   "version": "3.6.4"
  }
 },
 "nbformat": 4,
 "nbformat_minor": 2
}
