{
 "cells": [
  {
   "cell_type": "markdown",
   "metadata": {},
   "source": [
    "# Solutions to Lesson 1 Exercises\n",
    "\n",
    "For each exercise, the solutions below show one possible way of solving it, but you might have used a different approach, and that's great! There is almost always more than one way to solve any particular problem in Python."
   ]
  },
  {
   "cell_type": "markdown",
   "metadata": {
    "slideshow": {
     "slide_type": "slide"
    }
   },
   "source": [
    "# Exercise 1.1\n",
    "\n",
    "**a)** Create a variable `y` with a value of `7`"
   ]
  },
  {
   "cell_type": "code",
   "execution_count": 1,
   "metadata": {},
   "outputs": [],
   "source": [
    "y = 7"
   ]
  },
  {
   "cell_type": "markdown",
   "metadata": {
    "slideshow": {
     "slide_type": "-"
    }
   },
   "source": [
    "**b)** Create a variable `two_y` with a value of `2 * y`"
   ]
  },
  {
   "cell_type": "code",
   "execution_count": 2,
   "metadata": {},
   "outputs": [],
   "source": [
    "two_y = 2 * y"
   ]
  },
  {
   "cell_type": "markdown",
   "metadata": {
    "slideshow": {
     "slide_type": "-"
    }
   },
   "source": [
    "**c)** Change the value of `y` to `9`. What is the value of `two_y` now, `14` or `18`?"
   ]
  },
  {
   "cell_type": "code",
   "execution_count": 3,
   "metadata": {},
   "outputs": [],
   "source": [
    "y = 9"
   ]
  },
  {
   "cell_type": "code",
   "execution_count": 4,
   "metadata": {},
   "outputs": [
    {
     "data": {
      "text/plain": [
       "14"
      ]
     },
     "execution_count": 4,
     "metadata": {},
     "output_type": "execute_result"
    }
   ],
   "source": [
    "two_y"
   ]
  },
  {
   "cell_type": "markdown",
   "metadata": {
    "slideshow": {
     "slide_type": "-"
    }
   },
   "source": [
    "### Bonus exercises"
   ]
  },
  {
   "cell_type": "markdown",
   "metadata": {
    "slideshow": {
     "slide_type": "-"
    }
   },
   "source": [
    "**d) Concatenating strings and integers** \n",
    "\n",
    "Assign a value of `2018` to the variable `year`. What happens if you use the `+` operator to add the string `'The year is '` with the variable `year`, as shown below? (*You'll need to copy the code below into a cell in your notebook in order to run it.*)\n",
    "```python\n",
    "observation = 'The year is ' + year\n",
    "```\n",
    "> You'll find you get an error message because Python doesn't know how to add an integer and a string together.\n",
    "\n",
    "You can use *typecasting* to change the type of an object in Python. For example, you can convert the integer `2018` to the string `'2018'` using the function `str()`. Try running the code below in your notebook and then display the value of the variable `observation`:\n",
    "```python\n",
    "observation = 'The year is ' + str(year)\n",
    "```"
   ]
  },
  {
   "cell_type": "code",
   "execution_count": 5,
   "metadata": {},
   "outputs": [
    {
     "data": {
      "text/plain": [
       "'The year is 2018'"
      ]
     },
     "execution_count": 5,
     "metadata": {},
     "output_type": "execute_result"
    }
   ],
   "source": [
    "year = 2018\n",
    "observation = 'The year is ' + str(year)\n",
    "observation"
   ]
  },
  {
   "cell_type": "markdown",
   "metadata": {
    "slideshow": {
     "slide_type": "-"
    }
   },
   "source": [
    "- Now create a variable `num_bottles` with a value of `99` (integer) and a variable `song_words` with a value of `' bottles of beer on the wall'`.\n",
    "- Use the `+` operator and the `str()` function to concatenate `num_bottles` with `song_words` and confirm that it produces the output `'99 bottles of beer on the wall'`."
   ]
  },
  {
   "cell_type": "code",
   "execution_count": 6,
   "metadata": {},
   "outputs": [
    {
     "data": {
      "text/plain": [
       "'99 bottles of beer on the wall'"
      ]
     },
     "execution_count": 6,
     "metadata": {},
     "output_type": "execute_result"
    }
   ],
   "source": [
    "num_bottles = 99\n",
    "song_words = ' bottles of beer on the wall'\n",
    "str(num_bottles) + song_words"
   ]
  },
  {
   "cell_type": "markdown",
   "metadata": {
    "slideshow": {
     "slide_type": "-"
    }
   },
   "source": [
    "**e) Other mathematical operators** \n",
    "\n",
    "What are the results of the following operations?\n",
    "\n",
    "- `9 % 3`\n",
    "- `10 % 3`\n",
    "- `11 % 3`\n",
    "\n",
    "How about the above operations with the `%` operator replaced with the `//` operator (e.g. `9 // 3`)? Based on these results, what do you think the `%` and `//` operators do? [(Hint)](https://jakevdp.github.io/WhirlwindTourOfPython/04-semantics-operators.html)."
   ]
  },
  {
   "cell_type": "code",
   "execution_count": 7,
   "metadata": {},
   "outputs": [
    {
     "data": {
      "text/plain": [
       "0"
      ]
     },
     "execution_count": 7,
     "metadata": {},
     "output_type": "execute_result"
    }
   ],
   "source": [
    "9 % 3"
   ]
  },
  {
   "cell_type": "code",
   "execution_count": 8,
   "metadata": {},
   "outputs": [
    {
     "data": {
      "text/plain": [
       "1"
      ]
     },
     "execution_count": 8,
     "metadata": {},
     "output_type": "execute_result"
    }
   ],
   "source": [
    "10 % 3"
   ]
  },
  {
   "cell_type": "code",
   "execution_count": 9,
   "metadata": {},
   "outputs": [
    {
     "data": {
      "text/plain": [
       "2"
      ]
     },
     "execution_count": 9,
     "metadata": {},
     "output_type": "execute_result"
    }
   ],
   "source": [
    "11 % 3"
   ]
  },
  {
   "cell_type": "code",
   "execution_count": 10,
   "metadata": {},
   "outputs": [
    {
     "data": {
      "text/plain": [
       "3"
      ]
     },
     "execution_count": 10,
     "metadata": {},
     "output_type": "execute_result"
    }
   ],
   "source": [
    "9 // 3"
   ]
  },
  {
   "cell_type": "code",
   "execution_count": 11,
   "metadata": {},
   "outputs": [
    {
     "data": {
      "text/plain": [
       "3"
      ]
     },
     "execution_count": 11,
     "metadata": {},
     "output_type": "execute_result"
    }
   ],
   "source": [
    "10 // 3"
   ]
  },
  {
   "cell_type": "code",
   "execution_count": 12,
   "metadata": {},
   "outputs": [
    {
     "data": {
      "text/plain": [
       "3"
      ]
     },
     "execution_count": 12,
     "metadata": {},
     "output_type": "execute_result"
    }
   ],
   "source": [
    "11 // 3"
   ]
  },
  {
   "cell_type": "markdown",
   "metadata": {},
   "source": [
    "The `%` operator gives the remainder when dividing one number by the other, and the `//` gives the integer part of the division (floor division)."
   ]
  },
  {
   "cell_type": "markdown",
   "metadata": {
    "slideshow": {
     "slide_type": "-"
    }
   },
   "source": [
    "**f) Conditional statements** \n",
    "\n",
    "Create a conditional statement that prints `'Leap year'` if the value of the variable `year` is divisible by 4, and `'Not a leap year'` otherwise. Test your conditional statement by assigning different values to `year` and re-running the code."
   ]
  },
  {
   "cell_type": "code",
   "execution_count": 13,
   "metadata": {},
   "outputs": [
    {
     "name": "stdout",
     "output_type": "stream",
     "text": [
      "Leap year\n"
     ]
    }
   ],
   "source": [
    "year = 2016\n",
    "if year % 4 == 0:\n",
    "    print('Leap year')\n",
    "else:\n",
    "    print('Not a leap year')"
   ]
  },
  {
   "cell_type": "code",
   "execution_count": 14,
   "metadata": {},
   "outputs": [
    {
     "name": "stdout",
     "output_type": "stream",
     "text": [
      "Not a leap year\n"
     ]
    }
   ],
   "source": [
    "year = 2017\n",
    "if year % 4 == 0:\n",
    "    print('Leap year')\n",
    "else:\n",
    "    print('Not a leap year')"
   ]
  },
  {
   "cell_type": "markdown",
   "metadata": {
    "slideshow": {
     "slide_type": "slide"
    }
   },
   "source": [
    "# Exercise 1.2\n",
    "\n",
    "**a)** Write a function which takes an input of temperature in degrees Celsius, and returns an output of temperature in degrees Fahrenheit (multiply the temperature in degrees C by 1.8 and add 32)"
   ]
  },
  {
   "cell_type": "code",
   "execution_count": 15,
   "metadata": {},
   "outputs": [],
   "source": [
    "def celsius_fahrenheit(temp_celsius):\n",
    "    \"\"\"Convert temperature from Celsius to Fahrenheit\"\"\"\n",
    "    temp_fahrenheit = 1.8 * temp_celsius + 32\n",
    "    return temp_fahrenheit"
   ]
  },
  {
   "cell_type": "markdown",
   "metadata": {
    "slideshow": {
     "slide_type": "-"
    }
   },
   "source": [
    "**b)** Use this function to convert 15 C to Fahrenheit, and assign the output to a variable `temp_F`"
   ]
  },
  {
   "cell_type": "code",
   "execution_count": 16,
   "metadata": {},
   "outputs": [
    {
     "data": {
      "text/plain": [
       "59.0"
      ]
     },
     "execution_count": 16,
     "metadata": {},
     "output_type": "execute_result"
    }
   ],
   "source": [
    "temp_F = celsius_fahrenheit(15)\n",
    "temp_F"
   ]
  },
  {
   "cell_type": "markdown",
   "metadata": {
    "slideshow": {
     "slide_type": "-"
    }
   },
   "source": [
    "### Bonus exercises\n",
    "\n",
    "**c)** Create a new function based on your function from part (a), which converts the temperature from Celsius to Fahrenheit and also prints a message about the temperature:\n",
    "- If the input temperature is less than 10 C, it prints `'Chilly!'`, \n",
    "- Otherwise, it prints `'OK'`.\n",
    "\n",
    "Call the function with different input temperatures to test it."
   ]
  },
  {
   "cell_type": "code",
   "execution_count": 17,
   "metadata": {},
   "outputs": [],
   "source": [
    "def opinionated_celsius_fahrenheit(temp_celsius):\n",
    "    \"\"\"Convert temperature from Celsius to Fahrenheit and print an opinion\"\"\"\n",
    "    temp_fahrenheit = 1.8 * temp_celsius + 32\n",
    "    \n",
    "    if temp_celsius < 10:\n",
    "        print('Chilly')\n",
    "    else:\n",
    "        print('OK')\n",
    "        \n",
    "    return temp_fahrenheit"
   ]
  },
  {
   "cell_type": "code",
   "execution_count": 18,
   "metadata": {},
   "outputs": [
    {
     "name": "stdout",
     "output_type": "stream",
     "text": [
      "Chilly\n"
     ]
    },
    {
     "data": {
      "text/plain": [
       "41.0"
      ]
     },
     "execution_count": 18,
     "metadata": {},
     "output_type": "execute_result"
    }
   ],
   "source": [
    "opinionated_celsius_fahrenheit(5)"
   ]
  },
  {
   "cell_type": "code",
   "execution_count": 19,
   "metadata": {},
   "outputs": [
    {
     "name": "stdout",
     "output_type": "stream",
     "text": [
      "OK\n"
     ]
    },
    {
     "data": {
      "text/plain": [
       "72.5"
      ]
     },
     "execution_count": 19,
     "metadata": {},
     "output_type": "execute_result"
    }
   ],
   "source": [
    "opinionated_celsius_fahrenheit(22.5)"
   ]
  },
  {
   "cell_type": "code",
   "execution_count": 20,
   "metadata": {},
   "outputs": [
    {
     "name": "stdout",
     "output_type": "stream",
     "text": [
      "Chilly\n"
     ]
    },
    {
     "data": {
      "text/plain": [
       "14.0"
      ]
     },
     "execution_count": 20,
     "metadata": {},
     "output_type": "execute_result"
    }
   ],
   "source": [
    "opinionated_celsius_fahrenheit(-10)"
   ]
  },
  {
   "cell_type": "markdown",
   "metadata": {
    "slideshow": {
     "slide_type": "-"
    }
   },
   "source": [
    "**d)** Modify your function from part (c) so that it accepts a second input called `temp_chilly`, which is used for the \"chilly\" temperature threshold (instead of always using 10 C). Test the function by calling it with various values for each of the two inputs."
   ]
  },
  {
   "cell_type": "code",
   "execution_count": 21,
   "metadata": {},
   "outputs": [],
   "source": [
    "def opinionated_celsius_fahrenheit2(temp_celsius, temp_chilly=10):\n",
    "    \"\"\"Convert temperature from Celsius to Fahrenheit and print an opinion\"\"\"\n",
    "    temp_fahrenheit = 1.8 * temp_celsius + 32\n",
    "    \n",
    "    if temp_celsius < temp_chilly:\n",
    "        print('Chilly')\n",
    "    else:\n",
    "        print('OK')\n",
    "        \n",
    "    return temp_fahrenheit"
   ]
  },
  {
   "cell_type": "code",
   "execution_count": 22,
   "metadata": {},
   "outputs": [
    {
     "name": "stdout",
     "output_type": "stream",
     "text": [
      "Chilly\n"
     ]
    },
    {
     "data": {
      "text/plain": [
       "44.6"
      ]
     },
     "execution_count": 22,
     "metadata": {},
     "output_type": "execute_result"
    }
   ],
   "source": [
    "opinionated_celsius_fahrenheit2(7)"
   ]
  },
  {
   "cell_type": "code",
   "execution_count": 23,
   "metadata": {},
   "outputs": [
    {
     "name": "stdout",
     "output_type": "stream",
     "text": [
      "OK\n"
     ]
    },
    {
     "data": {
      "text/plain": [
       "44.6"
      ]
     },
     "execution_count": 23,
     "metadata": {},
     "output_type": "execute_result"
    }
   ],
   "source": [
    "opinionated_celsius_fahrenheit2(7, temp_chilly=5)"
   ]
  },
  {
   "cell_type": "code",
   "execution_count": 24,
   "metadata": {},
   "outputs": [
    {
     "name": "stdout",
     "output_type": "stream",
     "text": [
      "OK\n"
     ]
    },
    {
     "data": {
      "text/plain": [
       "59.0"
      ]
     },
     "execution_count": 24,
     "metadata": {},
     "output_type": "execute_result"
    }
   ],
   "source": [
    "opinionated_celsius_fahrenheit2(15, temp_chilly=5)"
   ]
  },
  {
   "cell_type": "code",
   "execution_count": 25,
   "metadata": {},
   "outputs": [
    {
     "name": "stdout",
     "output_type": "stream",
     "text": [
      "Chilly\n"
     ]
    },
    {
     "data": {
      "text/plain": [
       "59.0"
      ]
     },
     "execution_count": 25,
     "metadata": {},
     "output_type": "execute_result"
    }
   ],
   "source": [
    "opinionated_celsius_fahrenheit2(15, temp_chilly=17)"
   ]
  },
  {
   "cell_type": "markdown",
   "metadata": {
    "slideshow": {
     "slide_type": "slide"
    }
   },
   "source": [
    "# Exercise 1.3\n",
    "\n",
    "**a)** Create a list called `numbers` containing the values: `7, -4, 1e8, 8.3, 287, 29, -2.5, 9.8`"
   ]
  },
  {
   "cell_type": "code",
   "execution_count": 26,
   "metadata": {},
   "outputs": [],
   "source": [
    "numbers = [7, -4, 1e8, 8.3, 287, 29, -2.5, 9.8]"
   ]
  },
  {
   "cell_type": "markdown",
   "metadata": {
    "slideshow": {
     "slide_type": "-"
    }
   },
   "source": [
    "**b)** Display a slice of `numbers` containing the last 3 items"
   ]
  },
  {
   "cell_type": "code",
   "execution_count": 27,
   "metadata": {},
   "outputs": [
    {
     "data": {
      "text/plain": [
       "[29, -2.5, 9.8]"
      ]
     },
     "execution_count": 27,
     "metadata": {},
     "output_type": "execute_result"
    }
   ],
   "source": [
    "numbers[5:]"
   ]
  },
  {
   "cell_type": "markdown",
   "metadata": {
    "slideshow": {
     "slide_type": "-"
    }
   },
   "source": [
    "**c)** Loop over the items in `numbers` to print out each item multiplied by 10"
   ]
  },
  {
   "cell_type": "code",
   "execution_count": 28,
   "metadata": {},
   "outputs": [
    {
     "name": "stdout",
     "output_type": "stream",
     "text": [
      "70\n",
      "-40\n",
      "1000000000.0\n",
      "83.0\n",
      "2870\n",
      "290\n",
      "-25.0\n",
      "98.0\n"
     ]
    }
   ],
   "source": [
    "for num in numbers:\n",
    "    print(10 * num)"
   ]
  },
  {
   "cell_type": "markdown",
   "metadata": {
    "slideshow": {
     "slide_type": "-"
    }
   },
   "source": [
    "### Bonus exercises\n",
    "\n",
    "**d) Creating a sequence of integers** \n",
    "\n",
    "The built-in function `range` produces a sequence of integers from a specified start (inclusive) to stop (exclusive). This can be helpful when we want to loop over a long sequence of numbers without manually creating a list of those numbers. Try copying the code below into your notebook and running it to see how it works:\n",
    "\n",
    "```python\n",
    "for num in range(7, 16):\n",
    "    print(num)\n",
    "```\n",
    "\n",
    "Using the code above as a guide, and also using the techniques from previous bonus exercise 1.1(d) for concatenating an integer variable with a string:\n",
    "- Create a `for` loop that loops over a sequence of years from 1938 up to and including 2012, and for each year in the sequence, prints `'The year is '` plus the current value of the year.\n",
    "\n",
    "> In a later bonus exercise, we'll use this loop for downloading Environment Canada weather data!"
   ]
  },
  {
   "cell_type": "code",
   "execution_count": 29,
   "metadata": {},
   "outputs": [
    {
     "name": "stdout",
     "output_type": "stream",
     "text": [
      "The year is 1938\n",
      "The year is 1939\n",
      "The year is 1940\n",
      "The year is 1941\n",
      "The year is 1942\n",
      "The year is 1943\n",
      "The year is 1944\n",
      "The year is 1945\n",
      "The year is 1946\n",
      "The year is 1947\n",
      "The year is 1948\n",
      "The year is 1949\n",
      "The year is 1950\n",
      "The year is 1951\n",
      "The year is 1952\n",
      "The year is 1953\n",
      "The year is 1954\n",
      "The year is 1955\n",
      "The year is 1956\n",
      "The year is 1957\n",
      "The year is 1958\n",
      "The year is 1959\n",
      "The year is 1960\n",
      "The year is 1961\n",
      "The year is 1962\n",
      "The year is 1963\n",
      "The year is 1964\n",
      "The year is 1965\n",
      "The year is 1966\n",
      "The year is 1967\n",
      "The year is 1968\n",
      "The year is 1969\n",
      "The year is 1970\n",
      "The year is 1971\n",
      "The year is 1972\n",
      "The year is 1973\n",
      "The year is 1974\n",
      "The year is 1975\n",
      "The year is 1976\n",
      "The year is 1977\n",
      "The year is 1978\n",
      "The year is 1979\n",
      "The year is 1980\n",
      "The year is 1981\n",
      "The year is 1982\n",
      "The year is 1983\n",
      "The year is 1984\n",
      "The year is 1985\n",
      "The year is 1986\n",
      "The year is 1987\n",
      "The year is 1988\n",
      "The year is 1989\n",
      "The year is 1990\n",
      "The year is 1991\n",
      "The year is 1992\n",
      "The year is 1993\n",
      "The year is 1994\n",
      "The year is 1995\n",
      "The year is 1996\n",
      "The year is 1997\n",
      "The year is 1998\n",
      "The year is 1999\n",
      "The year is 2000\n",
      "The year is 2001\n",
      "The year is 2002\n",
      "The year is 2003\n",
      "The year is 2004\n",
      "The year is 2005\n",
      "The year is 2006\n",
      "The year is 2007\n",
      "The year is 2008\n",
      "The year is 2009\n",
      "The year is 2010\n",
      "The year is 2011\n",
      "The year is 2012\n"
     ]
    }
   ],
   "source": [
    "for year in range(1938, 2013):\n",
    "    print('The year is ' + str(year))"
   ]
  },
  {
   "cell_type": "markdown",
   "metadata": {
    "slideshow": {
     "slide_type": "-"
    }
   },
   "source": [
    "**e) Negative indices** \n",
    "\n",
    "- Display the item at index `-1` of your list `numbers` from part (a).\n",
    "- How about index `-2`, `-3`, etc? \n",
    "- What do you conclude about negative indices?"
   ]
  },
  {
   "cell_type": "code",
   "execution_count": 30,
   "metadata": {},
   "outputs": [
    {
     "data": {
      "text/plain": [
       "[7, -4, 100000000.0, 8.3, 287, 29, -2.5, 9.8]"
      ]
     },
     "execution_count": 30,
     "metadata": {},
     "output_type": "execute_result"
    }
   ],
   "source": [
    "# Display the list as a reminder\n",
    "numbers"
   ]
  },
  {
   "cell_type": "code",
   "execution_count": 31,
   "metadata": {},
   "outputs": [
    {
     "data": {
      "text/plain": [
       "9.8"
      ]
     },
     "execution_count": 31,
     "metadata": {},
     "output_type": "execute_result"
    }
   ],
   "source": [
    "numbers[-1]"
   ]
  },
  {
   "cell_type": "code",
   "execution_count": 32,
   "metadata": {},
   "outputs": [
    {
     "data": {
      "text/plain": [
       "-2.5"
      ]
     },
     "execution_count": 32,
     "metadata": {},
     "output_type": "execute_result"
    }
   ],
   "source": [
    "numbers[-2]"
   ]
  },
  {
   "cell_type": "code",
   "execution_count": 33,
   "metadata": {},
   "outputs": [
    {
     "data": {
      "text/plain": [
       "29"
      ]
     },
     "execution_count": 33,
     "metadata": {},
     "output_type": "execute_result"
    }
   ],
   "source": [
    "numbers[-3]"
   ]
  },
  {
   "cell_type": "markdown",
   "metadata": {},
   "source": [
    "Negative indices count from the end of the list backwards, so `-1` is the last item, `-2` the second last, and so on."
   ]
  },
  {
   "cell_type": "markdown",
   "metadata": {
    "slideshow": {
     "slide_type": "-"
    }
   },
   "source": [
    "**f) More about slices** \n",
    "\n",
    "- Display the slices `numbers[::2]`, `numbers[1:6:2]`, and `numbers[::-1]`.\n",
    "- What do you conclude about the number after the second colon?\n",
    "- How would you slice `numbers` to display every 3rd item starting from index 1?"
   ]
  },
  {
   "cell_type": "code",
   "execution_count": 34,
   "metadata": {},
   "outputs": [
    {
     "data": {
      "text/plain": [
       "[7, 100000000.0, 287, -2.5]"
      ]
     },
     "execution_count": 34,
     "metadata": {},
     "output_type": "execute_result"
    }
   ],
   "source": [
    "numbers[::2]"
   ]
  },
  {
   "cell_type": "code",
   "execution_count": 35,
   "metadata": {},
   "outputs": [
    {
     "data": {
      "text/plain": [
       "[-4, 8.3, 29]"
      ]
     },
     "execution_count": 35,
     "metadata": {},
     "output_type": "execute_result"
    }
   ],
   "source": [
    "numbers[1:6:2]"
   ]
  },
  {
   "cell_type": "code",
   "execution_count": 36,
   "metadata": {},
   "outputs": [
    {
     "data": {
      "text/plain": [
       "[9.8, -2.5, 29, 287, 8.3, 100000000.0, -4, 7]"
      ]
     },
     "execution_count": 36,
     "metadata": {},
     "output_type": "execute_result"
    }
   ],
   "source": [
    "numbers[::-1]"
   ]
  },
  {
   "cell_type": "markdown",
   "metadata": {},
   "source": [
    "The number after the second colon specifies the step to take in the slice, so `2` is every second item, `3` is every third item. Negative steps reverse the direction.\n",
    "\n",
    "Every third item starting from index 1:"
   ]
  },
  {
   "cell_type": "code",
   "execution_count": 37,
   "metadata": {},
   "outputs": [
    {
     "data": {
      "text/plain": [
       "[-4, 287, 9.8]"
      ]
     },
     "execution_count": 37,
     "metadata": {},
     "output_type": "execute_result"
    }
   ],
   "source": [
    "numbers[1::3]"
   ]
  },
  {
   "cell_type": "markdown",
   "metadata": {
    "slideshow": {
     "slide_type": "-"
    }
   },
   "source": [
    "**g) Indexing with strings** \n",
    "\n",
    "Create a variable `city` with a value of `'Vancouver'`. \n",
    "- Display the values of `city[0]` and `city[3:7]`.\n",
    "- What do you conclude about indexing string variables?\n",
    "- What happens if you try to assign `city[6] = 'Q'`?"
   ]
  },
  {
   "cell_type": "code",
   "execution_count": 38,
   "metadata": {},
   "outputs": [],
   "source": [
    "city = 'Vancouver'"
   ]
  },
  {
   "cell_type": "code",
   "execution_count": 39,
   "metadata": {},
   "outputs": [
    {
     "data": {
      "text/plain": [
       "'V'"
      ]
     },
     "execution_count": 39,
     "metadata": {},
     "output_type": "execute_result"
    }
   ],
   "source": [
    "city[0]"
   ]
  },
  {
   "cell_type": "code",
   "execution_count": 40,
   "metadata": {},
   "outputs": [
    {
     "data": {
      "text/plain": [
       "'couv'"
      ]
     },
     "execution_count": 40,
     "metadata": {},
     "output_type": "execute_result"
    }
   ],
   "source": [
    "city[3:7]"
   ]
  },
  {
   "cell_type": "code",
   "execution_count": 41,
   "metadata": {},
   "outputs": [
    {
     "ename": "TypeError",
     "evalue": "'str' object does not support item assignment",
     "output_type": "error",
     "traceback": [
      "\u001b[1;31m---------------------------------------------------------------------------\u001b[0m",
      "\u001b[1;31mTypeError\u001b[0m                                 Traceback (most recent call last)",
      "\u001b[1;32m<ipython-input-41-da443d549d79>\u001b[0m in \u001b[0;36m<module>\u001b[1;34m()\u001b[0m\n\u001b[1;32m----> 1\u001b[1;33m \u001b[0mcity\u001b[0m\u001b[1;33m[\u001b[0m\u001b[1;36m6\u001b[0m\u001b[1;33m]\u001b[0m \u001b[1;33m=\u001b[0m \u001b[1;34m'Q'\u001b[0m\u001b[1;33m\u001b[0m\u001b[0m\n\u001b[0m",
      "\u001b[1;31mTypeError\u001b[0m: 'str' object does not support item assignment"
     ]
    }
   ],
   "source": [
    "city[6] = 'Q'"
   ]
  },
  {
   "cell_type": "markdown",
   "metadata": {},
   "source": [
    "We can index the characters in a string with the same syntax as indexing the items in a list. However, unlike a list, we can't change the values of characters within a string."
   ]
  },
  {
   "cell_type": "markdown",
   "metadata": {
    "slideshow": {
     "slide_type": "slide"
    }
   },
   "source": [
    "# Exercise 1.4\n",
    "\n",
    "First, create the dictionary from the lesson:"
   ]
  },
  {
   "cell_type": "code",
   "execution_count": 42,
   "metadata": {
    "slideshow": {
     "slide_type": "fragment"
    }
   },
   "outputs": [
    {
     "data": {
      "text/plain": [
       "{'apple': 'green', 'banana': 'yellow', 'strawberry': 'red'}"
      ]
     },
     "execution_count": 42,
     "metadata": {},
     "output_type": "execute_result"
    }
   ],
   "source": [
    "fruit_colors = {'banana' : 'yellow', 'strawberry' : 'red'}\n",
    "fruit_colors['apple'] = 'green'\n",
    "fruit_colors"
   ]
  },
  {
   "cell_type": "markdown",
   "metadata": {
    "slideshow": {
     "slide_type": "slide"
    }
   },
   "source": [
    "a) In the `fruit_colors` dictionary:\n",
    "- Change the color of `apple` to `'red'`\n",
    "- Add an item with key `'plum'` and value of `'purple'`\n",
    "- Display the updated `fruit_colors` dictionary"
   ]
  },
  {
   "cell_type": "code",
   "execution_count": 43,
   "metadata": {},
   "outputs": [
    {
     "data": {
      "text/plain": [
       "{'apple': 'red', 'banana': 'yellow', 'plum': 'purple', 'strawberry': 'red'}"
      ]
     },
     "execution_count": 43,
     "metadata": {},
     "output_type": "execute_result"
    }
   ],
   "source": [
    "fruit_colors['apple'] = 'red'\n",
    "fruit_colors['plum'] = 'purple'\n",
    "fruit_colors"
   ]
  },
  {
   "cell_type": "markdown",
   "metadata": {
    "slideshow": {
     "slide_type": "-"
    }
   },
   "source": [
    "b) Loop through the `fruit_colors` dictionary and print the fruit name (key) only if its color (value) is `'red'`."
   ]
  },
  {
   "cell_type": "code",
   "execution_count": 44,
   "metadata": {},
   "outputs": [
    {
     "name": "stdout",
     "output_type": "stream",
     "text": [
      "strawberry\n",
      "apple\n"
     ]
    }
   ],
   "source": [
    "for fruit in fruit_colors:\n",
    "    if fruit_colors[fruit] == 'red':\n",
    "        print(fruit)"
   ]
  },
  {
   "cell_type": "markdown",
   "metadata": {
    "slideshow": {
     "slide_type": "-"
    }
   },
   "source": [
    "### Bonus exercises\n",
    "\n",
    "c) Create a new *empty* dictionary `groceries` with the syntax `groceries = {}` and then display `groceries`. Add a key `'eggs'` with a value of `12` and display the updated `groceries` dictionary."
   ]
  },
  {
   "cell_type": "code",
   "execution_count": 45,
   "metadata": {},
   "outputs": [
    {
     "data": {
      "text/plain": [
       "{}"
      ]
     },
     "execution_count": 45,
     "metadata": {},
     "output_type": "execute_result"
    }
   ],
   "source": [
    "groceries = {}\n",
    "groceries"
   ]
  },
  {
   "cell_type": "code",
   "execution_count": 46,
   "metadata": {},
   "outputs": [
    {
     "data": {
      "text/plain": [
       "{'eggs': 12}"
      ]
     },
     "execution_count": 46,
     "metadata": {},
     "output_type": "execute_result"
    }
   ],
   "source": [
    "groceries['eggs'] = 12\n",
    "groceries"
   ]
  },
  {
   "cell_type": "markdown",
   "metadata": {
    "slideshow": {
     "slide_type": "-"
    }
   },
   "source": [
    "d) Create a new dictionary `squares` whose keys are the integers `1`, `2`, `3`, `4`, `5`, and the value for each key is the key squared (so for key `1`, the value is `1`; for key `2`, the value is `4`; etc.).\n",
    "- Hint: See if you can find a couple of different ways to accomplish this task. One approach might involve a list along with an empty dictionary and a `for` loop."
   ]
  },
  {
   "cell_type": "code",
   "execution_count": 47,
   "metadata": {},
   "outputs": [
    {
     "data": {
      "text/plain": [
       "{1: 1, 2: 4, 3: 9, 4: 16, 5: 25}"
      ]
     },
     "execution_count": 47,
     "metadata": {},
     "output_type": "execute_result"
    }
   ],
   "source": [
    "# Option 1\n",
    "squares = {1 : 1, 2 : 4, 3 : 9, 4 : 16, 5 : 25}\n",
    "squares"
   ]
  },
  {
   "cell_type": "code",
   "execution_count": 48,
   "metadata": {},
   "outputs": [
    {
     "data": {
      "text/plain": [
       "{1: 1, 2: 4, 3: 9, 4: 16, 5: 25}"
      ]
     },
     "execution_count": 48,
     "metadata": {},
     "output_type": "execute_result"
    }
   ],
   "source": [
    "# Option 2\n",
    "squares = {}\n",
    "for i in range(1, 6):\n",
    "    squares[i] = i ** 2\n",
    "\n",
    "squares"
   ]
  },
  {
   "cell_type": "code",
   "execution_count": null,
   "metadata": {},
   "outputs": [],
   "source": []
  }
 ],
 "metadata": {
  "kernelspec": {
   "display_name": "Python [default]",
   "language": "python",
   "name": "python3"
  },
  "language_info": {
   "codemirror_mode": {
    "name": "ipython",
    "version": 3
   },
   "file_extension": ".py",
   "mimetype": "text/x-python",
   "name": "python",
   "nbconvert_exporter": "python",
   "pygments_lexer": "ipython3",
   "version": "3.6.4"
  }
 },
 "nbformat": 4,
 "nbformat_minor": 2
}
