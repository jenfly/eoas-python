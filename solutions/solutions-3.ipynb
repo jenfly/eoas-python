{
 "cells": [
  {
   "cell_type": "markdown",
   "metadata": {},
   "source": [
    "# Solutions to Lesson 3 Exercises\n",
    "\n",
    "For each exercise, the solutions below show one possible way of solving it, but you might have used a different approach, and that's great! There is almost always more than one way to solve any particular problem in Python.\n",
    "\n",
    "## Initial Setup"
   ]
  },
  {
   "cell_type": "markdown",
   "metadata": {},
   "source": [
    "Since this notebook is in the `solutions` sub-folder, use the  magic command `%cd` to go up one folder to the main project folder to keep the file paths the same as in the lessons:"
   ]
  },
  {
   "cell_type": "code",
   "execution_count": 1,
   "metadata": {},
   "outputs": [
    {
     "name": "stdout",
     "output_type": "stream",
     "text": [
      "C:\\Users\\jenfl\\Projects\\eoas-python\n"
     ]
    }
   ],
   "source": [
    "%cd .."
   ]
  },
  {
   "cell_type": "markdown",
   "metadata": {},
   "source": [
    "Import libraries, display plots inline, initialize variables from lesson:"
   ]
  },
  {
   "cell_type": "code",
   "execution_count": 2,
   "metadata": {},
   "outputs": [],
   "source": [
    "import pandas\n",
    "%matplotlib inline"
   ]
  },
  {
   "cell_type": "code",
   "execution_count": 3,
   "metadata": {},
   "outputs": [],
   "source": [
    "world = pandas.read_csv('data/gapminder_world_data_2018.csv')"
   ]
  },
  {
   "cell_type": "markdown",
   "metadata": {},
   "source": [
    "# Exercise 3\n",
    "\n",
    "Returning to our DataFrame `world` containing the data from `data/gapminder_world_data_2018.csv`:\n",
    "\n",
    "**a)** Find the highest life expectancy by using the `max` method on the `'life_expectancy'` column and store the result in a variable `longest_life`."
   ]
  },
  {
   "cell_type": "code",
   "execution_count": 4,
   "metadata": {},
   "outputs": [
    {
     "data": {
      "text/plain": [
       "84.2"
      ]
     },
     "execution_count": 4,
     "metadata": {},
     "output_type": "execute_result"
    }
   ],
   "source": [
    "longest_life = world['life_expectancy'].max()\n",
    "longest_life"
   ]
  },
  {
   "cell_type": "markdown",
   "metadata": {},
   "source": [
    "**b)** Plot the `'life_expectancy'` column as a histogram with 20 bins."
   ]
  },
  {
   "cell_type": "code",
   "execution_count": 5,
   "metadata": {},
   "outputs": [
    {
     "data": {
      "image/png": "[encoded data removed]",
      "text/plain": [
       "<Figure size 432x288 with 1 Axes>"
      ]
     },
     "metadata": {},
     "output_type": "display_data"
    }
   ],
   "source": [
    "world['life_expectancy'].plot(kind='hist', bins=20);"
   ]
  },
  {
   "cell_type": "markdown",
   "metadata": {},
   "source": [
    "**c)** Create a new column `'area'` which contains the area of each country in km$^2$, estimated by dividing the `'population'` column by the `'pop_density'` column. What are the largest and smallest areas?"
   ]
  },
  {
   "cell_type": "code",
   "execution_count": 6,
   "metadata": {},
   "outputs": [
    {
     "data": {
      "text/plain": [
       "count    1.780000e+02\n",
       "mean     7.266146e+05\n",
       "std      1.910470e+06\n",
       "min      3.000000e+02\n",
       "25%      3.306610e+04\n",
       "50%      1.656482e+05\n",
       "75%      5.766686e+05\n",
       "max      1.638225e+07\n",
       "Name: area, dtype: float64"
      ]
     },
     "execution_count": 6,
     "metadata": {},
     "output_type": "execute_result"
    }
   ],
   "source": [
    "world['area'] = world['population'] / world['pop_density']\n",
    "world['area'].describe()"
   ]
  },
  {
   "cell_type": "markdown",
   "metadata": {},
   "source": [
    "The largest and smallest areas are 300 km$^2$ and approximately 16.4 million km$^2$, respectively."
   ]
  },
  {
   "cell_type": "markdown",
   "metadata": {},
   "source": [
    "**d)** Create a new DataFrame `country_sizes` which contains only the `'country'`, `'population'`, `'pop_density'`, and `'area'` columns."
   ]
  },
  {
   "cell_type": "code",
   "execution_count": 7,
   "metadata": {},
   "outputs": [
    {
     "data": {
      "text/html": [
       "<div>\n",
       "<style scoped>\n",
       "    .dataframe tbody tr th:only-of-type {\n",
       "        vertical-align: middle;\n",
       "    }\n",
       "\n",
       "    .dataframe tbody tr th {\n",
       "        vertical-align: top;\n",
       "    }\n",
       "\n",
       "    .dataframe thead th {\n",
       "        text-align: right;\n",
       "    }\n",
       "</style>\n",
       "<table border=\"1\" class=\"dataframe\">\n",
       "  <thead>\n",
       "    <tr style=\"text-align: right;\">\n",
       "      <th></th>\n",
       "      <th>country</th>\n",
       "      <th>population</th>\n",
       "      <th>pop_density</th>\n",
       "      <th>area</th>\n",
       "    </tr>\n",
       "  </thead>\n",
       "  <tbody>\n",
       "    <tr>\n",
       "      <th>0</th>\n",
       "      <td>Afghanistan</td>\n",
       "      <td>36400000</td>\n",
       "      <td>55.7</td>\n",
       "      <td>6.535009e+05</td>\n",
       "    </tr>\n",
       "    <tr>\n",
       "      <th>1</th>\n",
       "      <td>Albania</td>\n",
       "      <td>2930000</td>\n",
       "      <td>107.0</td>\n",
       "      <td>2.738318e+04</td>\n",
       "    </tr>\n",
       "    <tr>\n",
       "      <th>2</th>\n",
       "      <td>Algeria</td>\n",
       "      <td>42000000</td>\n",
       "      <td>17.6</td>\n",
       "      <td>2.386364e+06</td>\n",
       "    </tr>\n",
       "    <tr>\n",
       "      <th>3</th>\n",
       "      <td>Angola</td>\n",
       "      <td>30800000</td>\n",
       "      <td>24.7</td>\n",
       "      <td>1.246964e+06</td>\n",
       "    </tr>\n",
       "    <tr>\n",
       "      <th>4</th>\n",
       "      <td>Antigua and Barbuda</td>\n",
       "      <td>103000</td>\n",
       "      <td>234.0</td>\n",
       "      <td>4.401709e+02</td>\n",
       "    </tr>\n",
       "  </tbody>\n",
       "</table>\n",
       "</div>"
      ],
      "text/plain": [
       "               country  population  pop_density          area\n",
       "0          Afghanistan    36400000         55.7  6.535009e+05\n",
       "1              Albania     2930000        107.0  2.738318e+04\n",
       "2              Algeria    42000000         17.6  2.386364e+06\n",
       "3               Angola    30800000         24.7  1.246964e+06\n",
       "4  Antigua and Barbuda      103000        234.0  4.401709e+02"
      ]
     },
     "execution_count": 7,
     "metadata": {},
     "output_type": "execute_result"
    }
   ],
   "source": [
    "columns = ['country', 'population', 'pop_density', 'area']\n",
    "country_sizes = world[columns]\n",
    "country_sizes.head()"
   ]
  },
  {
   "cell_type": "markdown",
   "metadata": {},
   "source": [
    "**e)** Save the `country_sizes` data to a new CSV file."
   ]
  },
  {
   "cell_type": "code",
   "execution_count": 8,
   "metadata": {},
   "outputs": [],
   "source": [
    "country_sizes.to_csv('data/country_sizes.csv', index=False)"
   ]
  },
  {
   "cell_type": "markdown",
   "metadata": {},
   "source": [
    "### Bonus exercises"
   ]
  },
  {
   "cell_type": "markdown",
   "metadata": {},
   "source": [
    "**f) Working with text data - counting unique values** \n",
    "\n",
    "For text data with many repeated values, such as the `'region'`, `'sub_region'`, and `'income_group'` categories, it can be useful to know what the unique values are and how often each unique value occurs. There several handy methods for this.\n",
    "- On the `'region'` column of `world`, call each of the following methods to see what the output looks like: `unique`, `nunique`, and `value_counts`. What do each of these methods do?\n",
    "- Which region has the fewest countries?"
   ]
  },
  {
   "cell_type": "code",
   "execution_count": 9,
   "metadata": {},
   "outputs": [
    {
     "data": {
      "text/plain": [
       "array(['Asia', 'Europe', 'Africa', 'Americas', 'Oceania'], dtype=object)"
      ]
     },
     "execution_count": 9,
     "metadata": {},
     "output_type": "execute_result"
    }
   ],
   "source": [
    "world['region'].unique()"
   ]
  },
  {
   "cell_type": "code",
   "execution_count": 10,
   "metadata": {},
   "outputs": [
    {
     "data": {
      "text/plain": [
       "5"
      ]
     },
     "execution_count": 10,
     "metadata": {},
     "output_type": "execute_result"
    }
   ],
   "source": [
    "world['region'].nunique()"
   ]
  },
  {
   "cell_type": "code",
   "execution_count": 11,
   "metadata": {},
   "outputs": [
    {
     "data": {
      "text/plain": [
       "Africa      52\n",
       "Asia        47\n",
       "Europe      39\n",
       "Americas    31\n",
       "Oceania      9\n",
       "Name: region, dtype: int64"
      ]
     },
     "execution_count": 11,
     "metadata": {},
     "output_type": "execute_result"
    }
   ],
   "source": [
    "world['region'].value_counts()"
   ]
  },
  {
   "cell_type": "markdown",
   "metadata": {},
   "source": [
    "- The `unique` method returns an array of the unique values in the Series.\n",
    "- The `nunique` method returns the number of unique values in the Series.\n",
    "- The `value_counts` method returns the unique values in the Series and the counts for each one.\n",
    "- The Oceania region has the fewest countries (9)."
   ]
  },
  {
   "cell_type": "markdown",
   "metadata": {
    "slideshow": {
     "slide_type": "-"
    }
   },
   "source": [
    "**g) Working with text data - string methods**\n",
    "\n",
    "`pandas` Series have a few *accessors*, which are attributes that [act like an interface to additional methods](https://realpython.com/python-pandas-tricks/#3-take-advantage-of-accessor-methods). With a Series of text data, the `str` accessor allows you to apply string methods such as `upper`, `lower`, `strip`, `replace`, etc. to all the items in the Series.\n",
    "\n",
    "- Create a variable `sub_regions` which contains the `'sub_region'` column of `world`.\n",
    "- Check out some of the documentation with `sub_regions.str?` and `sub_regions.str.upper?`. \n",
    "- Create a new Series of the sub-region categories converted to upper case.\n",
    "- Create a new Series of the sub-region categories where any instance of `'Northern'` is replaced with `'NORTHERN!'` (e.g., `'Northern Europe'` becomes `'NORTHERN! Europe'`).\n",
    "- For both of these new Series, use the `value_counts` method to verify that the output is what you were expecting."
   ]
  },
  {
   "cell_type": "code",
   "execution_count": 12,
   "metadata": {},
   "outputs": [],
   "source": [
    "sub_regions = world['sub_region']"
   ]
  },
  {
   "cell_type": "code",
   "execution_count": 13,
   "metadata": {},
   "outputs": [
    {
     "data": {
      "text/plain": [
       "SUB-SAHARAN AFRICA                 46\n",
       "LATIN AMERICA AND THE CARIBBEAN    29\n",
       "WESTERN ASIA                       18\n",
       "SOUTHERN EUROPE                    12\n",
       "SOUTH-EASTERN ASIA                 10\n",
       "EASTERN EUROPE                     10\n",
       "NORTHERN EUROPE                    10\n",
       "SOUTHERN ASIA                       9\n",
       "WESTERN EUROPE                      7\n",
       "NORTHERN AFRICA                     6\n",
       "EASTERN ASIA                        5\n",
       "CENTRAL ASIA                        5\n",
       "MELANESIA                           4\n",
       "POLYNESIA                           2\n",
       "AUSTRALIA AND NEW ZEALAND           2\n",
       "NORTHERN AMERICA                    2\n",
       "MICRONESIA                          1\n",
       "Name: sub_region, dtype: int64"
      ]
     },
     "execution_count": 13,
     "metadata": {},
     "output_type": "execute_result"
    }
   ],
   "source": [
    "sub_regions_upper = sub_regions.str.upper()\n",
    "sub_regions_upper.value_counts()"
   ]
  },
  {
   "cell_type": "code",
   "execution_count": 14,
   "metadata": {},
   "outputs": [
    {
     "data": {
      "text/plain": [
       "Sub-Saharan Africa                 46\n",
       "Latin America and the Caribbean    29\n",
       "Western Asia                       18\n",
       "Southern Europe                    12\n",
       "Eastern Europe                     10\n",
       "NORTHERN! Europe                   10\n",
       "South-eastern Asia                 10\n",
       "Southern Asia                       9\n",
       "Western Europe                      7\n",
       "NORTHERN! Africa                    6\n",
       "Eastern Asia                        5\n",
       "Central Asia                        5\n",
       "Melanesia                           4\n",
       "Australia and New Zealand           2\n",
       "NORTHERN! America                   2\n",
       "Polynesia                           2\n",
       "Micronesia                          1\n",
       "Name: sub_region, dtype: int64"
      ]
     },
     "execution_count": 14,
     "metadata": {},
     "output_type": "execute_result"
    }
   ],
   "source": [
    "sub_regions_2 = sub_regions.str.replace('Northern', 'NORTHERN!')\n",
    "sub_regions_2.value_counts()"
   ]
  },
  {
   "cell_type": "markdown",
   "metadata": {},
   "source": [
    "**h) Data wrangling - concatenating DataFrames**\n",
    "\n",
    "Now we'll return to the Environment Canada weather data, and see how to do some of the data wrangling.\n",
    "- In the `data/raw` sub-folder, there are CSV files with daily weather data for the years 1938-1942, in the original format downloaded from Environment Canada.\n",
    "- Using your code from previous bonus exercise 2(e) as a starting point, read the data from 1938 into a DataFrame `df_1938`, skipping the extra header rows.\n",
    "- Repeat the previous step to read the 1939 data into a DataFrame `df_1939`.\n",
    "- Use `shape`, `head`, and `tail` to confirm that each DataFrame is the expected size and contains the expected dates."
   ]
  },
  {
   "cell_type": "code",
   "execution_count": 15,
   "metadata": {},
   "outputs": [
    {
     "data": {
      "text/plain": [
       "(365, 27)"
      ]
     },
     "execution_count": 15,
     "metadata": {},
     "output_type": "execute_result"
    }
   ],
   "source": [
    "df_1938 = pandas.read_csv('data/raw/weather_YVR_1938.csv', skiprows=24)\n",
    "df_1938.shape"
   ]
  },
  {
   "cell_type": "code",
   "execution_count": 16,
   "metadata": {},
   "outputs": [
    {
     "data": {
      "text/html": [
       "<div>\n",
       "<style scoped>\n",
       "    .dataframe tbody tr th:only-of-type {\n",
       "        vertical-align: middle;\n",
       "    }\n",
       "\n",
       "    .dataframe tbody tr th {\n",
       "        vertical-align: top;\n",
       "    }\n",
       "\n",
       "    .dataframe thead th {\n",
       "        text-align: right;\n",
       "    }\n",
       "</style>\n",
       "<table border=\"1\" class=\"dataframe\">\n",
       "  <thead>\n",
       "    <tr style=\"text-align: right;\">\n",
       "      <th></th>\n",
       "      <th>Date/Time</th>\n",
       "      <th>Year</th>\n",
       "      <th>Month</th>\n",
       "      <th>Day</th>\n",
       "      <th>Data Quality</th>\n",
       "      <th>Max Temp (°C)</th>\n",
       "      <th>Max Temp Flag</th>\n",
       "      <th>Min Temp (°C)</th>\n",
       "      <th>Min Temp Flag</th>\n",
       "      <th>Mean Temp (°C)</th>\n",
       "      <th>...</th>\n",
       "      <th>Total Snow (cm)</th>\n",
       "      <th>Total Snow Flag</th>\n",
       "      <th>Total Precip (mm)</th>\n",
       "      <th>Total Precip Flag</th>\n",
       "      <th>Snow on Grnd (cm)</th>\n",
       "      <th>Snow on Grnd Flag</th>\n",
       "      <th>Dir of Max Gust (10s deg)</th>\n",
       "      <th>Dir of Max Gust Flag</th>\n",
       "      <th>Spd of Max Gust (km/h)</th>\n",
       "      <th>Spd of Max Gust Flag</th>\n",
       "    </tr>\n",
       "  </thead>\n",
       "  <tbody>\n",
       "    <tr>\n",
       "      <th>0</th>\n",
       "      <td>1938-01-01</td>\n",
       "      <td>1938</td>\n",
       "      <td>1</td>\n",
       "      <td>1</td>\n",
       "      <td>NaN</td>\n",
       "      <td>9.4</td>\n",
       "      <td>NaN</td>\n",
       "      <td>-0.6</td>\n",
       "      <td>NaN</td>\n",
       "      <td>4.4</td>\n",
       "      <td>...</td>\n",
       "      <td>NaN</td>\n",
       "      <td>M</td>\n",
       "      <td>0.3</td>\n",
       "      <td>NaN</td>\n",
       "      <td>NaN</td>\n",
       "      <td>NaN</td>\n",
       "      <td>NaN</td>\n",
       "      <td>NaN</td>\n",
       "      <td>NaN</td>\n",
       "      <td>NaN</td>\n",
       "    </tr>\n",
       "    <tr>\n",
       "      <th>1</th>\n",
       "      <td>1938-01-02</td>\n",
       "      <td>1938</td>\n",
       "      <td>1</td>\n",
       "      <td>2</td>\n",
       "      <td>NaN</td>\n",
       "      <td>7.2</td>\n",
       "      <td>NaN</td>\n",
       "      <td>1.7</td>\n",
       "      <td>NaN</td>\n",
       "      <td>4.5</td>\n",
       "      <td>...</td>\n",
       "      <td>NaN</td>\n",
       "      <td>M</td>\n",
       "      <td>0.5</td>\n",
       "      <td>NaN</td>\n",
       "      <td>NaN</td>\n",
       "      <td>NaN</td>\n",
       "      <td>NaN</td>\n",
       "      <td>NaN</td>\n",
       "      <td>NaN</td>\n",
       "      <td>NaN</td>\n",
       "    </tr>\n",
       "  </tbody>\n",
       "</table>\n",
       "<p>2 rows × 27 columns</p>\n",
       "</div>"
      ],
      "text/plain": [
       "    Date/Time  Year  Month  Day  Data Quality  Max Temp (°C) Max Temp Flag  \\\n",
       "0  1938-01-01  1938      1    1           NaN            9.4           NaN   \n",
       "1  1938-01-02  1938      1    2           NaN            7.2           NaN   \n",
       "\n",
       "   Min Temp (°C)  Min Temp Flag  Mean Temp (°C)          ...           \\\n",
       "0           -0.6            NaN             4.4          ...            \n",
       "1            1.7            NaN             4.5          ...            \n",
       "\n",
       "  Total Snow (cm)  Total Snow Flag Total Precip (mm)  Total Precip Flag  \\\n",
       "0             NaN                M               0.3                NaN   \n",
       "1             NaN                M               0.5                NaN   \n",
       "\n",
       "  Snow on Grnd (cm)  Snow on Grnd Flag Dir of Max Gust (10s deg)  \\\n",
       "0               NaN                NaN                       NaN   \n",
       "1               NaN                NaN                       NaN   \n",
       "\n",
       "   Dir of Max Gust Flag Spd of Max Gust (km/h)  Spd of Max Gust Flag  \n",
       "0                   NaN                    NaN                   NaN  \n",
       "1                   NaN                    NaN                   NaN  \n",
       "\n",
       "[2 rows x 27 columns]"
      ]
     },
     "execution_count": 16,
     "metadata": {},
     "output_type": "execute_result"
    }
   ],
   "source": [
    "df_1938.head(2)"
   ]
  },
  {
   "cell_type": "code",
   "execution_count": 17,
   "metadata": {},
   "outputs": [
    {
     "data": {
      "text/html": [
       "<div>\n",
       "<style scoped>\n",
       "    .dataframe tbody tr th:only-of-type {\n",
       "        vertical-align: middle;\n",
       "    }\n",
       "\n",
       "    .dataframe tbody tr th {\n",
       "        vertical-align: top;\n",
       "    }\n",
       "\n",
       "    .dataframe thead th {\n",
       "        text-align: right;\n",
       "    }\n",
       "</style>\n",
       "<table border=\"1\" class=\"dataframe\">\n",
       "  <thead>\n",
       "    <tr style=\"text-align: right;\">\n",
       "      <th></th>\n",
       "      <th>Date/Time</th>\n",
       "      <th>Year</th>\n",
       "      <th>Month</th>\n",
       "      <th>Day</th>\n",
       "      <th>Data Quality</th>\n",
       "      <th>Max Temp (°C)</th>\n",
       "      <th>Max Temp Flag</th>\n",
       "      <th>Min Temp (°C)</th>\n",
       "      <th>Min Temp Flag</th>\n",
       "      <th>Mean Temp (°C)</th>\n",
       "      <th>...</th>\n",
       "      <th>Total Snow (cm)</th>\n",
       "      <th>Total Snow Flag</th>\n",
       "      <th>Total Precip (mm)</th>\n",
       "      <th>Total Precip Flag</th>\n",
       "      <th>Snow on Grnd (cm)</th>\n",
       "      <th>Snow on Grnd Flag</th>\n",
       "      <th>Dir of Max Gust (10s deg)</th>\n",
       "      <th>Dir of Max Gust Flag</th>\n",
       "      <th>Spd of Max Gust (km/h)</th>\n",
       "      <th>Spd of Max Gust Flag</th>\n",
       "    </tr>\n",
       "  </thead>\n",
       "  <tbody>\n",
       "    <tr>\n",
       "      <th>363</th>\n",
       "      <td>1938-12-30</td>\n",
       "      <td>1938</td>\n",
       "      <td>12</td>\n",
       "      <td>30</td>\n",
       "      <td>NaN</td>\n",
       "      <td>6.7</td>\n",
       "      <td>NaN</td>\n",
       "      <td>5.0</td>\n",
       "      <td>NaN</td>\n",
       "      <td>5.9</td>\n",
       "      <td>...</td>\n",
       "      <td>0.0</td>\n",
       "      <td>NaN</td>\n",
       "      <td>29.5</td>\n",
       "      <td>NaN</td>\n",
       "      <td>NaN</td>\n",
       "      <td>NaN</td>\n",
       "      <td>NaN</td>\n",
       "      <td>NaN</td>\n",
       "      <td>NaN</td>\n",
       "      <td>NaN</td>\n",
       "    </tr>\n",
       "    <tr>\n",
       "      <th>364</th>\n",
       "      <td>1938-12-31</td>\n",
       "      <td>1938</td>\n",
       "      <td>12</td>\n",
       "      <td>31</td>\n",
       "      <td>NaN</td>\n",
       "      <td>9.4</td>\n",
       "      <td>NaN</td>\n",
       "      <td>3.9</td>\n",
       "      <td>NaN</td>\n",
       "      <td>6.7</td>\n",
       "      <td>...</td>\n",
       "      <td>0.0</td>\n",
       "      <td>NaN</td>\n",
       "      <td>58.9</td>\n",
       "      <td>NaN</td>\n",
       "      <td>NaN</td>\n",
       "      <td>NaN</td>\n",
       "      <td>NaN</td>\n",
       "      <td>NaN</td>\n",
       "      <td>NaN</td>\n",
       "      <td>NaN</td>\n",
       "    </tr>\n",
       "  </tbody>\n",
       "</table>\n",
       "<p>2 rows × 27 columns</p>\n",
       "</div>"
      ],
      "text/plain": [
       "      Date/Time  Year  Month  Day  Data Quality  Max Temp (°C) Max Temp Flag  \\\n",
       "363  1938-12-30  1938     12   30           NaN            6.7           NaN   \n",
       "364  1938-12-31  1938     12   31           NaN            9.4           NaN   \n",
       "\n",
       "     Min Temp (°C)  Min Temp Flag  Mean Temp (°C)          ...           \\\n",
       "363            5.0            NaN             5.9          ...            \n",
       "364            3.9            NaN             6.7          ...            \n",
       "\n",
       "    Total Snow (cm)  Total Snow Flag Total Precip (mm)  Total Precip Flag  \\\n",
       "363             0.0              NaN              29.5                NaN   \n",
       "364             0.0              NaN              58.9                NaN   \n",
       "\n",
       "    Snow on Grnd (cm)  Snow on Grnd Flag Dir of Max Gust (10s deg)  \\\n",
       "363               NaN                NaN                       NaN   \n",
       "364               NaN                NaN                       NaN   \n",
       "\n",
       "     Dir of Max Gust Flag Spd of Max Gust (km/h)  Spd of Max Gust Flag  \n",
       "363                   NaN                    NaN                   NaN  \n",
       "364                   NaN                    NaN                   NaN  \n",
       "\n",
       "[2 rows x 27 columns]"
      ]
     },
     "execution_count": 17,
     "metadata": {},
     "output_type": "execute_result"
    }
   ],
   "source": [
    "df_1938.tail(2)"
   ]
  },
  {
   "cell_type": "code",
   "execution_count": 18,
   "metadata": {},
   "outputs": [
    {
     "data": {
      "text/plain": [
       "(365, 27)"
      ]
     },
     "execution_count": 18,
     "metadata": {},
     "output_type": "execute_result"
    }
   ],
   "source": [
    "df_1939 = pandas.read_csv('data/raw/weather_YVR_1939.csv', skiprows=24)\n",
    "df_1939.shape"
   ]
  },
  {
   "cell_type": "code",
   "execution_count": 19,
   "metadata": {},
   "outputs": [
    {
     "data": {
      "text/html": [
       "<div>\n",
       "<style scoped>\n",
       "    .dataframe tbody tr th:only-of-type {\n",
       "        vertical-align: middle;\n",
       "    }\n",
       "\n",
       "    .dataframe tbody tr th {\n",
       "        vertical-align: top;\n",
       "    }\n",
       "\n",
       "    .dataframe thead th {\n",
       "        text-align: right;\n",
       "    }\n",
       "</style>\n",
       "<table border=\"1\" class=\"dataframe\">\n",
       "  <thead>\n",
       "    <tr style=\"text-align: right;\">\n",
       "      <th></th>\n",
       "      <th>Date/Time</th>\n",
       "      <th>Year</th>\n",
       "      <th>Month</th>\n",
       "      <th>Day</th>\n",
       "      <th>Data Quality</th>\n",
       "      <th>Max Temp (°C)</th>\n",
       "      <th>Max Temp Flag</th>\n",
       "      <th>Min Temp (°C)</th>\n",
       "      <th>Min Temp Flag</th>\n",
       "      <th>Mean Temp (°C)</th>\n",
       "      <th>...</th>\n",
       "      <th>Total Snow (cm)</th>\n",
       "      <th>Total Snow Flag</th>\n",
       "      <th>Total Precip (mm)</th>\n",
       "      <th>Total Precip Flag</th>\n",
       "      <th>Snow on Grnd (cm)</th>\n",
       "      <th>Snow on Grnd Flag</th>\n",
       "      <th>Dir of Max Gust (10s deg)</th>\n",
       "      <th>Dir of Max Gust Flag</th>\n",
       "      <th>Spd of Max Gust (km/h)</th>\n",
       "      <th>Spd of Max Gust Flag</th>\n",
       "    </tr>\n",
       "  </thead>\n",
       "  <tbody>\n",
       "    <tr>\n",
       "      <th>0</th>\n",
       "      <td>1939-01-01</td>\n",
       "      <td>1939</td>\n",
       "      <td>1</td>\n",
       "      <td>1</td>\n",
       "      <td>NaN</td>\n",
       "      <td>10.0</td>\n",
       "      <td>NaN</td>\n",
       "      <td>6.1</td>\n",
       "      <td>NaN</td>\n",
       "      <td>8.1</td>\n",
       "      <td>...</td>\n",
       "      <td>0.0</td>\n",
       "      <td>NaN</td>\n",
       "      <td>13.7</td>\n",
       "      <td>NaN</td>\n",
       "      <td>NaN</td>\n",
       "      <td>NaN</td>\n",
       "      <td>NaN</td>\n",
       "      <td>NaN</td>\n",
       "      <td>NaN</td>\n",
       "      <td>NaN</td>\n",
       "    </tr>\n",
       "    <tr>\n",
       "      <th>1</th>\n",
       "      <td>1939-01-02</td>\n",
       "      <td>1939</td>\n",
       "      <td>1</td>\n",
       "      <td>2</td>\n",
       "      <td>NaN</td>\n",
       "      <td>9.4</td>\n",
       "      <td>NaN</td>\n",
       "      <td>6.1</td>\n",
       "      <td>NaN</td>\n",
       "      <td>7.8</td>\n",
       "      <td>...</td>\n",
       "      <td>0.0</td>\n",
       "      <td>NaN</td>\n",
       "      <td>8.1</td>\n",
       "      <td>NaN</td>\n",
       "      <td>NaN</td>\n",
       "      <td>NaN</td>\n",
       "      <td>NaN</td>\n",
       "      <td>NaN</td>\n",
       "      <td>NaN</td>\n",
       "      <td>NaN</td>\n",
       "    </tr>\n",
       "  </tbody>\n",
       "</table>\n",
       "<p>2 rows × 27 columns</p>\n",
       "</div>"
      ],
      "text/plain": [
       "    Date/Time  Year  Month  Day  Data Quality  Max Temp (°C)  Max Temp Flag  \\\n",
       "0  1939-01-01  1939      1    1           NaN           10.0            NaN   \n",
       "1  1939-01-02  1939      1    2           NaN            9.4            NaN   \n",
       "\n",
       "   Min Temp (°C)  Min Temp Flag  Mean Temp (°C)          ...           \\\n",
       "0            6.1            NaN             8.1          ...            \n",
       "1            6.1            NaN             7.8          ...            \n",
       "\n",
       "   Total Snow (cm)  Total Snow Flag  Total Precip (mm)  Total Precip Flag  \\\n",
       "0              0.0              NaN               13.7                NaN   \n",
       "1              0.0              NaN                8.1                NaN   \n",
       "\n",
       "   Snow on Grnd (cm)  Snow on Grnd Flag Dir of Max Gust (10s deg)  \\\n",
       "0                NaN                NaN                       NaN   \n",
       "1                NaN                NaN                       NaN   \n",
       "\n",
       "   Dir of Max Gust Flag Spd of Max Gust (km/h)  Spd of Max Gust Flag  \n",
       "0                   NaN                    NaN                   NaN  \n",
       "1                   NaN                    NaN                   NaN  \n",
       "\n",
       "[2 rows x 27 columns]"
      ]
     },
     "execution_count": 19,
     "metadata": {},
     "output_type": "execute_result"
    }
   ],
   "source": [
    "df_1939.head(2)"
   ]
  },
  {
   "cell_type": "code",
   "execution_count": 20,
   "metadata": {},
   "outputs": [
    {
     "data": {
      "text/html": [
       "<div>\n",
       "<style scoped>\n",
       "    .dataframe tbody tr th:only-of-type {\n",
       "        vertical-align: middle;\n",
       "    }\n",
       "\n",
       "    .dataframe tbody tr th {\n",
       "        vertical-align: top;\n",
       "    }\n",
       "\n",
       "    .dataframe thead th {\n",
       "        text-align: right;\n",
       "    }\n",
       "</style>\n",
       "<table border=\"1\" class=\"dataframe\">\n",
       "  <thead>\n",
       "    <tr style=\"text-align: right;\">\n",
       "      <th></th>\n",
       "      <th>Date/Time</th>\n",
       "      <th>Year</th>\n",
       "      <th>Month</th>\n",
       "      <th>Day</th>\n",
       "      <th>Data Quality</th>\n",
       "      <th>Max Temp (°C)</th>\n",
       "      <th>Max Temp Flag</th>\n",
       "      <th>Min Temp (°C)</th>\n",
       "      <th>Min Temp Flag</th>\n",
       "      <th>Mean Temp (°C)</th>\n",
       "      <th>...</th>\n",
       "      <th>Total Snow (cm)</th>\n",
       "      <th>Total Snow Flag</th>\n",
       "      <th>Total Precip (mm)</th>\n",
       "      <th>Total Precip Flag</th>\n",
       "      <th>Snow on Grnd (cm)</th>\n",
       "      <th>Snow on Grnd Flag</th>\n",
       "      <th>Dir of Max Gust (10s deg)</th>\n",
       "      <th>Dir of Max Gust Flag</th>\n",
       "      <th>Spd of Max Gust (km/h)</th>\n",
       "      <th>Spd of Max Gust Flag</th>\n",
       "    </tr>\n",
       "  </thead>\n",
       "  <tbody>\n",
       "    <tr>\n",
       "      <th>363</th>\n",
       "      <td>1939-12-30</td>\n",
       "      <td>1939</td>\n",
       "      <td>12</td>\n",
       "      <td>30</td>\n",
       "      <td>NaN</td>\n",
       "      <td>8.9</td>\n",
       "      <td>NaN</td>\n",
       "      <td>-0.6</td>\n",
       "      <td>NaN</td>\n",
       "      <td>4.2</td>\n",
       "      <td>...</td>\n",
       "      <td>0.0</td>\n",
       "      <td>NaN</td>\n",
       "      <td>1.3</td>\n",
       "      <td>NaN</td>\n",
       "      <td>NaN</td>\n",
       "      <td>NaN</td>\n",
       "      <td>NaN</td>\n",
       "      <td>NaN</td>\n",
       "      <td>NaN</td>\n",
       "      <td>NaN</td>\n",
       "    </tr>\n",
       "    <tr>\n",
       "      <th>364</th>\n",
       "      <td>1939-12-31</td>\n",
       "      <td>1939</td>\n",
       "      <td>12</td>\n",
       "      <td>31</td>\n",
       "      <td>NaN</td>\n",
       "      <td>10.0</td>\n",
       "      <td>NaN</td>\n",
       "      <td>1.1</td>\n",
       "      <td>NaN</td>\n",
       "      <td>5.6</td>\n",
       "      <td>...</td>\n",
       "      <td>0.0</td>\n",
       "      <td>NaN</td>\n",
       "      <td>10.9</td>\n",
       "      <td>NaN</td>\n",
       "      <td>NaN</td>\n",
       "      <td>NaN</td>\n",
       "      <td>NaN</td>\n",
       "      <td>NaN</td>\n",
       "      <td>NaN</td>\n",
       "      <td>NaN</td>\n",
       "    </tr>\n",
       "  </tbody>\n",
       "</table>\n",
       "<p>2 rows × 27 columns</p>\n",
       "</div>"
      ],
      "text/plain": [
       "      Date/Time  Year  Month  Day  Data Quality  Max Temp (°C)  Max Temp Flag  \\\n",
       "363  1939-12-30  1939     12   30           NaN            8.9            NaN   \n",
       "364  1939-12-31  1939     12   31           NaN           10.0            NaN   \n",
       "\n",
       "     Min Temp (°C)  Min Temp Flag  Mean Temp (°C)          ...           \\\n",
       "363           -0.6            NaN             4.2          ...            \n",
       "364            1.1            NaN             5.6          ...            \n",
       "\n",
       "     Total Snow (cm)  Total Snow Flag  Total Precip (mm)  Total Precip Flag  \\\n",
       "363              0.0              NaN                1.3                NaN   \n",
       "364              0.0              NaN               10.9                NaN   \n",
       "\n",
       "     Snow on Grnd (cm)  Snow on Grnd Flag Dir of Max Gust (10s deg)  \\\n",
       "363                NaN                NaN                       NaN   \n",
       "364                NaN                NaN                       NaN   \n",
       "\n",
       "     Dir of Max Gust Flag Spd of Max Gust (km/h)  Spd of Max Gust Flag  \n",
       "363                   NaN                    NaN                   NaN  \n",
       "364                   NaN                    NaN                   NaN  \n",
       "\n",
       "[2 rows x 27 columns]"
      ]
     },
     "execution_count": 20,
     "metadata": {},
     "output_type": "execute_result"
    }
   ],
   "source": [
    "df_1939.tail(2)"
   ]
  },
  {
   "cell_type": "markdown",
   "metadata": {},
   "source": [
    "Now we will concatenate the two DataFrames using the `append` method, similar to the `append` method for lists that we saw in Lesson 1.\n",
    "- Copy the code below into *a single cell* in your notebook and run it, then use `shape`, `head`, and `tail` to confirm that `df_merged` is the expected size and contains the expected dates.\n",
    "\n",
    "```python\n",
    "# Create an empty DataFrame\n",
    "df_merged = pd.DataFrame()\n",
    "\n",
    "# Append each year of data\n",
    "df_merged = df_merged.append(df_1938, ignore_index=True)\n",
    "df_merged = df_merged.append(df_1939, ignore_index=True)\n",
    "```\n",
    "\n",
    "> - For the simple example above, we don't actually need to start with an empty DataFrame, but will need it in the next steps.\n",
    "> - The ignore_index keyword argument tells `pandas` to create a new index of row numbers for the new DataFrame, rather than preserving the row numbers from each individual DataFrame (which would get confusing)."
   ]
  },
  {
   "cell_type": "code",
   "execution_count": 21,
   "metadata": {},
   "outputs": [],
   "source": [
    "# Create an empty DataFrame\n",
    "df_merged = pandas.DataFrame()\n",
    "\n",
    "# Append each year of data\n",
    "df_merged = df_merged.append(df_1938, ignore_index=True)\n",
    "df_merged = df_merged.append(df_1939, ignore_index=True)"
   ]
  },
  {
   "cell_type": "code",
   "execution_count": 22,
   "metadata": {},
   "outputs": [
    {
     "data": {
      "text/plain": [
       "(730, 27)"
      ]
     },
     "execution_count": 22,
     "metadata": {},
     "output_type": "execute_result"
    }
   ],
   "source": [
    "df_merged.shape"
   ]
  },
  {
   "cell_type": "code",
   "execution_count": 23,
   "metadata": {},
   "outputs": [
    {
     "data": {
      "text/html": [
       "<div>\n",
       "<style scoped>\n",
       "    .dataframe tbody tr th:only-of-type {\n",
       "        vertical-align: middle;\n",
       "    }\n",
       "\n",
       "    .dataframe tbody tr th {\n",
       "        vertical-align: top;\n",
       "    }\n",
       "\n",
       "    .dataframe thead th {\n",
       "        text-align: right;\n",
       "    }\n",
       "</style>\n",
       "<table border=\"1\" class=\"dataframe\">\n",
       "  <thead>\n",
       "    <tr style=\"text-align: right;\">\n",
       "      <th></th>\n",
       "      <th>Date/Time</th>\n",
       "      <th>Year</th>\n",
       "      <th>Month</th>\n",
       "      <th>Day</th>\n",
       "      <th>Data Quality</th>\n",
       "      <th>Max Temp (°C)</th>\n",
       "      <th>Max Temp Flag</th>\n",
       "      <th>Min Temp (°C)</th>\n",
       "      <th>Min Temp Flag</th>\n",
       "      <th>Mean Temp (°C)</th>\n",
       "      <th>...</th>\n",
       "      <th>Total Snow (cm)</th>\n",
       "      <th>Total Snow Flag</th>\n",
       "      <th>Total Precip (mm)</th>\n",
       "      <th>Total Precip Flag</th>\n",
       "      <th>Snow on Grnd (cm)</th>\n",
       "      <th>Snow on Grnd Flag</th>\n",
       "      <th>Dir of Max Gust (10s deg)</th>\n",
       "      <th>Dir of Max Gust Flag</th>\n",
       "      <th>Spd of Max Gust (km/h)</th>\n",
       "      <th>Spd of Max Gust Flag</th>\n",
       "    </tr>\n",
       "  </thead>\n",
       "  <tbody>\n",
       "    <tr>\n",
       "      <th>0</th>\n",
       "      <td>1938-01-01</td>\n",
       "      <td>1938</td>\n",
       "      <td>1</td>\n",
       "      <td>1</td>\n",
       "      <td>NaN</td>\n",
       "      <td>9.4</td>\n",
       "      <td>NaN</td>\n",
       "      <td>-0.6</td>\n",
       "      <td>NaN</td>\n",
       "      <td>4.4</td>\n",
       "      <td>...</td>\n",
       "      <td>NaN</td>\n",
       "      <td>M</td>\n",
       "      <td>0.3</td>\n",
       "      <td>NaN</td>\n",
       "      <td>NaN</td>\n",
       "      <td>NaN</td>\n",
       "      <td>NaN</td>\n",
       "      <td>NaN</td>\n",
       "      <td>NaN</td>\n",
       "      <td>NaN</td>\n",
       "    </tr>\n",
       "    <tr>\n",
       "      <th>1</th>\n",
       "      <td>1938-01-02</td>\n",
       "      <td>1938</td>\n",
       "      <td>1</td>\n",
       "      <td>2</td>\n",
       "      <td>NaN</td>\n",
       "      <td>7.2</td>\n",
       "      <td>NaN</td>\n",
       "      <td>1.7</td>\n",
       "      <td>NaN</td>\n",
       "      <td>4.5</td>\n",
       "      <td>...</td>\n",
       "      <td>NaN</td>\n",
       "      <td>M</td>\n",
       "      <td>0.5</td>\n",
       "      <td>NaN</td>\n",
       "      <td>NaN</td>\n",
       "      <td>NaN</td>\n",
       "      <td>NaN</td>\n",
       "      <td>NaN</td>\n",
       "      <td>NaN</td>\n",
       "      <td>NaN</td>\n",
       "    </tr>\n",
       "  </tbody>\n",
       "</table>\n",
       "<p>2 rows × 27 columns</p>\n",
       "</div>"
      ],
      "text/plain": [
       "    Date/Time  Year  Month  Day  Data Quality  Max Temp (°C) Max Temp Flag  \\\n",
       "0  1938-01-01  1938      1    1           NaN            9.4           NaN   \n",
       "1  1938-01-02  1938      1    2           NaN            7.2           NaN   \n",
       "\n",
       "   Min Temp (°C)  Min Temp Flag  Mean Temp (°C)          ...           \\\n",
       "0           -0.6            NaN             4.4          ...            \n",
       "1            1.7            NaN             4.5          ...            \n",
       "\n",
       "  Total Snow (cm)  Total Snow Flag Total Precip (mm)  Total Precip Flag  \\\n",
       "0             NaN                M               0.3                NaN   \n",
       "1             NaN                M               0.5                NaN   \n",
       "\n",
       "  Snow on Grnd (cm)  Snow on Grnd Flag Dir of Max Gust (10s deg)  \\\n",
       "0               NaN                NaN                       NaN   \n",
       "1               NaN                NaN                       NaN   \n",
       "\n",
       "   Dir of Max Gust Flag Spd of Max Gust (km/h)  Spd of Max Gust Flag  \n",
       "0                   NaN                    NaN                   NaN  \n",
       "1                   NaN                    NaN                   NaN  \n",
       "\n",
       "[2 rows x 27 columns]"
      ]
     },
     "execution_count": 23,
     "metadata": {},
     "output_type": "execute_result"
    }
   ],
   "source": [
    "df_merged.head(2)"
   ]
  },
  {
   "cell_type": "code",
   "execution_count": 24,
   "metadata": {},
   "outputs": [
    {
     "data": {
      "text/html": [
       "<div>\n",
       "<style scoped>\n",
       "    .dataframe tbody tr th:only-of-type {\n",
       "        vertical-align: middle;\n",
       "    }\n",
       "\n",
       "    .dataframe tbody tr th {\n",
       "        vertical-align: top;\n",
       "    }\n",
       "\n",
       "    .dataframe thead th {\n",
       "        text-align: right;\n",
       "    }\n",
       "</style>\n",
       "<table border=\"1\" class=\"dataframe\">\n",
       "  <thead>\n",
       "    <tr style=\"text-align: right;\">\n",
       "      <th></th>\n",
       "      <th>Date/Time</th>\n",
       "      <th>Year</th>\n",
       "      <th>Month</th>\n",
       "      <th>Day</th>\n",
       "      <th>Data Quality</th>\n",
       "      <th>Max Temp (°C)</th>\n",
       "      <th>Max Temp Flag</th>\n",
       "      <th>Min Temp (°C)</th>\n",
       "      <th>Min Temp Flag</th>\n",
       "      <th>Mean Temp (°C)</th>\n",
       "      <th>...</th>\n",
       "      <th>Total Snow (cm)</th>\n",
       "      <th>Total Snow Flag</th>\n",
       "      <th>Total Precip (mm)</th>\n",
       "      <th>Total Precip Flag</th>\n",
       "      <th>Snow on Grnd (cm)</th>\n",
       "      <th>Snow on Grnd Flag</th>\n",
       "      <th>Dir of Max Gust (10s deg)</th>\n",
       "      <th>Dir of Max Gust Flag</th>\n",
       "      <th>Spd of Max Gust (km/h)</th>\n",
       "      <th>Spd of Max Gust Flag</th>\n",
       "    </tr>\n",
       "  </thead>\n",
       "  <tbody>\n",
       "    <tr>\n",
       "      <th>728</th>\n",
       "      <td>1939-12-30</td>\n",
       "      <td>1939</td>\n",
       "      <td>12</td>\n",
       "      <td>30</td>\n",
       "      <td>NaN</td>\n",
       "      <td>8.9</td>\n",
       "      <td>NaN</td>\n",
       "      <td>-0.6</td>\n",
       "      <td>NaN</td>\n",
       "      <td>4.2</td>\n",
       "      <td>...</td>\n",
       "      <td>0.0</td>\n",
       "      <td>NaN</td>\n",
       "      <td>1.3</td>\n",
       "      <td>NaN</td>\n",
       "      <td>NaN</td>\n",
       "      <td>NaN</td>\n",
       "      <td>NaN</td>\n",
       "      <td>NaN</td>\n",
       "      <td>NaN</td>\n",
       "      <td>NaN</td>\n",
       "    </tr>\n",
       "    <tr>\n",
       "      <th>729</th>\n",
       "      <td>1939-12-31</td>\n",
       "      <td>1939</td>\n",
       "      <td>12</td>\n",
       "      <td>31</td>\n",
       "      <td>NaN</td>\n",
       "      <td>10.0</td>\n",
       "      <td>NaN</td>\n",
       "      <td>1.1</td>\n",
       "      <td>NaN</td>\n",
       "      <td>5.6</td>\n",
       "      <td>...</td>\n",
       "      <td>0.0</td>\n",
       "      <td>NaN</td>\n",
       "      <td>10.9</td>\n",
       "      <td>NaN</td>\n",
       "      <td>NaN</td>\n",
       "      <td>NaN</td>\n",
       "      <td>NaN</td>\n",
       "      <td>NaN</td>\n",
       "      <td>NaN</td>\n",
       "      <td>NaN</td>\n",
       "    </tr>\n",
       "  </tbody>\n",
       "</table>\n",
       "<p>2 rows × 27 columns</p>\n",
       "</div>"
      ],
      "text/plain": [
       "      Date/Time  Year  Month  Day  Data Quality  Max Temp (°C) Max Temp Flag  \\\n",
       "728  1939-12-30  1939     12   30           NaN            8.9           NaN   \n",
       "729  1939-12-31  1939     12   31           NaN           10.0           NaN   \n",
       "\n",
       "     Min Temp (°C)  Min Temp Flag  Mean Temp (°C)          ...           \\\n",
       "728           -0.6            NaN             4.2          ...            \n",
       "729            1.1            NaN             5.6          ...            \n",
       "\n",
       "    Total Snow (cm)  Total Snow Flag Total Precip (mm)  Total Precip Flag  \\\n",
       "728             0.0              NaN               1.3                NaN   \n",
       "729             0.0              NaN              10.9                NaN   \n",
       "\n",
       "    Snow on Grnd (cm)  Snow on Grnd Flag Dir of Max Gust (10s deg)  \\\n",
       "728               NaN                NaN                       NaN   \n",
       "729               NaN                NaN                       NaN   \n",
       "\n",
       "     Dir of Max Gust Flag Spd of Max Gust (km/h)  Spd of Max Gust Flag  \n",
       "728                   NaN                    NaN                   NaN  \n",
       "729                   NaN                    NaN                   NaN  \n",
       "\n",
       "[2 rows x 27 columns]"
      ]
     },
     "execution_count": 24,
     "metadata": {},
     "output_type": "execute_result"
    }
   ],
   "source": [
    "df_merged.tail(2)"
   ]
  },
  {
   "cell_type": "markdown",
   "metadata": {},
   "source": [
    "To concatenate a larger number of DataFrames, we'll want to use a loop. Using your code from previous bonus exercise 1.3(d) as a starting point:\n",
    "- Create an empty DataFrame `data_merged`.\n",
    "- Create a `for` loop which loops over the sequence of years from 1938 to 1942.\n",
    "- Inside the loop, read the CSV file for that year into a DataFrame `data_in`. (You may want to break this down into two steps, where you first define the appropriate file name for that year, and then read the data from that file.)\n",
    "- Append `data_in` to `data_merged`.\n",
    "\n",
    "Once you've run the `for` loop, use `shape`, `head`, and `tail` to check that the data in `data_merged` makes sense. You might also want to use the `unique` and `value_counts` methods on the `'Year'` column to verify that the DataFrame contains all the expected years."
   ]
  },
  {
   "cell_type": "code",
   "execution_count": 25,
   "metadata": {},
   "outputs": [],
   "source": [
    "data_merged = pandas.DataFrame()\n",
    "\n",
    "for year in range(1938, 1943):\n",
    "    data_file = 'data/raw/weather_YVR_' + str(year) + '.csv'\n",
    "    data_in = pandas.read_csv(data_file, skiprows=24)\n",
    "    data_merged = data_merged.append(data_in, ignore_index=True)"
   ]
  },
  {
   "cell_type": "code",
   "execution_count": 26,
   "metadata": {},
   "outputs": [
    {
     "data": {
      "text/plain": [
       "(1826, 27)"
      ]
     },
     "execution_count": 26,
     "metadata": {},
     "output_type": "execute_result"
    }
   ],
   "source": [
    "data_merged.shape"
   ]
  },
  {
   "cell_type": "code",
   "execution_count": 27,
   "metadata": {},
   "outputs": [
    {
     "data": {
      "text/html": [
       "<div>\n",
       "<style scoped>\n",
       "    .dataframe tbody tr th:only-of-type {\n",
       "        vertical-align: middle;\n",
       "    }\n",
       "\n",
       "    .dataframe tbody tr th {\n",
       "        vertical-align: top;\n",
       "    }\n",
       "\n",
       "    .dataframe thead th {\n",
       "        text-align: right;\n",
       "    }\n",
       "</style>\n",
       "<table border=\"1\" class=\"dataframe\">\n",
       "  <thead>\n",
       "    <tr style=\"text-align: right;\">\n",
       "      <th></th>\n",
       "      <th>Date/Time</th>\n",
       "      <th>Year</th>\n",
       "      <th>Month</th>\n",
       "      <th>Day</th>\n",
       "      <th>Data Quality</th>\n",
       "      <th>Max Temp (°C)</th>\n",
       "      <th>Max Temp Flag</th>\n",
       "      <th>Min Temp (°C)</th>\n",
       "      <th>Min Temp Flag</th>\n",
       "      <th>Mean Temp (°C)</th>\n",
       "      <th>...</th>\n",
       "      <th>Total Snow (cm)</th>\n",
       "      <th>Total Snow Flag</th>\n",
       "      <th>Total Precip (mm)</th>\n",
       "      <th>Total Precip Flag</th>\n",
       "      <th>Snow on Grnd (cm)</th>\n",
       "      <th>Snow on Grnd Flag</th>\n",
       "      <th>Dir of Max Gust (10s deg)</th>\n",
       "      <th>Dir of Max Gust Flag</th>\n",
       "      <th>Spd of Max Gust (km/h)</th>\n",
       "      <th>Spd of Max Gust Flag</th>\n",
       "    </tr>\n",
       "  </thead>\n",
       "  <tbody>\n",
       "    <tr>\n",
       "      <th>0</th>\n",
       "      <td>1938-01-01</td>\n",
       "      <td>1938</td>\n",
       "      <td>1</td>\n",
       "      <td>1</td>\n",
       "      <td>NaN</td>\n",
       "      <td>9.4</td>\n",
       "      <td>NaN</td>\n",
       "      <td>-0.6</td>\n",
       "      <td>NaN</td>\n",
       "      <td>4.4</td>\n",
       "      <td>...</td>\n",
       "      <td>NaN</td>\n",
       "      <td>M</td>\n",
       "      <td>0.3</td>\n",
       "      <td>NaN</td>\n",
       "      <td>NaN</td>\n",
       "      <td>NaN</td>\n",
       "      <td>NaN</td>\n",
       "      <td>NaN</td>\n",
       "      <td>NaN</td>\n",
       "      <td>NaN</td>\n",
       "    </tr>\n",
       "    <tr>\n",
       "      <th>1</th>\n",
       "      <td>1938-01-02</td>\n",
       "      <td>1938</td>\n",
       "      <td>1</td>\n",
       "      <td>2</td>\n",
       "      <td>NaN</td>\n",
       "      <td>7.2</td>\n",
       "      <td>NaN</td>\n",
       "      <td>1.7</td>\n",
       "      <td>NaN</td>\n",
       "      <td>4.5</td>\n",
       "      <td>...</td>\n",
       "      <td>NaN</td>\n",
       "      <td>M</td>\n",
       "      <td>0.5</td>\n",
       "      <td>NaN</td>\n",
       "      <td>NaN</td>\n",
       "      <td>NaN</td>\n",
       "      <td>NaN</td>\n",
       "      <td>NaN</td>\n",
       "      <td>NaN</td>\n",
       "      <td>NaN</td>\n",
       "    </tr>\n",
       "  </tbody>\n",
       "</table>\n",
       "<p>2 rows × 27 columns</p>\n",
       "</div>"
      ],
      "text/plain": [
       "    Date/Time  Year  Month  Day  Data Quality  Max Temp (°C) Max Temp Flag  \\\n",
       "0  1938-01-01  1938      1    1           NaN            9.4           NaN   \n",
       "1  1938-01-02  1938      1    2           NaN            7.2           NaN   \n",
       "\n",
       "   Min Temp (°C) Min Temp Flag  Mean Temp (°C)          ...           \\\n",
       "0           -0.6           NaN             4.4          ...            \n",
       "1            1.7           NaN             4.5          ...            \n",
       "\n",
       "  Total Snow (cm)  Total Snow Flag Total Precip (mm)  Total Precip Flag  \\\n",
       "0             NaN                M               0.3                NaN   \n",
       "1             NaN                M               0.5                NaN   \n",
       "\n",
       "  Snow on Grnd (cm)  Snow on Grnd Flag Dir of Max Gust (10s deg)  \\\n",
       "0               NaN                NaN                       NaN   \n",
       "1               NaN                NaN                       NaN   \n",
       "\n",
       "   Dir of Max Gust Flag Spd of Max Gust (km/h)  Spd of Max Gust Flag  \n",
       "0                   NaN                    NaN                   NaN  \n",
       "1                   NaN                    NaN                   NaN  \n",
       "\n",
       "[2 rows x 27 columns]"
      ]
     },
     "execution_count": 27,
     "metadata": {},
     "output_type": "execute_result"
    }
   ],
   "source": [
    "data_merged.head(2)"
   ]
  },
  {
   "cell_type": "code",
   "execution_count": 28,
   "metadata": {},
   "outputs": [
    {
     "data": {
      "text/html": [
       "<div>\n",
       "<style scoped>\n",
       "    .dataframe tbody tr th:only-of-type {\n",
       "        vertical-align: middle;\n",
       "    }\n",
       "\n",
       "    .dataframe tbody tr th {\n",
       "        vertical-align: top;\n",
       "    }\n",
       "\n",
       "    .dataframe thead th {\n",
       "        text-align: right;\n",
       "    }\n",
       "</style>\n",
       "<table border=\"1\" class=\"dataframe\">\n",
       "  <thead>\n",
       "    <tr style=\"text-align: right;\">\n",
       "      <th></th>\n",
       "      <th>Date/Time</th>\n",
       "      <th>Year</th>\n",
       "      <th>Month</th>\n",
       "      <th>Day</th>\n",
       "      <th>Data Quality</th>\n",
       "      <th>Max Temp (°C)</th>\n",
       "      <th>Max Temp Flag</th>\n",
       "      <th>Min Temp (°C)</th>\n",
       "      <th>Min Temp Flag</th>\n",
       "      <th>Mean Temp (°C)</th>\n",
       "      <th>...</th>\n",
       "      <th>Total Snow (cm)</th>\n",
       "      <th>Total Snow Flag</th>\n",
       "      <th>Total Precip (mm)</th>\n",
       "      <th>Total Precip Flag</th>\n",
       "      <th>Snow on Grnd (cm)</th>\n",
       "      <th>Snow on Grnd Flag</th>\n",
       "      <th>Dir of Max Gust (10s deg)</th>\n",
       "      <th>Dir of Max Gust Flag</th>\n",
       "      <th>Spd of Max Gust (km/h)</th>\n",
       "      <th>Spd of Max Gust Flag</th>\n",
       "    </tr>\n",
       "  </thead>\n",
       "  <tbody>\n",
       "    <tr>\n",
       "      <th>1824</th>\n",
       "      <td>1942-12-30</td>\n",
       "      <td>1942</td>\n",
       "      <td>12</td>\n",
       "      <td>30</td>\n",
       "      <td>NaN</td>\n",
       "      <td>7.2</td>\n",
       "      <td>NaN</td>\n",
       "      <td>1.1</td>\n",
       "      <td>NaN</td>\n",
       "      <td>4.2</td>\n",
       "      <td>...</td>\n",
       "      <td>0.0</td>\n",
       "      <td>NaN</td>\n",
       "      <td>7.4</td>\n",
       "      <td>NaN</td>\n",
       "      <td>NaN</td>\n",
       "      <td>NaN</td>\n",
       "      <td>NaN</td>\n",
       "      <td>NaN</td>\n",
       "      <td>NaN</td>\n",
       "      <td>NaN</td>\n",
       "    </tr>\n",
       "    <tr>\n",
       "      <th>1825</th>\n",
       "      <td>1942-12-31</td>\n",
       "      <td>1942</td>\n",
       "      <td>12</td>\n",
       "      <td>31</td>\n",
       "      <td>NaN</td>\n",
       "      <td>7.8</td>\n",
       "      <td>NaN</td>\n",
       "      <td>1.1</td>\n",
       "      <td>NaN</td>\n",
       "      <td>4.5</td>\n",
       "      <td>...</td>\n",
       "      <td>0.0</td>\n",
       "      <td>NaN</td>\n",
       "      <td>0.0</td>\n",
       "      <td>NaN</td>\n",
       "      <td>NaN</td>\n",
       "      <td>NaN</td>\n",
       "      <td>NaN</td>\n",
       "      <td>NaN</td>\n",
       "      <td>NaN</td>\n",
       "      <td>NaN</td>\n",
       "    </tr>\n",
       "  </tbody>\n",
       "</table>\n",
       "<p>2 rows × 27 columns</p>\n",
       "</div>"
      ],
      "text/plain": [
       "       Date/Time  Year  Month  Day  Data Quality  Max Temp (°C) Max Temp Flag  \\\n",
       "1824  1942-12-30  1942     12   30           NaN            7.2           NaN   \n",
       "1825  1942-12-31  1942     12   31           NaN            7.8           NaN   \n",
       "\n",
       "      Min Temp (°C) Min Temp Flag  Mean Temp (°C)          ...           \\\n",
       "1824            1.1           NaN             4.2          ...            \n",
       "1825            1.1           NaN             4.5          ...            \n",
       "\n",
       "     Total Snow (cm)  Total Snow Flag Total Precip (mm)  Total Precip Flag  \\\n",
       "1824             0.0              NaN               7.4                NaN   \n",
       "1825             0.0              NaN               0.0                NaN   \n",
       "\n",
       "     Snow on Grnd (cm)  Snow on Grnd Flag Dir of Max Gust (10s deg)  \\\n",
       "1824               NaN                NaN                       NaN   \n",
       "1825               NaN                NaN                       NaN   \n",
       "\n",
       "      Dir of Max Gust Flag Spd of Max Gust (km/h)  Spd of Max Gust Flag  \n",
       "1824                   NaN                    NaN                   NaN  \n",
       "1825                   NaN                    NaN                   NaN  \n",
       "\n",
       "[2 rows x 27 columns]"
      ]
     },
     "execution_count": 28,
     "metadata": {},
     "output_type": "execute_result"
    }
   ],
   "source": [
    "data_merged.tail(2)"
   ]
  },
  {
   "cell_type": "code",
   "execution_count": 29,
   "metadata": {},
   "outputs": [
    {
     "data": {
      "text/plain": [
       "1940    366\n",
       "1942    365\n",
       "1941    365\n",
       "1939    365\n",
       "1938    365\n",
       "Name: Year, dtype: int64"
      ]
     },
     "execution_count": 29,
     "metadata": {},
     "output_type": "execute_result"
    }
   ],
   "source": [
    "data_merged['Year'].value_counts()"
   ]
  },
  {
   "cell_type": "markdown",
   "metadata": {},
   "source": [
    "---\n",
    "\n",
    "Go to: [solutions-1](solutions-1.ipynb) | [solutions-2](solutions-2.ipynb) | solutions-3 | [solutions-4](solutions-4.ipynb) | [solutions-5](solutions-5.ipynb) | [solutions-6](solutions-6.ipynb)\n",
    "\n",
    "[home](../0-introduction.ipynb)"
   ]
  }
 ],
 "metadata": {
  "kernelspec": {
   "display_name": "Python [default]",
   "language": "python",
   "name": "python3"
  },
  "language_info": {
   "codemirror_mode": {
    "name": "ipython",
    "version": 3
   },
   "file_extension": ".py",
   "mimetype": "text/x-python",
   "name": "python",
   "nbconvert_exporter": "python",
   "pygments_lexer": "ipython3",
   "version": "3.6.4"
  }
 },
 "nbformat": 4,
 "nbformat_minor": 2
}
