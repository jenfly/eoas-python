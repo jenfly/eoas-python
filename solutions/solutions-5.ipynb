{
 "cells": [
  {
   "cell_type": "markdown",
   "metadata": {},
   "source": [
    "# Solutions to Lesson 5 Exercises\n",
    "\n",
    "For each exercise, the solutions below show one possible way of solving it, but you might have used a different approach, and that's great! There is almost always more than one way to solve any particular problem in Python.\n",
    "\n",
    "## Initial Setup"
   ]
  },
  {
   "cell_type": "markdown",
   "metadata": {},
   "source": [
    "Since this notebook is in the `solutions` sub-folder, use the  magic command `%cd` to go up one folder to the main project folder to keep the file paths the same as in the lessons:"
   ]
  },
  {
   "cell_type": "code",
   "execution_count": 1,
   "metadata": {},
   "outputs": [
    {
     "name": "stdout",
     "output_type": "stream",
     "text": [
      "C:\\Users\\jenfl\\Projects\\eoas-python\n"
     ]
    }
   ],
   "source": [
    "%cd .."
   ]
  },
  {
   "cell_type": "markdown",
   "metadata": {},
   "source": [
    "Import libraries, display plots inline, initialize variables from lesson:"
   ]
  },
  {
   "cell_type": "code",
   "execution_count": 2,
   "metadata": {
    "slideshow": {
     "slide_type": "skip"
    }
   },
   "outputs": [],
   "source": [
    "import pandas\n",
    "%matplotlib inline"
   ]
  },
  {
   "cell_type": "code",
   "execution_count": 3,
   "metadata": {
    "slideshow": {
     "slide_type": "skip"
    }
   },
   "outputs": [],
   "source": [
    "world = pandas.read_csv('data/gapminder_world_data_2018.csv')\n",
    "world['area'] = world['population'] / world['pop_density']\n",
    "world_new = world.set_index('country')"
   ]
  },
  {
   "cell_type": "code",
   "execution_count": 4,
   "metadata": {},
   "outputs": [
    {
     "data": {
      "text/html": [
       "<div>\n",
       "<style scoped>\n",
       "    .dataframe tbody tr th:only-of-type {\n",
       "        vertical-align: middle;\n",
       "    }\n",
       "\n",
       "    .dataframe tbody tr th {\n",
       "        vertical-align: top;\n",
       "    }\n",
       "\n",
       "    .dataframe thead th {\n",
       "        text-align: right;\n",
       "    }\n",
       "</style>\n",
       "<table border=\"1\" class=\"dataframe\">\n",
       "  <thead>\n",
       "    <tr style=\"text-align: right;\">\n",
       "      <th></th>\n",
       "      <th>population</th>\n",
       "      <th>region</th>\n",
       "      <th>sub_region</th>\n",
       "      <th>income_group</th>\n",
       "      <th>life_expectancy</th>\n",
       "      <th>gdp_per_capita</th>\n",
       "      <th>children_per_woman</th>\n",
       "      <th>child_mortality</th>\n",
       "      <th>pop_density</th>\n",
       "      <th>area</th>\n",
       "    </tr>\n",
       "    <tr>\n",
       "      <th>country</th>\n",
       "      <th></th>\n",
       "      <th></th>\n",
       "      <th></th>\n",
       "      <th></th>\n",
       "      <th></th>\n",
       "      <th></th>\n",
       "      <th></th>\n",
       "      <th></th>\n",
       "      <th></th>\n",
       "      <th></th>\n",
       "    </tr>\n",
       "  </thead>\n",
       "  <tbody>\n",
       "    <tr>\n",
       "      <th>Afghanistan</th>\n",
       "      <td>36400000</td>\n",
       "      <td>Asia</td>\n",
       "      <td>Southern Asia</td>\n",
       "      <td>Low</td>\n",
       "      <td>58.7</td>\n",
       "      <td>1870</td>\n",
       "      <td>4.33</td>\n",
       "      <td>65.90</td>\n",
       "      <td>55.70</td>\n",
       "      <td>6.535009e+05</td>\n",
       "    </tr>\n",
       "    <tr>\n",
       "      <th>Albania</th>\n",
       "      <td>2930000</td>\n",
       "      <td>Europe</td>\n",
       "      <td>Southern Europe</td>\n",
       "      <td>Upper middle</td>\n",
       "      <td>78.0</td>\n",
       "      <td>12400</td>\n",
       "      <td>1.71</td>\n",
       "      <td>12.90</td>\n",
       "      <td>107.00</td>\n",
       "      <td>2.738318e+04</td>\n",
       "    </tr>\n",
       "    <tr>\n",
       "      <th>Algeria</th>\n",
       "      <td>42000000</td>\n",
       "      <td>Africa</td>\n",
       "      <td>Northern Africa</td>\n",
       "      <td>Upper middle</td>\n",
       "      <td>77.9</td>\n",
       "      <td>13700</td>\n",
       "      <td>2.64</td>\n",
       "      <td>23.10</td>\n",
       "      <td>17.60</td>\n",
       "      <td>2.386364e+06</td>\n",
       "    </tr>\n",
       "    <tr>\n",
       "      <th>Angola</th>\n",
       "      <td>30800000</td>\n",
       "      <td>Africa</td>\n",
       "      <td>Sub-Saharan Africa</td>\n",
       "      <td>Lower middle</td>\n",
       "      <td>65.2</td>\n",
       "      <td>5850</td>\n",
       "      <td>5.55</td>\n",
       "      <td>81.60</td>\n",
       "      <td>24.70</td>\n",
       "      <td>1.246964e+06</td>\n",
       "    </tr>\n",
       "    <tr>\n",
       "      <th>Antigua and Barbuda</th>\n",
       "      <td>103000</td>\n",
       "      <td>Americas</td>\n",
       "      <td>Latin America and the Caribbean</td>\n",
       "      <td>High</td>\n",
       "      <td>77.6</td>\n",
       "      <td>21000</td>\n",
       "      <td>2.03</td>\n",
       "      <td>7.89</td>\n",
       "      <td>234.00</td>\n",
       "      <td>4.401709e+02</td>\n",
       "    </tr>\n",
       "    <tr>\n",
       "      <th>Argentina</th>\n",
       "      <td>44700000</td>\n",
       "      <td>Americas</td>\n",
       "      <td>Latin America and the Caribbean</td>\n",
       "      <td>High</td>\n",
       "      <td>77.0</td>\n",
       "      <td>18900</td>\n",
       "      <td>2.26</td>\n",
       "      <td>10.60</td>\n",
       "      <td>16.30</td>\n",
       "      <td>2.742331e+06</td>\n",
       "    </tr>\n",
       "    <tr>\n",
       "      <th>Armenia</th>\n",
       "      <td>2930000</td>\n",
       "      <td>Asia</td>\n",
       "      <td>Western Asia</td>\n",
       "      <td>Upper middle</td>\n",
       "      <td>76.0</td>\n",
       "      <td>8660</td>\n",
       "      <td>1.60</td>\n",
       "      <td>12.90</td>\n",
       "      <td>103.00</td>\n",
       "      <td>2.844660e+04</td>\n",
       "    </tr>\n",
       "    <tr>\n",
       "      <th>Australia</th>\n",
       "      <td>24800000</td>\n",
       "      <td>Oceania</td>\n",
       "      <td>Australia and New Zealand</td>\n",
       "      <td>High</td>\n",
       "      <td>82.9</td>\n",
       "      <td>45800</td>\n",
       "      <td>1.83</td>\n",
       "      <td>3.40</td>\n",
       "      <td>3.22</td>\n",
       "      <td>7.701863e+06</td>\n",
       "    </tr>\n",
       "    <tr>\n",
       "      <th>Austria</th>\n",
       "      <td>8750000</td>\n",
       "      <td>Europe</td>\n",
       "      <td>Western Europe</td>\n",
       "      <td>High</td>\n",
       "      <td>81.8</td>\n",
       "      <td>44600</td>\n",
       "      <td>1.52</td>\n",
       "      <td>2.89</td>\n",
       "      <td>106.00</td>\n",
       "      <td>8.254717e+04</td>\n",
       "    </tr>\n",
       "    <tr>\n",
       "      <th>Azerbaijan</th>\n",
       "      <td>9920000</td>\n",
       "      <td>Asia</td>\n",
       "      <td>Western Asia</td>\n",
       "      <td>Upper middle</td>\n",
       "      <td>72.3</td>\n",
       "      <td>16600</td>\n",
       "      <td>2.04</td>\n",
       "      <td>30.30</td>\n",
       "      <td>120.00</td>\n",
       "      <td>8.266667e+04</td>\n",
       "    </tr>\n",
       "  </tbody>\n",
       "</table>\n",
       "</div>"
      ],
      "text/plain": [
       "                     population    region                       sub_region  \\\n",
       "country                                                                      \n",
       "Afghanistan            36400000      Asia                    Southern Asia   \n",
       "Albania                 2930000    Europe                  Southern Europe   \n",
       "Algeria                42000000    Africa                  Northern Africa   \n",
       "Angola                 30800000    Africa               Sub-Saharan Africa   \n",
       "Antigua and Barbuda      103000  Americas  Latin America and the Caribbean   \n",
       "Argentina              44700000  Americas  Latin America and the Caribbean   \n",
       "Armenia                 2930000      Asia                     Western Asia   \n",
       "Australia              24800000   Oceania        Australia and New Zealand   \n",
       "Austria                 8750000    Europe                   Western Europe   \n",
       "Azerbaijan              9920000      Asia                     Western Asia   \n",
       "\n",
       "                     income_group  life_expectancy  gdp_per_capita  \\\n",
       "country                                                              \n",
       "Afghanistan                   Low             58.7            1870   \n",
       "Albania              Upper middle             78.0           12400   \n",
       "Algeria              Upper middle             77.9           13700   \n",
       "Angola               Lower middle             65.2            5850   \n",
       "Antigua and Barbuda          High             77.6           21000   \n",
       "Argentina                    High             77.0           18900   \n",
       "Armenia              Upper middle             76.0            8660   \n",
       "Australia                    High             82.9           45800   \n",
       "Austria                      High             81.8           44600   \n",
       "Azerbaijan           Upper middle             72.3           16600   \n",
       "\n",
       "                     children_per_woman  child_mortality  pop_density  \\\n",
       "country                                                                 \n",
       "Afghanistan                        4.33            65.90        55.70   \n",
       "Albania                            1.71            12.90       107.00   \n",
       "Algeria                            2.64            23.10        17.60   \n",
       "Angola                             5.55            81.60        24.70   \n",
       "Antigua and Barbuda                2.03             7.89       234.00   \n",
       "Argentina                          2.26            10.60        16.30   \n",
       "Armenia                            1.60            12.90       103.00   \n",
       "Australia                          1.83             3.40         3.22   \n",
       "Austria                            1.52             2.89       106.00   \n",
       "Azerbaijan                         2.04            30.30       120.00   \n",
       "\n",
       "                             area  \n",
       "country                            \n",
       "Afghanistan          6.535009e+05  \n",
       "Albania              2.738318e+04  \n",
       "Algeria              2.386364e+06  \n",
       "Angola               1.246964e+06  \n",
       "Antigua and Barbuda  4.401709e+02  \n",
       "Argentina            2.742331e+06  \n",
       "Armenia              2.844660e+04  \n",
       "Australia            7.701863e+06  \n",
       "Austria              8.254717e+04  \n",
       "Azerbaijan           8.266667e+04  "
      ]
     },
     "execution_count": 4,
     "metadata": {},
     "output_type": "execute_result"
    }
   ],
   "source": [
    "world_new.head(10)"
   ]
  },
  {
   "cell_type": "markdown",
   "metadata": {
    "slideshow": {
     "slide_type": "slide"
    }
   },
   "source": [
    "# Exercise 5.1"
   ]
  },
  {
   "cell_type": "markdown",
   "metadata": {
    "slideshow": {
     "slide_type": "slide"
    }
   },
   "source": [
    "a) Use `iloc` to select the cell in row 5, column 8 of `world_new`."
   ]
  },
  {
   "cell_type": "code",
   "execution_count": 5,
   "metadata": {},
   "outputs": [
    {
     "data": {
      "text/plain": [
       "16.3"
      ]
     },
     "execution_count": 5,
     "metadata": {},
     "output_type": "execute_result"
    }
   ],
   "source": [
    "world_new.iloc[5, 8]"
   ]
  },
  {
   "cell_type": "markdown",
   "metadata": {
    "slideshow": {
     "slide_type": "slide"
    }
   },
   "source": [
    "b) Same as a) but using `loc`."
   ]
  },
  {
   "cell_type": "code",
   "execution_count": 6,
   "metadata": {},
   "outputs": [
    {
     "data": {
      "text/plain": [
       "16.3"
      ]
     },
     "execution_count": 6,
     "metadata": {},
     "output_type": "execute_result"
    }
   ],
   "source": [
    "world_new.loc['Argentina', 'pop_density']"
   ]
  },
  {
   "cell_type": "markdown",
   "metadata": {
    "slideshow": {
     "slide_type": "slide"
    }
   },
   "source": [
    "c) Use `loc` to select the cell in `world_new` containing the population of Australia."
   ]
  },
  {
   "cell_type": "code",
   "execution_count": 7,
   "metadata": {},
   "outputs": [
    {
     "data": {
      "text/plain": [
       "24800000"
      ]
     },
     "execution_count": 7,
     "metadata": {},
     "output_type": "execute_result"
    }
   ],
   "source": [
    "world_new.loc['Australia', 'population']"
   ]
  },
  {
   "cell_type": "markdown",
   "metadata": {
    "slideshow": {
     "slide_type": "slide"
    }
   },
   "source": [
    "d) Same as c) but using `iloc`"
   ]
  },
  {
   "cell_type": "code",
   "execution_count": 8,
   "metadata": {},
   "outputs": [
    {
     "data": {
      "text/plain": [
       "24800000"
      ]
     },
     "execution_count": 8,
     "metadata": {},
     "output_type": "execute_result"
    }
   ],
   "source": [
    "world_new.iloc[7, 0]"
   ]
  },
  {
   "cell_type": "markdown",
   "metadata": {
    "slideshow": {
     "slide_type": "slide"
    }
   },
   "source": [
    "# Exercise 5.2\n",
    "\n",
    "a) Use `iloc` to select the rows 150 up to and including 160, and the first 3 columns of `world_new`."
   ]
  },
  {
   "cell_type": "code",
   "execution_count": 9,
   "metadata": {},
   "outputs": [
    {
     "data": {
      "text/html": [
       "<div>\n",
       "<style scoped>\n",
       "    .dataframe tbody tr th:only-of-type {\n",
       "        vertical-align: middle;\n",
       "    }\n",
       "\n",
       "    .dataframe tbody tr th {\n",
       "        vertical-align: top;\n",
       "    }\n",
       "\n",
       "    .dataframe thead th {\n",
       "        text-align: right;\n",
       "    }\n",
       "</style>\n",
       "<table border=\"1\" class=\"dataframe\">\n",
       "  <thead>\n",
       "    <tr style=\"text-align: right;\">\n",
       "      <th></th>\n",
       "      <th>population</th>\n",
       "      <th>region</th>\n",
       "      <th>sub_region</th>\n",
       "    </tr>\n",
       "    <tr>\n",
       "      <th>country</th>\n",
       "      <th></th>\n",
       "      <th></th>\n",
       "      <th></th>\n",
       "    </tr>\n",
       "  </thead>\n",
       "  <tbody>\n",
       "    <tr>\n",
       "      <th>Suriname</th>\n",
       "      <td>568000</td>\n",
       "      <td>Americas</td>\n",
       "      <td>Latin America and the Caribbean</td>\n",
       "    </tr>\n",
       "    <tr>\n",
       "      <th>Swaziland</th>\n",
       "      <td>1390000</td>\n",
       "      <td>Africa</td>\n",
       "      <td>Sub-Saharan Africa</td>\n",
       "    </tr>\n",
       "    <tr>\n",
       "      <th>Sweden</th>\n",
       "      <td>9980000</td>\n",
       "      <td>Europe</td>\n",
       "      <td>Northern Europe</td>\n",
       "    </tr>\n",
       "    <tr>\n",
       "      <th>Switzerland</th>\n",
       "      <td>8540000</td>\n",
       "      <td>Europe</td>\n",
       "      <td>Western Europe</td>\n",
       "    </tr>\n",
       "    <tr>\n",
       "      <th>Syria</th>\n",
       "      <td>18300000</td>\n",
       "      <td>Asia</td>\n",
       "      <td>Western Asia</td>\n",
       "    </tr>\n",
       "    <tr>\n",
       "      <th>Tajikistan</th>\n",
       "      <td>9110000</td>\n",
       "      <td>Asia</td>\n",
       "      <td>Central Asia</td>\n",
       "    </tr>\n",
       "    <tr>\n",
       "      <th>Tanzania</th>\n",
       "      <td>59100000</td>\n",
       "      <td>Africa</td>\n",
       "      <td>Sub-Saharan Africa</td>\n",
       "    </tr>\n",
       "    <tr>\n",
       "      <th>Thailand</th>\n",
       "      <td>69200000</td>\n",
       "      <td>Asia</td>\n",
       "      <td>South-eastern Asia</td>\n",
       "    </tr>\n",
       "    <tr>\n",
       "      <th>Timor-Leste</th>\n",
       "      <td>1320000</td>\n",
       "      <td>Asia</td>\n",
       "      <td>South-eastern Asia</td>\n",
       "    </tr>\n",
       "    <tr>\n",
       "      <th>Togo</th>\n",
       "      <td>7990000</td>\n",
       "      <td>Africa</td>\n",
       "      <td>Sub-Saharan Africa</td>\n",
       "    </tr>\n",
       "    <tr>\n",
       "      <th>Tonga</th>\n",
       "      <td>109000</td>\n",
       "      <td>Oceania</td>\n",
       "      <td>Polynesia</td>\n",
       "    </tr>\n",
       "  </tbody>\n",
       "</table>\n",
       "</div>"
      ],
      "text/plain": [
       "             population    region                       sub_region\n",
       "country                                                           \n",
       "Suriname         568000  Americas  Latin America and the Caribbean\n",
       "Swaziland       1390000    Africa               Sub-Saharan Africa\n",
       "Sweden          9980000    Europe                  Northern Europe\n",
       "Switzerland     8540000    Europe                   Western Europe\n",
       "Syria          18300000      Asia                     Western Asia\n",
       "Tajikistan      9110000      Asia                     Central Asia\n",
       "Tanzania       59100000    Africa               Sub-Saharan Africa\n",
       "Thailand       69200000      Asia               South-eastern Asia\n",
       "Timor-Leste     1320000      Asia               South-eastern Asia\n",
       "Togo            7990000    Africa               Sub-Saharan Africa\n",
       "Tonga            109000   Oceania                        Polynesia"
      ]
     },
     "execution_count": 9,
     "metadata": {},
     "output_type": "execute_result"
    }
   ],
   "source": [
    "world_new.iloc[150:161, :3]"
   ]
  },
  {
   "cell_type": "markdown",
   "metadata": {
    "slideshow": {
     "slide_type": "-"
    }
   },
   "source": [
    "b) Use `iloc` to select every tenth row (starting from 0) and columns 2, 0, and 3 of world_new."
   ]
  },
  {
   "cell_type": "code",
   "execution_count": 10,
   "metadata": {},
   "outputs": [
    {
     "data": {
      "text/html": [
       "<div>\n",
       "<style scoped>\n",
       "    .dataframe tbody tr th:only-of-type {\n",
       "        vertical-align: middle;\n",
       "    }\n",
       "\n",
       "    .dataframe tbody tr th {\n",
       "        vertical-align: top;\n",
       "    }\n",
       "\n",
       "    .dataframe thead th {\n",
       "        text-align: right;\n",
       "    }\n",
       "</style>\n",
       "<table border=\"1\" class=\"dataframe\">\n",
       "  <thead>\n",
       "    <tr style=\"text-align: right;\">\n",
       "      <th></th>\n",
       "      <th>sub_region</th>\n",
       "      <th>population</th>\n",
       "      <th>income_group</th>\n",
       "    </tr>\n",
       "    <tr>\n",
       "      <th>country</th>\n",
       "      <th></th>\n",
       "      <th></th>\n",
       "      <th></th>\n",
       "    </tr>\n",
       "  </thead>\n",
       "  <tbody>\n",
       "    <tr>\n",
       "      <th>Afghanistan</th>\n",
       "      <td>Southern Asia</td>\n",
       "      <td>36400000</td>\n",
       "      <td>Low</td>\n",
       "    </tr>\n",
       "    <tr>\n",
       "      <th>Bahamas</th>\n",
       "      <td>Latin America and the Caribbean</td>\n",
       "      <td>399000</td>\n",
       "      <td>High</td>\n",
       "    </tr>\n",
       "    <tr>\n",
       "      <th>Bosnia and Herzegovina</th>\n",
       "      <td>Southern Europe</td>\n",
       "      <td>3500000</td>\n",
       "      <td>Upper middle</td>\n",
       "    </tr>\n",
       "    <tr>\n",
       "      <th>Chad</th>\n",
       "      <td>Sub-Saharan Africa</td>\n",
       "      <td>15400000</td>\n",
       "      <td>Low</td>\n",
       "    </tr>\n",
       "    <tr>\n",
       "      <th>Cuba</th>\n",
       "      <td>Latin America and the Caribbean</td>\n",
       "      <td>11500000</td>\n",
       "      <td>Upper middle</td>\n",
       "    </tr>\n",
       "    <tr>\n",
       "      <th>Eritrea</th>\n",
       "      <td>Sub-Saharan Africa</td>\n",
       "      <td>5190000</td>\n",
       "      <td>Low</td>\n",
       "    </tr>\n",
       "    <tr>\n",
       "      <th>Ghana</th>\n",
       "      <td>Sub-Saharan Africa</td>\n",
       "      <td>29500000</td>\n",
       "      <td>Lower middle</td>\n",
       "    </tr>\n",
       "    <tr>\n",
       "      <th>Iceland</th>\n",
       "      <td>Northern Europe</td>\n",
       "      <td>338000</td>\n",
       "      <td>High</td>\n",
       "    </tr>\n",
       "    <tr>\n",
       "      <th>Jordan</th>\n",
       "      <td>Western Asia</td>\n",
       "      <td>9900000</td>\n",
       "      <td>Upper middle</td>\n",
       "    </tr>\n",
       "    <tr>\n",
       "      <th>Liberia</th>\n",
       "      <td>Sub-Saharan Africa</td>\n",
       "      <td>4850000</td>\n",
       "      <td>Low</td>\n",
       "    </tr>\n",
       "    <tr>\n",
       "      <th>Malta</th>\n",
       "      <td>Southern Europe</td>\n",
       "      <td>432000</td>\n",
       "      <td>High</td>\n",
       "    </tr>\n",
       "    <tr>\n",
       "      <th>Namibia</th>\n",
       "      <td>Sub-Saharan Africa</td>\n",
       "      <td>2590000</td>\n",
       "      <td>Upper middle</td>\n",
       "    </tr>\n",
       "    <tr>\n",
       "      <th>Pakistan</th>\n",
       "      <td>Southern Asia</td>\n",
       "      <td>201000000</td>\n",
       "      <td>Lower middle</td>\n",
       "    </tr>\n",
       "    <tr>\n",
       "      <th>Romania</th>\n",
       "      <td>Eastern Europe</td>\n",
       "      <td>19600000</td>\n",
       "      <td>Upper middle</td>\n",
       "    </tr>\n",
       "    <tr>\n",
       "      <th>Slovak Republic</th>\n",
       "      <td>Eastern Europe</td>\n",
       "      <td>5450000</td>\n",
       "      <td>High</td>\n",
       "    </tr>\n",
       "    <tr>\n",
       "      <th>Suriname</th>\n",
       "      <td>Latin America and the Caribbean</td>\n",
       "      <td>568000</td>\n",
       "      <td>Upper middle</td>\n",
       "    </tr>\n",
       "    <tr>\n",
       "      <th>Tonga</th>\n",
       "      <td>Polynesia</td>\n",
       "      <td>109000</td>\n",
       "      <td>Upper middle</td>\n",
       "    </tr>\n",
       "    <tr>\n",
       "      <th>Uruguay</th>\n",
       "      <td>Latin America and the Caribbean</td>\n",
       "      <td>3470000</td>\n",
       "      <td>High</td>\n",
       "    </tr>\n",
       "  </tbody>\n",
       "</table>\n",
       "</div>"
      ],
      "text/plain": [
       "                                             sub_region  population  \\\n",
       "country                                                               \n",
       "Afghanistan                               Southern Asia    36400000   \n",
       "Bahamas                 Latin America and the Caribbean      399000   \n",
       "Bosnia and Herzegovina                  Southern Europe     3500000   \n",
       "Chad                                 Sub-Saharan Africa    15400000   \n",
       "Cuba                    Latin America and the Caribbean    11500000   \n",
       "Eritrea                              Sub-Saharan Africa     5190000   \n",
       "Ghana                                Sub-Saharan Africa    29500000   \n",
       "Iceland                                 Northern Europe      338000   \n",
       "Jordan                                     Western Asia     9900000   \n",
       "Liberia                              Sub-Saharan Africa     4850000   \n",
       "Malta                                   Southern Europe      432000   \n",
       "Namibia                              Sub-Saharan Africa     2590000   \n",
       "Pakistan                                  Southern Asia   201000000   \n",
       "Romania                                  Eastern Europe    19600000   \n",
       "Slovak Republic                          Eastern Europe     5450000   \n",
       "Suriname                Latin America and the Caribbean      568000   \n",
       "Tonga                                         Polynesia      109000   \n",
       "Uruguay                 Latin America and the Caribbean     3470000   \n",
       "\n",
       "                        income_group  \n",
       "country                               \n",
       "Afghanistan                      Low  \n",
       "Bahamas                         High  \n",
       "Bosnia and Herzegovina  Upper middle  \n",
       "Chad                             Low  \n",
       "Cuba                    Upper middle  \n",
       "Eritrea                          Low  \n",
       "Ghana                   Lower middle  \n",
       "Iceland                         High  \n",
       "Jordan                  Upper middle  \n",
       "Liberia                          Low  \n",
       "Malta                           High  \n",
       "Namibia                 Upper middle  \n",
       "Pakistan                Lower middle  \n",
       "Romania                 Upper middle  \n",
       "Slovak Republic                 High  \n",
       "Suriname                Upper middle  \n",
       "Tonga                   Upper middle  \n",
       "Uruguay                         High  "
      ]
     },
     "execution_count": 10,
     "metadata": {},
     "output_type": "execute_result"
    }
   ],
   "source": [
    "world_new.iloc[::10, [2, 0, 3]]"
   ]
  },
  {
   "cell_type": "markdown",
   "metadata": {
    "slideshow": {
     "slide_type": "slide"
    }
   },
   "source": [
    "# Exercise 5.3\n",
    "\n",
    "a) Use `loc` to select the GDP per capita and population density in Canada, United States, and Mexico."
   ]
  },
  {
   "cell_type": "code",
   "execution_count": 11,
   "metadata": {},
   "outputs": [
    {
     "data": {
      "text/html": [
       "<div>\n",
       "<style scoped>\n",
       "    .dataframe tbody tr th:only-of-type {\n",
       "        vertical-align: middle;\n",
       "    }\n",
       "\n",
       "    .dataframe tbody tr th {\n",
       "        vertical-align: top;\n",
       "    }\n",
       "\n",
       "    .dataframe thead th {\n",
       "        text-align: right;\n",
       "    }\n",
       "</style>\n",
       "<table border=\"1\" class=\"dataframe\">\n",
       "  <thead>\n",
       "    <tr style=\"text-align: right;\">\n",
       "      <th></th>\n",
       "      <th>gdp_per_capita</th>\n",
       "      <th>pop_density</th>\n",
       "    </tr>\n",
       "    <tr>\n",
       "      <th>country</th>\n",
       "      <th></th>\n",
       "      <th></th>\n",
       "    </tr>\n",
       "  </thead>\n",
       "  <tbody>\n",
       "    <tr>\n",
       "      <th>Canada</th>\n",
       "      <td>43800</td>\n",
       "      <td>4.06</td>\n",
       "    </tr>\n",
       "    <tr>\n",
       "      <th>United States</th>\n",
       "      <td>54900</td>\n",
       "      <td>35.70</td>\n",
       "    </tr>\n",
       "    <tr>\n",
       "      <th>Mexico</th>\n",
       "      <td>17300</td>\n",
       "      <td>67.30</td>\n",
       "    </tr>\n",
       "  </tbody>\n",
       "</table>\n",
       "</div>"
      ],
      "text/plain": [
       "               gdp_per_capita  pop_density\n",
       "country                                   \n",
       "Canada                  43800         4.06\n",
       "United States           54900        35.70\n",
       "Mexico                  17300        67.30"
      ]
     },
     "execution_count": 11,
     "metadata": {},
     "output_type": "execute_result"
    }
   ],
   "source": [
    "countries = ['Canada', 'United States', 'Mexico']\n",
    "world_new.loc[countries, ['gdp_per_capita', 'pop_density']]"
   ]
  },
  {
   "cell_type": "markdown",
   "metadata": {},
   "source": [
    "b) Use `loc` to select rows where the GDP per capita is greater than `50000`, and a column slice from `'life_expectancy'` through `'children_per_woman'` (inclusive)."
   ]
  },
  {
   "cell_type": "code",
   "execution_count": 12,
   "metadata": {},
   "outputs": [
    {
     "data": {
      "text/html": [
       "<div>\n",
       "<style scoped>\n",
       "    .dataframe tbody tr th:only-of-type {\n",
       "        vertical-align: middle;\n",
       "    }\n",
       "\n",
       "    .dataframe tbody tr th {\n",
       "        vertical-align: top;\n",
       "    }\n",
       "\n",
       "    .dataframe thead th {\n",
       "        text-align: right;\n",
       "    }\n",
       "</style>\n",
       "<table border=\"1\" class=\"dataframe\">\n",
       "  <thead>\n",
       "    <tr style=\"text-align: right;\">\n",
       "      <th></th>\n",
       "      <th>life_expectancy</th>\n",
       "      <th>gdp_per_capita</th>\n",
       "      <th>children_per_woman</th>\n",
       "    </tr>\n",
       "    <tr>\n",
       "      <th>country</th>\n",
       "      <th></th>\n",
       "      <th></th>\n",
       "      <th></th>\n",
       "    </tr>\n",
       "  </thead>\n",
       "  <tbody>\n",
       "    <tr>\n",
       "      <th>Ireland</th>\n",
       "      <td>81.5</td>\n",
       "      <td>65600</td>\n",
       "      <td>1.98</td>\n",
       "    </tr>\n",
       "    <tr>\n",
       "      <th>Kuwait</th>\n",
       "      <td>80.0</td>\n",
       "      <td>68400</td>\n",
       "      <td>1.95</td>\n",
       "    </tr>\n",
       "    <tr>\n",
       "      <th>Luxembourg</th>\n",
       "      <td>82.4</td>\n",
       "      <td>99000</td>\n",
       "      <td>1.59</td>\n",
       "    </tr>\n",
       "    <tr>\n",
       "      <th>Norway</th>\n",
       "      <td>82.4</td>\n",
       "      <td>64800</td>\n",
       "      <td>1.83</td>\n",
       "    </tr>\n",
       "    <tr>\n",
       "      <th>Qatar</th>\n",
       "      <td>80.7</td>\n",
       "      <td>121000</td>\n",
       "      <td>1.87</td>\n",
       "    </tr>\n",
       "    <tr>\n",
       "      <th>Saudi Arabia</th>\n",
       "      <td>77.6</td>\n",
       "      <td>50100</td>\n",
       "      <td>2.45</td>\n",
       "    </tr>\n",
       "    <tr>\n",
       "      <th>Singapore</th>\n",
       "      <td>84.0</td>\n",
       "      <td>83900</td>\n",
       "      <td>1.26</td>\n",
       "    </tr>\n",
       "    <tr>\n",
       "      <th>Switzerland</th>\n",
       "      <td>83.5</td>\n",
       "      <td>57100</td>\n",
       "      <td>1.55</td>\n",
       "    </tr>\n",
       "    <tr>\n",
       "      <th>United Arab Emirates</th>\n",
       "      <td>76.9</td>\n",
       "      <td>68200</td>\n",
       "      <td>1.72</td>\n",
       "    </tr>\n",
       "    <tr>\n",
       "      <th>United States</th>\n",
       "      <td>79.1</td>\n",
       "      <td>54900</td>\n",
       "      <td>1.90</td>\n",
       "    </tr>\n",
       "  </tbody>\n",
       "</table>\n",
       "</div>"
      ],
      "text/plain": [
       "                      life_expectancy  gdp_per_capita  children_per_woman\n",
       "country                                                                  \n",
       "Ireland                          81.5           65600                1.98\n",
       "Kuwait                           80.0           68400                1.95\n",
       "Luxembourg                       82.4           99000                1.59\n",
       "Norway                           82.4           64800                1.83\n",
       "Qatar                            80.7          121000                1.87\n",
       "Saudi Arabia                     77.6           50100                2.45\n",
       "Singapore                        84.0           83900                1.26\n",
       "Switzerland                      83.5           57100                1.55\n",
       "United Arab Emirates             76.9           68200                1.72\n",
       "United States                    79.1           54900                1.90"
      ]
     },
     "execution_count": 12,
     "metadata": {},
     "output_type": "execute_result"
    }
   ],
   "source": [
    "rich = world_new['gdp_per_capita'] > 50000\n",
    "world_new.loc[rich, 'life_expectancy' : 'children_per_woman']"
   ]
  },
  {
   "cell_type": "code",
   "execution_count": null,
   "metadata": {},
   "outputs": [],
   "source": []
  }
 ],
 "metadata": {
  "kernelspec": {
   "display_name": "Python [default]",
   "language": "python",
   "name": "python3"
  },
  "language_info": {
   "codemirror_mode": {
    "name": "ipython",
    "version": 3
   },
   "file_extension": ".py",
   "mimetype": "text/x-python",
   "name": "python",
   "nbconvert_exporter": "python",
   "pygments_lexer": "ipython3",
   "version": "3.6.4"
  }
 },
 "nbformat": 4,
 "nbformat_minor": 2
}
